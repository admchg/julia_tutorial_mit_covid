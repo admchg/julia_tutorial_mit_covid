{
 "cells": [
  {
   "cell_type": "code",
   "execution_count": 1,
   "metadata": {},
   "outputs": [
    {
     "data": {
      "text/plain": [
       "\"https://raw.githubusercontent.com/CSSEGISandData/COVID-19/master/csse_covid_19_data/csse_covid_19_time_series/time_series_covid19_confirmed_global.csv\""
      ]
     },
     "execution_count": 1,
     "metadata": {},
     "output_type": "execute_result"
    }
   ],
   "source": [
    "url = \"https://raw.githubusercontent.com/CSSEGISandData/COVID-19/master/csse_covid_19_data/csse_covid_19_time_series/time_series_covid19_confirmed_global.csv\""
   ]
  },
  {
   "cell_type": "code",
   "execution_count": 2,
   "metadata": {},
   "outputs": [
    {
     "data": {
      "text/plain": [
       "\"covid_data.csv\""
      ]
     },
     "execution_count": 2,
     "metadata": {},
     "output_type": "execute_result"
    }
   ],
   "source": [
    "download(url, \"covid_data.csv\")"
   ]
  },
  {
   "cell_type": "code",
   "execution_count": 3,
   "metadata": {},
   "outputs": [],
   "source": [
    "using CSV\n",
    "using DataFrames\n"
   ]
  },
  {
   "cell_type": "code",
   "execution_count": 4,
   "metadata": {},
   "outputs": [],
   "source": [
    "df = CSV.read(\"covid_data.csv\", DataFrame);"
   ]
  },
  {
   "cell_type": "code",
   "execution_count": 5,
   "metadata": {},
   "outputs": [],
   "source": [
    "rename!(df, 1 => \"province\", 2 => \"country\");"
   ]
  },
  {
   "cell_type": "code",
   "execution_count": 10,
   "metadata": {},
   "outputs": [
    {
     "data": {
      "text/plain": [
       "273-element Array{String,1}:\n",
       " \"Afghanistan\"\n",
       " \"Albania\"\n",
       " \"Algeria\"\n",
       " \"Andorra\"\n",
       " \"Angola\"\n",
       " \"Antigua and Barbuda\"\n",
       " \"Argentina\"\n",
       " \"Armenia\"\n",
       " \"Australia\"\n",
       " \"Australia\"\n",
       " \"Australia\"\n",
       " \"Australia\"\n",
       " \"Australia\"\n",
       " ⋮\n",
       " \"United Kingdom\"\n",
       " \"United Kingdom\"\n",
       " \"United Kingdom\"\n",
       " \"Uruguay\"\n",
       " \"Uzbekistan\"\n",
       " \"Vanuatu\"\n",
       " \"Venezuela\"\n",
       " \"Vietnam\"\n",
       " \"West Bank and Gaza\"\n",
       " \"Yemen\"\n",
       " \"Zambia\"\n",
       " \"Zimbabwe\""
      ]
     },
     "execution_count": 10,
     "metadata": {},
     "output_type": "execute_result"
    }
   ],
   "source": [
    "countries = collect(df[:, 2])"
   ]
  },
  {
   "cell_type": "code",
   "execution_count": 11,
   "metadata": {},
   "outputs": [
    {
     "data": {
      "text/plain": [
       "192-element Array{String,1}:\n",
       " \"Afghanistan\"\n",
       " \"Albania\"\n",
       " \"Algeria\"\n",
       " \"Andorra\"\n",
       " \"Angola\"\n",
       " \"Antigua and Barbuda\"\n",
       " \"Argentina\"\n",
       " \"Armenia\"\n",
       " \"Australia\"\n",
       " \"Austria\"\n",
       " \"Azerbaijan\"\n",
       " \"Bahamas\"\n",
       " \"Bahrain\"\n",
       " ⋮\n",
       " \"Ukraine\"\n",
       " \"United Arab Emirates\"\n",
       " \"United Kingdom\"\n",
       " \"Uruguay\"\n",
       " \"Uzbekistan\"\n",
       " \"Vanuatu\"\n",
       " \"Venezuela\"\n",
       " \"Vietnam\"\n",
       " \"West Bank and Gaza\"\n",
       " \"Yemen\"\n",
       " \"Zambia\"\n",
       " \"Zimbabwe\""
      ]
     },
     "execution_count": 11,
     "metadata": {},
     "output_type": "execute_result"
    }
   ],
   "source": [
    "unique_countries = unique(countries)"
   ]
  },
  {
   "cell_type": "markdown",
   "metadata": {},
   "source": [
    "## Interact"
   ]
  },
  {
   "cell_type": "code",
   "execution_count": 6,
   "metadata": {},
   "outputs": [
    {
     "data": {
      "text/html": [
       "<script>\n",
       "// Immediately-invoked-function-expression to avoid global variables.\n",
       "(function() {\n",
       "    var warning_div = document.getElementById(\"webio-warning-5994973430928319842\");\n",
       "    var hide = function () {\n",
       "        var script = document.getElementById(\"webio-setup-11405420099731897\");\n",
       "        var parent = script && script.parentElement;\n",
       "        var grandparent = parent && parent.parentElement;\n",
       "        if (grandparent) {\n",
       "            grandparent.style.display = \"none\";\n",
       "        }\n",
       "        warning_div.style.display = \"none\";\n",
       "    };\n",
       "    if (typeof Jupyter !== \"undefined\") {\n",
       "        console.log(\"WebIO detected Jupyter notebook environment.\");\n",
       "        // Jupyter notebook.\n",
       "        var extensions = (\n",
       "            Jupyter\n",
       "            && Jupyter.notebook.config.data\n",
       "            && Jupyter.notebook.config.data.load_extensions\n",
       "        );\n",
       "        if (extensions && extensions[\"webio-jupyter-notebook\"]) {\n",
       "            // Extension already loaded.\n",
       "            console.log(\"Jupyter WebIO nbextension detected; not loading ad-hoc.\");\n",
       "            hide();\n",
       "            return;\n",
       "        }\n",
       "    } else if (window.location.pathname.includes(\"/lab\")) {\n",
       "        // Guessing JupyterLa\n",
       "        console.log(\"Jupyter Lab detected; make sure the @webio/jupyter-lab-provider labextension is installed.\");\n",
       "        hide();\n",
       "        return;\n",
       "    }\n",
       "})();\n",
       "\n",
       "</script>\n",
       "<p\n",
       "    id=\"webio-warning-5994973430928319842\"\n",
       "    class=\"output_text output_stderr\"\n",
       "    style=\"padding: 1em; font-weight: bold;\"\n",
       ">\n",
       "    Unable to load WebIO. Please make sure WebIO works for your Jupyter client.\n",
       "    For troubleshooting, please see <a href=\"https://juliagizmos.github.io/WebIO.jl/latest/providers/ijulia/\">\n",
       "    the WebIO/IJulia documentation</a>.\n",
       "    <!-- TODO: link to installation docs. -->\n",
       "</p>\n"
      ],
      "text/plain": [
       "HTML{String}(\"<script>\\n// Immediately-invoked-function-expression to avoid global variables.\\n(function() {\\n    var warning_div = document.getElementById(\\\"webio-warning-5994973430928319842\\\");\\n    var hide = function () {\\n        var script = document.getElementById(\\\"webio-setup-11405420099731897\\\");\\n        var parent = script && script.parentElement;\\n        var grandparent = parent && parent.parentElement;\\n        if (grandparent) {\\n            grandparent.style.display = \\\"none\\\";\\n        }\\n        warning_div.style.display = \\\"none\\\";\\n    };\\n    if (typeof Jupyter !== \\\"undefined\\\") {\\n        console.log(\\\"WebIO detected Jupyter notebook environment.\\\");\\n        // Jupyter notebook.\\n        var extensions = (\\n            Jupyter\\n            && Jupyter.notebook.config.data\\n            && Jupyter.notebook.config.data.load_extensions\\n        );\\n        if (extensions && extensions[\\\"webio-jupyter-notebook\\\"]) {\\n            // Extension already loaded.\\n            console.log(\\\"Jupyter WebIO nbextension detected; not loading ad-hoc.\\\");\\n            hide();\\n            return;\\n        }\\n    } else if (window.location.pathname.includes(\\\"/lab\\\")) {\\n        // Guessing JupyterLa\\n        console.log(\\\"Jupyter Lab detected; make sure the @webio/jupyter-lab-provider labextension is installed.\\\");\\n        hide();\\n        return;\\n    }\\n})();\\n\\n</script>\\n<p\\n    id=\\\"webio-warning-5994973430928319842\\\"\\n    class=\\\"output_text output_stderr\\\"\\n    style=\\\"padding: 1em; font-weight: bold;\\\"\\n>\\n    Unable to load WebIO. Please make sure WebIO works for your Jupyter client.\\n    For troubleshooting, please see <a href=\\\"https://juliagizmos.github.io/WebIO.jl/latest/providers/ijulia/\\\">\\n    the WebIO/IJulia documentation</a>.\\n    <!-- TODO: link to installation docs. -->\\n</p>\\n\")"
      ]
     },
     "metadata": {},
     "output_type": "display_data"
    }
   ],
   "source": [
    "using Interact"
   ]
  },
  {
   "cell_type": "code",
   "execution_count": 12,
   "metadata": {},
   "outputs": [
    {
     "data": {
      "application/vnd.webio.node+json": {
       "children": [
        {
         "children": [
          {
           "children": [
            {
             "children": [
              {
               "children": [
                {
                 "children": [
                  "i"
                 ],
                 "instanceArgs": {
                  "namespace": "html",
                  "tag": "label"
                 },
                 "nodeType": "DOM",
                 "props": {
                  "className": "interact ",
                  "style": {
                   "padding": "5px 10px 0px 10px"
                  }
                 },
                 "type": "node"
                }
               ],
               "instanceArgs": {
                "namespace": "html",
                "tag": "div"
               },
               "nodeType": "DOM",
               "props": {
                "className": "interact-flex-row-left"
               },
               "type": "node"
              },
              {
               "children": [
                {
                 "children": [],
                 "instanceArgs": {
                  "namespace": "html",
                  "tag": "input"
                 },
                 "nodeType": "DOM",
                 "props": {
                  "attributes": {
                   "data-bind": "numericValue: index, valueUpdate: 'input', event: {change: function (){this.changes(this.changes()+1)}}",
                   "orient": "horizontal",
                   "type": "range"
                  },
                  "className": "slider slider is-fullwidth",
                  "max": 273,
                  "min": 1,
                  "step": 1,
                  "style": {}
                 },
                 "type": "node"
                }
               ],
               "instanceArgs": {
                "namespace": "html",
                "tag": "div"
               },
               "nodeType": "DOM",
               "props": {
                "className": "interact-flex-row-center"
               },
               "type": "node"
              },
              {
               "children": [
                {
                 "children": [],
                 "instanceArgs": {
                  "namespace": "html",
                  "tag": "p"
                 },
                 "nodeType": "DOM",
                 "props": {
                  "attributes": {
                   "data-bind": "text: formatted_val"
                  }
                 },
                 "type": "node"
                }
               ],
               "instanceArgs": {
                "namespace": "html",
                "tag": "div"
               },
               "nodeType": "DOM",
               "props": {
                "className": "interact-flex-row-right"
               },
               "type": "node"
              }
             ],
             "instanceArgs": {
              "namespace": "html",
              "tag": "div"
             },
             "nodeType": "DOM",
             "props": {
              "className": "interact-flex-row interact-widget"
             },
             "type": "node"
            }
           ],
           "instanceArgs": {
            "handlers": {
             "changes": [
              "(function (val){return (val!=this.model[\"changes\"]()) ? (this.valueFromJulia[\"changes\"]=true, this.model[\"changes\"](val)) : undefined})"
             ],
             "index": [
              "(function (val){return (val!=this.model[\"index\"]()) ? (this.valueFromJulia[\"index\"]=true, this.model[\"index\"](val)) : undefined})"
             ]
            },
            "id": "1949373286058340641",
            "imports": {
             "data": [
              {
               "name": "knockout",
               "type": "js",
               "url": "/assetserver/61cd1489edbfb968f3c1d6c2cc46f9d9998322aa-knockout.js"
              },
              {
               "name": "knockout_punches",
               "type": "js",
               "url": "/assetserver/e59f3ae822cf03cf91003b09114a1530c12b518e-knockout_punches.js"
              },
              {
               "name": null,
               "type": "js",
               "url": "/assetserver/3187e79ecb0bab45e7cae241f0d72f2d4f448540-all.js"
              },
              {
               "name": null,
               "type": "css",
               "url": "/assetserver/394d415552cea0322db7266d97bca15f9d0530cd-style.css"
              },
              {
               "name": null,
               "type": "css",
               "url": "/assetserver/93a1a1a4eb0d38844bb243cdb4ff7cf66fd52dd9-bulma_confined.min.css"
              }
             ],
             "type": "async_block"
            },
            "mount_callbacks": [
             "function () {\n    var handler = (function (ko, koPunches) {\n    ko.punches.enableAll();\n    ko.bindingHandlers.numericValue = {\n        init: function(element, valueAccessor, allBindings, data, context) {\n            var stringified = ko.observable(ko.unwrap(valueAccessor()));\n            stringified.subscribe(function(value) {\n                var val = parseFloat(value);\n                if (!isNaN(val)) {\n                    valueAccessor()(val);\n                }\n            });\n            valueAccessor().subscribe(function(value) {\n                var str = JSON.stringify(value);\n                if ((str == \"0\") && ([\"-0\", \"-0.\"].indexOf(stringified()) >= 0))\n                     return;\n                 if ([\"null\", \"\"].indexOf(str) >= 0)\n                     return;\n                stringified(str);\n            });\n            ko.applyBindingsToNode(\n                element,\n                {\n                    value: stringified,\n                    valueUpdate: allBindings.get('valueUpdate'),\n                },\n                context,\n            );\n        }\n    };\n    var json_data = {\"formatted_vals\":[\"1\",\"2\",\"3\",\"4\",\"5\",\"6\",\"7\",\"8\",\"9\",\"10\",\"11\",\"12\",\"13\",\"14\",\"15\",\"16\",\"17\",\"18\",\"19\",\"20\",\"21\",\"22\",\"23\",\"24\",\"25\",\"26\",\"27\",\"28\",\"29\",\"30\",\"31\",\"32\",\"33\",\"34\",\"35\",\"36\",\"37\",\"38\",\"39\",\"40\",\"41\",\"42\",\"43\",\"44\",\"45\",\"46\",\"47\",\"48\",\"49\",\"50\",\"51\",\"52\",\"53\",\"54\",\"55\",\"56\",\"57\",\"58\",\"59\",\"60\",\"61\",\"62\",\"63\",\"64\",\"65\",\"66\",\"67\",\"68\",\"69\",\"70\",\"71\",\"72\",\"73\",\"74\",\"75\",\"76\",\"77\",\"78\",\"79\",\"80\",\"81\",\"82\",\"83\",\"84\",\"85\",\"86\",\"87\",\"88\",\"89\",\"90\",\"91\",\"92\",\"93\",\"94\",\"95\",\"96\",\"97\",\"98\",\"99\",\"100\",\"101\",\"102\",\"103\",\"104\",\"105\",\"106\",\"107\",\"108\",\"109\",\"110\",\"111\",\"112\",\"113\",\"114\",\"115\",\"116\",\"117\",\"118\",\"119\",\"120\",\"121\",\"122\",\"123\",\"124\",\"125\",\"126\",\"127\",\"128\",\"129\",\"130\",\"131\",\"132\",\"133\",\"134\",\"135\",\"136\",\"137\",\"138\",\"139\",\"140\",\"141\",\"142\",\"143\",\"144\",\"145\",\"146\",\"147\",\"148\",\"149\",\"150\",\"151\",\"152\",\"153\",\"154\",\"155\",\"156\",\"157\",\"158\",\"159\",\"160\",\"161\",\"162\",\"163\",\"164\",\"165\",\"166\",\"167\",\"168\",\"169\",\"170\",\"171\",\"172\",\"173\",\"174\",\"175\",\"176\",\"177\",\"178\",\"179\",\"180\",\"181\",\"182\",\"183\",\"184\",\"185\",\"186\",\"187\",\"188\",\"189\",\"190\",\"191\",\"192\",\"193\",\"194\",\"195\",\"196\",\"197\",\"198\",\"199\",\"200\",\"201\",\"202\",\"203\",\"204\",\"205\",\"206\",\"207\",\"208\",\"209\",\"210\",\"211\",\"212\",\"213\",\"214\",\"215\",\"216\",\"217\",\"218\",\"219\",\"220\",\"221\",\"222\",\"223\",\"224\",\"225\",\"226\",\"227\",\"228\",\"229\",\"230\",\"231\",\"232\",\"233\",\"234\",\"235\",\"236\",\"237\",\"238\",\"239\",\"240\",\"241\",\"242\",\"243\",\"244\",\"245\",\"246\",\"247\",\"248\",\"249\",\"250\",\"251\",\"252\",\"253\",\"254\",\"255\",\"256\",\"257\",\"258\",\"259\",\"260\",\"261\",\"262\",\"263\",\"264\",\"265\",\"266\",\"267\",\"268\",\"269\",\"270\",\"271\",\"272\",\"273\"],\"changes\":WebIO.getval({\"name\":\"changes\",\"scope\":\"1949373286058340641\",\"id\":\"14918562968407397469\",\"type\":\"observable\"}),\"index\":WebIO.getval({\"name\":\"index\",\"scope\":\"1949373286058340641\",\"id\":\"12120823705736655591\",\"type\":\"observable\"})};\n    var self = this;\n    function AppViewModel() {\n        for (var key in json_data) {\n            var el = json_data[key];\n            this[key] = Array.isArray(el) ? ko.observableArray(el) : ko.observable(el);\n        }\n        \n        [this[\"formatted_val\"]=ko.computed(    function(){\n        return this.formatted_vals()[parseInt(this.index())-(1)];\n    }\n,this)]\n        [this[\"changes\"].subscribe((function (val){!(this.valueFromJulia[\"changes\"]) ? (WebIO.setval({\"name\":\"changes\",\"scope\":\"1949373286058340641\",\"id\":\"14918562968407397469\",\"type\":\"observable\"},val)) : undefined; return this.valueFromJulia[\"changes\"]=false}),self),this[\"index\"].subscribe((function (val){!(this.valueFromJulia[\"index\"]) ? (WebIO.setval({\"name\":\"index\",\"scope\":\"1949373286058340641\",\"id\":\"12120823705736655591\",\"type\":\"observable\"},val)) : undefined; return this.valueFromJulia[\"index\"]=false}),self)]\n        \n    }\n    self.model = new AppViewModel();\n    self.valueFromJulia = {};\n    for (var key in json_data) {\n        self.valueFromJulia[key] = false;\n    }\n    ko.applyBindings(self.model, self.dom);\n}\n);\n    (WebIO.importBlock({\"data\":[{\"name\":\"knockout\",\"type\":\"js\",\"url\":\"/assetserver/61cd1489edbfb968f3c1d6c2cc46f9d9998322aa-knockout.js\"},{\"name\":\"knockout_punches\",\"type\":\"js\",\"url\":\"/assetserver/e59f3ae822cf03cf91003b09114a1530c12b518e-knockout_punches.js\"}],\"type\":\"async_block\"})).then((imports) => handler.apply(this, imports));\n}\n"
            ],
            "observables": {
             "changes": {
              "id": "14918562968407397469",
              "sync": false,
              "value": 0
             },
             "index": {
              "id": "12120823705736655591",
              "sync": true,
              "value": 137
             }
            },
            "systemjs_options": null
           },
           "nodeType": "Scope",
           "props": {},
           "type": "node"
          }
         ],
         "instanceArgs": {
          "namespace": "html",
          "tag": "div"
         },
         "nodeType": "DOM",
         "props": {
          "className": "field interact-widget"
         },
         "type": "node"
        },
        {
         "children": [
          {
           "children": [],
           "instanceArgs": {
            "id": "4122485749659059433",
            "name": "obs-node"
           },
           "nodeType": "ObservableNode",
           "props": {},
           "type": "node"
          }
         ],
         "instanceArgs": {
          "handlers": {},
          "id": "2444634258755036719",
          "imports": {
           "data": [],
           "type": "async_block"
          },
          "mount_callbacks": [],
          "observables": {
           "obs-node": {
            "id": "4122485749659059433",
            "sync": false,
            "value": {
             "children": [
              "Grenada"
             ],
             "instanceArgs": {
              "namespace": "html",
              "tag": "div"
             },
             "nodeType": "DOM",
             "props": {
              "className": "interact-flex-row interact-widget"
             },
             "type": "node"
            }
           }
          },
          "systemjs_options": null
         },
         "nodeType": "Scope",
         "props": {},
         "type": "node"
        }
       ],
       "instanceArgs": {
        "namespace": "html",
        "tag": "div"
       },
       "nodeType": "DOM",
       "props": {},
       "type": "node"
      },
      "text/html": [
       "<div\n",
       "    class=\"webio-mountpoint\"\n",
       "    data-webio-mountpoint=\"1433405067630198493\"\n",
       ">\n",
       "    <script>\n",
       "    if (window.require && require.defined && require.defined(\"nbextensions/webio-jupyter-notebook\")) {\n",
       "        console.log(\"Jupyter WebIO extension detected, not mounting.\");\n",
       "    } else if (window.WebIO) {\n",
       "        WebIO.mount(\n",
       "            document.querySelector('[data-webio-mountpoint=\"1433405067630198493\"]'),\n",
       "            {\"props\":{},\"nodeType\":\"DOM\",\"type\":\"node\",\"instanceArgs\":{\"namespace\":\"html\",\"tag\":\"div\"},\"children\":[{\"props\":{\"className\":\"field interact-widget\"},\"nodeType\":\"DOM\",\"type\":\"node\",\"instanceArgs\":{\"namespace\":\"html\",\"tag\":\"div\"},\"children\":[{\"props\":{},\"nodeType\":\"Scope\",\"type\":\"node\",\"instanceArgs\":{\"imports\":{\"data\":[{\"name\":\"knockout\",\"type\":\"js\",\"url\":\"\\/assetserver\\/61cd1489edbfb968f3c1d6c2cc46f9d9998322aa-knockout.js\"},{\"name\":\"knockout_punches\",\"type\":\"js\",\"url\":\"\\/assetserver\\/e59f3ae822cf03cf91003b09114a1530c12b518e-knockout_punches.js\"},{\"name\":null,\"type\":\"js\",\"url\":\"\\/assetserver\\/3187e79ecb0bab45e7cae241f0d72f2d4f448540-all.js\"},{\"name\":null,\"type\":\"css\",\"url\":\"\\/assetserver\\/394d415552cea0322db7266d97bca15f9d0530cd-style.css\"},{\"name\":null,\"type\":\"css\",\"url\":\"\\/assetserver\\/93a1a1a4eb0d38844bb243cdb4ff7cf66fd52dd9-bulma_confined.min.css\"}],\"type\":\"async_block\"},\"id\":\"1949373286058340641\",\"handlers\":{\"changes\":[\"(function (val){return (val!=this.model[\\\"changes\\\"]()) ? (this.valueFromJulia[\\\"changes\\\"]=true, this.model[\\\"changes\\\"](val)) : undefined})\"],\"index\":[\"(function (val){return (val!=this.model[\\\"index\\\"]()) ? (this.valueFromJulia[\\\"index\\\"]=true, this.model[\\\"index\\\"](val)) : undefined})\"]},\"systemjs_options\":null,\"mount_callbacks\":[\"function () {\\n    var handler = (function (ko, koPunches) {\\n    ko.punches.enableAll();\\n    ko.bindingHandlers.numericValue = {\\n        init: function(element, valueAccessor, allBindings, data, context) {\\n            var stringified = ko.observable(ko.unwrap(valueAccessor()));\\n            stringified.subscribe(function(value) {\\n                var val = parseFloat(value);\\n                if (!isNaN(val)) {\\n                    valueAccessor()(val);\\n                }\\n            });\\n            valueAccessor().subscribe(function(value) {\\n                var str = JSON.stringify(value);\\n                if ((str == \\\"0\\\") && ([\\\"-0\\\", \\\"-0.\\\"].indexOf(stringified()) >= 0))\\n                     return;\\n                 if ([\\\"null\\\", \\\"\\\"].indexOf(str) >= 0)\\n                     return;\\n                stringified(str);\\n            });\\n            ko.applyBindingsToNode(\\n                element,\\n                {\\n                    value: stringified,\\n                    valueUpdate: allBindings.get('valueUpdate'),\\n                },\\n                context,\\n            );\\n        }\\n    };\\n    var json_data = {\\\"formatted_vals\\\":[\\\"1\\\",\\\"2\\\",\\\"3\\\",\\\"4\\\",\\\"5\\\",\\\"6\\\",\\\"7\\\",\\\"8\\\",\\\"9\\\",\\\"10\\\",\\\"11\\\",\\\"12\\\",\\\"13\\\",\\\"14\\\",\\\"15\\\",\\\"16\\\",\\\"17\\\",\\\"18\\\",\\\"19\\\",\\\"20\\\",\\\"21\\\",\\\"22\\\",\\\"23\\\",\\\"24\\\",\\\"25\\\",\\\"26\\\",\\\"27\\\",\\\"28\\\",\\\"29\\\",\\\"30\\\",\\\"31\\\",\\\"32\\\",\\\"33\\\",\\\"34\\\",\\\"35\\\",\\\"36\\\",\\\"37\\\",\\\"38\\\",\\\"39\\\",\\\"40\\\",\\\"41\\\",\\\"42\\\",\\\"43\\\",\\\"44\\\",\\\"45\\\",\\\"46\\\",\\\"47\\\",\\\"48\\\",\\\"49\\\",\\\"50\\\",\\\"51\\\",\\\"52\\\",\\\"53\\\",\\\"54\\\",\\\"55\\\",\\\"56\\\",\\\"57\\\",\\\"58\\\",\\\"59\\\",\\\"60\\\",\\\"61\\\",\\\"62\\\",\\\"63\\\",\\\"64\\\",\\\"65\\\",\\\"66\\\",\\\"67\\\",\\\"68\\\",\\\"69\\\",\\\"70\\\",\\\"71\\\",\\\"72\\\",\\\"73\\\",\\\"74\\\",\\\"75\\\",\\\"76\\\",\\\"77\\\",\\\"78\\\",\\\"79\\\",\\\"80\\\",\\\"81\\\",\\\"82\\\",\\\"83\\\",\\\"84\\\",\\\"85\\\",\\\"86\\\",\\\"87\\\",\\\"88\\\",\\\"89\\\",\\\"90\\\",\\\"91\\\",\\\"92\\\",\\\"93\\\",\\\"94\\\",\\\"95\\\",\\\"96\\\",\\\"97\\\",\\\"98\\\",\\\"99\\\",\\\"100\\\",\\\"101\\\",\\\"102\\\",\\\"103\\\",\\\"104\\\",\\\"105\\\",\\\"106\\\",\\\"107\\\",\\\"108\\\",\\\"109\\\",\\\"110\\\",\\\"111\\\",\\\"112\\\",\\\"113\\\",\\\"114\\\",\\\"115\\\",\\\"116\\\",\\\"117\\\",\\\"118\\\",\\\"119\\\",\\\"120\\\",\\\"121\\\",\\\"122\\\",\\\"123\\\",\\\"124\\\",\\\"125\\\",\\\"126\\\",\\\"127\\\",\\\"128\\\",\\\"129\\\",\\\"130\\\",\\\"131\\\",\\\"132\\\",\\\"133\\\",\\\"134\\\",\\\"135\\\",\\\"136\\\",\\\"137\\\",\\\"138\\\",\\\"139\\\",\\\"140\\\",\\\"141\\\",\\\"142\\\",\\\"143\\\",\\\"144\\\",\\\"145\\\",\\\"146\\\",\\\"147\\\",\\\"148\\\",\\\"149\\\",\\\"150\\\",\\\"151\\\",\\\"152\\\",\\\"153\\\",\\\"154\\\",\\\"155\\\",\\\"156\\\",\\\"157\\\",\\\"158\\\",\\\"159\\\",\\\"160\\\",\\\"161\\\",\\\"162\\\",\\\"163\\\",\\\"164\\\",\\\"165\\\",\\\"166\\\",\\\"167\\\",\\\"168\\\",\\\"169\\\",\\\"170\\\",\\\"171\\\",\\\"172\\\",\\\"173\\\",\\\"174\\\",\\\"175\\\",\\\"176\\\",\\\"177\\\",\\\"178\\\",\\\"179\\\",\\\"180\\\",\\\"181\\\",\\\"182\\\",\\\"183\\\",\\\"184\\\",\\\"185\\\",\\\"186\\\",\\\"187\\\",\\\"188\\\",\\\"189\\\",\\\"190\\\",\\\"191\\\",\\\"192\\\",\\\"193\\\",\\\"194\\\",\\\"195\\\",\\\"196\\\",\\\"197\\\",\\\"198\\\",\\\"199\\\",\\\"200\\\",\\\"201\\\",\\\"202\\\",\\\"203\\\",\\\"204\\\",\\\"205\\\",\\\"206\\\",\\\"207\\\",\\\"208\\\",\\\"209\\\",\\\"210\\\",\\\"211\\\",\\\"212\\\",\\\"213\\\",\\\"214\\\",\\\"215\\\",\\\"216\\\",\\\"217\\\",\\\"218\\\",\\\"219\\\",\\\"220\\\",\\\"221\\\",\\\"222\\\",\\\"223\\\",\\\"224\\\",\\\"225\\\",\\\"226\\\",\\\"227\\\",\\\"228\\\",\\\"229\\\",\\\"230\\\",\\\"231\\\",\\\"232\\\",\\\"233\\\",\\\"234\\\",\\\"235\\\",\\\"236\\\",\\\"237\\\",\\\"238\\\",\\\"239\\\",\\\"240\\\",\\\"241\\\",\\\"242\\\",\\\"243\\\",\\\"244\\\",\\\"245\\\",\\\"246\\\",\\\"247\\\",\\\"248\\\",\\\"249\\\",\\\"250\\\",\\\"251\\\",\\\"252\\\",\\\"253\\\",\\\"254\\\",\\\"255\\\",\\\"256\\\",\\\"257\\\",\\\"258\\\",\\\"259\\\",\\\"260\\\",\\\"261\\\",\\\"262\\\",\\\"263\\\",\\\"264\\\",\\\"265\\\",\\\"266\\\",\\\"267\\\",\\\"268\\\",\\\"269\\\",\\\"270\\\",\\\"271\\\",\\\"272\\\",\\\"273\\\"],\\\"changes\\\":WebIO.getval({\\\"name\\\":\\\"changes\\\",\\\"scope\\\":\\\"1949373286058340641\\\",\\\"id\\\":\\\"14918562968407397469\\\",\\\"type\\\":\\\"observable\\\"}),\\\"index\\\":WebIO.getval({\\\"name\\\":\\\"index\\\",\\\"scope\\\":\\\"1949373286058340641\\\",\\\"id\\\":\\\"12120823705736655591\\\",\\\"type\\\":\\\"observable\\\"})};\\n    var self = this;\\n    function AppViewModel() {\\n        for (var key in json_data) {\\n            var el = json_data[key];\\n            this[key] = Array.isArray(el) ? ko.observableArray(el) : ko.observable(el);\\n        }\\n        \\n        [this[\\\"formatted_val\\\"]=ko.computed(    function(){\\n        return this.formatted_vals()[parseInt(this.index())-(1)];\\n    }\\n,this)]\\n        [this[\\\"changes\\\"].subscribe((function (val){!(this.valueFromJulia[\\\"changes\\\"]) ? (WebIO.setval({\\\"name\\\":\\\"changes\\\",\\\"scope\\\":\\\"1949373286058340641\\\",\\\"id\\\":\\\"14918562968407397469\\\",\\\"type\\\":\\\"observable\\\"},val)) : undefined; return this.valueFromJulia[\\\"changes\\\"]=false}),self),this[\\\"index\\\"].subscribe((function (val){!(this.valueFromJulia[\\\"index\\\"]) ? (WebIO.setval({\\\"name\\\":\\\"index\\\",\\\"scope\\\":\\\"1949373286058340641\\\",\\\"id\\\":\\\"12120823705736655591\\\",\\\"type\\\":\\\"observable\\\"},val)) : undefined; return this.valueFromJulia[\\\"index\\\"]=false}),self)]\\n        \\n    }\\n    self.model = new AppViewModel();\\n    self.valueFromJulia = {};\\n    for (var key in json_data) {\\n        self.valueFromJulia[key] = false;\\n    }\\n    ko.applyBindings(self.model, self.dom);\\n}\\n);\\n    (WebIO.importBlock({\\\"data\\\":[{\\\"name\\\":\\\"knockout\\\",\\\"type\\\":\\\"js\\\",\\\"url\\\":\\\"\\/assetserver\\/61cd1489edbfb968f3c1d6c2cc46f9d9998322aa-knockout.js\\\"},{\\\"name\\\":\\\"knockout_punches\\\",\\\"type\\\":\\\"js\\\",\\\"url\\\":\\\"\\/assetserver\\/e59f3ae822cf03cf91003b09114a1530c12b518e-knockout_punches.js\\\"}],\\\"type\\\":\\\"async_block\\\"})).then((imports) => handler.apply(this, imports));\\n}\\n\"],\"observables\":{\"changes\":{\"sync\":false,\"id\":\"14918562968407397469\",\"value\":0},\"index\":{\"sync\":true,\"id\":\"12120823705736655591\",\"value\":137}}},\"children\":[{\"props\":{\"className\":\"interact-flex-row interact-widget\"},\"nodeType\":\"DOM\",\"type\":\"node\",\"instanceArgs\":{\"namespace\":\"html\",\"tag\":\"div\"},\"children\":[{\"props\":{\"className\":\"interact-flex-row-left\"},\"nodeType\":\"DOM\",\"type\":\"node\",\"instanceArgs\":{\"namespace\":\"html\",\"tag\":\"div\"},\"children\":[{\"props\":{\"className\":\"interact \",\"style\":{\"padding\":\"5px 10px 0px 10px\"}},\"nodeType\":\"DOM\",\"type\":\"node\",\"instanceArgs\":{\"namespace\":\"html\",\"tag\":\"label\"},\"children\":[\"i\"]}]},{\"props\":{\"className\":\"interact-flex-row-center\"},\"nodeType\":\"DOM\",\"type\":\"node\",\"instanceArgs\":{\"namespace\":\"html\",\"tag\":\"div\"},\"children\":[{\"props\":{\"max\":273,\"min\":1,\"attributes\":{\"type\":\"range\",\"data-bind\":\"numericValue: index, valueUpdate: 'input', event: {change: function (){this.changes(this.changes()+1)}}\",\"orient\":\"horizontal\"},\"step\":1,\"className\":\"slider slider is-fullwidth\",\"style\":{}},\"nodeType\":\"DOM\",\"type\":\"node\",\"instanceArgs\":{\"namespace\":\"html\",\"tag\":\"input\"},\"children\":[]}]},{\"props\":{\"className\":\"interact-flex-row-right\"},\"nodeType\":\"DOM\",\"type\":\"node\",\"instanceArgs\":{\"namespace\":\"html\",\"tag\":\"div\"},\"children\":[{\"props\":{\"attributes\":{\"data-bind\":\"text: formatted_val\"}},\"nodeType\":\"DOM\",\"type\":\"node\",\"instanceArgs\":{\"namespace\":\"html\",\"tag\":\"p\"},\"children\":[]}]}]}]}]},{\"props\":{},\"nodeType\":\"Scope\",\"type\":\"node\",\"instanceArgs\":{\"imports\":{\"data\":[],\"type\":\"async_block\"},\"id\":\"3703496127349825349\",\"handlers\":{},\"systemjs_options\":null,\"mount_callbacks\":[],\"observables\":{\"obs-node\":{\"sync\":false,\"id\":\"17972291646799277709\",\"value\":{\"props\":{\"className\":\"interact-flex-row interact-widget\"},\"nodeType\":\"DOM\",\"type\":\"node\",\"instanceArgs\":{\"namespace\":\"html\",\"tag\":\"div\"},\"children\":[\"Grenada\"]}}}},\"children\":[{\"props\":{},\"nodeType\":\"ObservableNode\",\"type\":\"node\",\"instanceArgs\":{\"id\":\"17972291646799277709\",\"name\":\"obs-node\"},\"children\":[]}]}]},\n",
       "            window,\n",
       "        );\n",
       "    } else {\n",
       "        document\n",
       "            .querySelector('[data-webio-mountpoint=\"1433405067630198493\"]')\n",
       "            .innerHTML = (\n",
       "                '<div style=\"padding: 1em; background-color: #f8d6da; border: 1px solid #f5c6cb\">' +\n",
       "                '<p><strong>WebIO not detected.</strong></p>' +\n",
       "                '<p>Please read ' +\n",
       "                '<a href=\"https://juliagizmos.github.io/WebIO.jl/latest/troubleshooting/not-detected/\" target=\"_blank\">the troubleshooting guide</a> ' +\n",
       "                'for more information on how to resolve this issue.</p>' +\n",
       "                '<p><a href=\"https://juliagizmos.github.io/WebIO.jl/latest/troubleshooting/not-detected/\" target=\"_blank\">https://juliagizmos.github.io/WebIO.jl/latest/troubleshooting/not-detected/</a></p>' +\n",
       "                '</div>'\n",
       "            );\n",
       "    }\n",
       "    </script>\n",
       "</div>\n"
      ],
      "text/plain": [
       "Node{WebIO.DOM}(WebIO.DOM(:html, :div), Any[Node{WebIO.DOM}(WebIO.DOM(:html, :div), Any[Scope(Node{WebIO.DOM}(WebIO.DOM(:html, :div), Any[Node{WebIO.DOM}(WebIO.DOM(:html, :div), Any[Node{WebIO.DOM}(WebIO.DOM(:html, :label), Any[\"i\"], Dict{Symbol,Any}(:className => \"interact \",:style => Dict{Any,Any}(:padding => \"5px 10px 0px 10px\")))], Dict{Symbol,Any}(:className => \"interact-flex-row-left\")), Node{WebIO.DOM}(WebIO.DOM(:html, :div), Any[Node{WebIO.DOM}(WebIO.DOM(:html, :input), Any[], Dict{Symbol,Any}(:max => 273,:min => 1,:attributes => Dict{Any,Any}(:type => \"range\",Symbol(\"data-bind\") => \"numericValue: index, valueUpdate: 'input', event: {change: function (){this.changes(this.changes()+1)}}\",\"orient\" => \"horizontal\"),:step => 1,:className => \"slider slider is-fullwidth\",:style => Dict{Any,Any}()))], Dict{Symbol,Any}(:className => \"interact-flex-row-center\")), Node{WebIO.DOM}(WebIO.DOM(:html, :div), Any[Node{WebIO.DOM}(WebIO.DOM(:html, :p), Any[], Dict{Symbol,Any}(:attributes => Dict(\"data-bind\" => \"text: formatted_val\")))], Dict{Symbol,Any}(:className => \"interact-flex-row-right\"))], Dict{Symbol,Any}(:className => \"interact-flex-row interact-widget\")), Dict{String,Tuple{Observables.AbstractObservable,Union{Nothing, Bool}}}(\"changes\" => (Observable{Int64} with 1 listeners. Value:\n",
       "0, nothing),\"index\" => (Observable{Int64} with 2 listeners. Value:\n",
       "137, nothing)), Set{String}(), nothing, Asset[Asset(\"js\", \"knockout\", \"/Users/adam/.julia/packages/Knockout/IP1uR/src/../assets/knockout.js\"), Asset(\"js\", \"knockout_punches\", \"/Users/adam/.julia/packages/Knockout/IP1uR/src/../assets/knockout_punches.js\"), Asset(\"js\", nothing, \"/Users/adam/.julia/packages/InteractBase/sOe2Z/src/../assets/all.js\"), Asset(\"css\", nothing, \"/Users/adam/.julia/packages/InteractBase/sOe2Z/src/../assets/style.css\"), Asset(\"css\", nothing, \"/Users/adam/.julia/packages/Interact/SbgIk/src/../assets/bulma_confined.min.css\")], Dict{Any,Any}(\"changes\" => Any[WebIO.JSString(\"(function (val){return (val!=this.model[\\\"changes\\\"]()) ? (this.valueFromJulia[\\\"changes\\\"]=true, this.model[\\\"changes\\\"](val)) : undefined})\")],\"index\" => Any[WebIO.JSString(\"(function (val){return (val!=this.model[\\\"index\\\"]()) ? (this.valueFromJulia[\\\"index\\\"]=true, this.model[\\\"index\\\"](val)) : undefined})\")]), WebIO.ConnectionPool(Channel{Any}(sz_max:32,sz_curr:0), Set{AbstractConnection}(), Base.GenericCondition{Base.AlwaysLockedST}(Base.InvasiveLinkedList{Task}(Task (runnable) @0x000000010fe85d50, Task (runnable) @0x000000010fe85d50), Base.AlwaysLockedST(1))), WebIO.JSString[WebIO.JSString(\"function () {\\n    var handler = (function (ko, koPunches) {\\n    ko.punches.enableAll();\\n    ko.bindingHandlers.numericValue = {\\n        init: function(element, valueAccessor, allBindings, data, context) {\\n            var stringified = ko.observable(ko.unwrap(valueAccessor()));\\n            stringified.subscribe(function(value) {\\n                var val = parseFloat(value);\\n                if (!isNaN(val)) {\\n                    valueAccessor()(val);\\n                }\\n            });\\n            valueAccessor().subscribe(function(value) {\\n                var str = JSON.stringify(value);\\n                if ((str == \\\"0\\\") && ([\\\"-0\\\", \\\"-0.\\\"].indexOf(stringified()) >= 0))\\n                     return;\\n                 if ([\\\"null\\\", \\\"\\\"].indexOf(str) >= 0)\\n                     return;\\n                stringified(str);\\n            });\\n            ko.applyBindingsToNode(\\n                element,\\n                {\\n                    value: stringified,\\n                    valueUpdate: allBindings.get('valueUpdate'),\\n                },\\n                context,\\n            );\\n        }\\n    };\\n    var json_data = {\\\"formatted_vals\\\":[\\\"1\\\",\\\"2\\\",\\\"3\\\",\\\"4\\\",\\\"5\\\",\\\"6\\\",\\\"7\\\",\\\"8\\\",\\\"9\\\",\\\"10\\\",\\\"11\\\",\\\"12\\\",\\\"13\\\",\\\"14\\\",\\\"15\\\",\\\"16\\\",\\\"17\\\",\\\"18\\\",\\\"19\\\",\\\"20\\\",\\\"21\\\",\\\"22\\\",\\\"23\\\",\\\"24\\\",\\\"25\\\",\\\"26\\\",\\\"27\\\",\\\"28\\\",\\\"29\\\",\\\"30\\\",\\\"31\\\",\\\"32\\\",\\\"33\\\",\\\"34\\\",\\\"35\\\",\\\"36\\\",\\\"37\\\",\\\"38\\\",\\\"39\\\",\\\"40\\\",\\\"41\\\",\\\"42\\\",\\\"43\\\",\\\"44\\\",\\\"45\\\",\\\"46\\\",\\\"47\\\",\\\"48\\\",\\\"49\\\",\\\"50\\\",\\\"51\\\",\\\"52\\\",\\\"53\\\",\\\"54\\\",\\\"55\\\",\\\"56\\\",\\\"57\\\",\\\"58\\\",\\\"59\\\",\\\"60\\\",\\\"61\\\",\\\"62\\\",\\\"63\\\",\\\"64\\\",\\\"65\\\",\\\"66\\\",\\\"67\\\",\\\"68\\\",\\\"69\\\",\\\"70\\\",\\\"71\\\",\\\"72\\\",\\\"73\\\",\\\"74\\\",\\\"75\\\",\\\"76\\\",\\\"77\\\",\\\"78\\\",\\\"79\\\",\\\"80\\\",\\\"81\\\",\\\"82\\\",\\\"83\\\",\\\"84\\\",\\\"85\\\",\\\"86\\\",\\\"87\\\",\\\"88\\\",\\\"89\\\",\\\"90\\\",\\\"91\\\",\\\"92\\\",\\\"93\\\",\\\"94\\\",\\\"95\\\",\\\"96\\\",\\\"97\\\",\\\"98\\\",\\\"99\\\",\\\"100\\\",\\\"101\\\",\\\"102\\\",\\\"103\\\",\\\"104\\\",\\\"105\\\",\\\"106\\\",\\\"107\\\",\\\"108\\\",\\\"109\\\",\\\"110\\\",\\\"111\\\",\\\"112\\\",\\\"113\\\",\\\"114\\\",\\\"115\\\",\\\"116\\\",\\\"117\\\",\\\"118\\\",\\\"119\\\",\\\"120\\\",\\\"121\\\",\\\"122\\\",\\\"123\\\",\\\"124\\\",\\\"125\\\",\\\"126\\\",\\\"127\\\",\\\"128\\\",\\\"129\\\",\\\"130\\\",\\\"131\\\",\\\"132\\\",\\\"133\\\",\\\"134\\\",\\\"135\\\",\\\"136\\\",\\\"137\\\",\\\"138\\\",\\\"139\\\",\\\"140\\\",\\\"141\\\",\\\"142\\\",\\\"143\\\",\\\"144\\\",\\\"145\\\",\\\"146\\\",\\\"147\\\",\\\"148\\\",\\\"149\\\",\\\"150\\\",\\\"151\\\",\\\"152\\\",\\\"153\\\",\\\"154\\\",\\\"155\\\",\\\"156\\\",\\\"157\\\",\\\"158\\\",\\\"159\\\",\\\"160\\\",\\\"161\\\",\\\"162\\\",\\\"163\\\",\\\"164\\\",\\\"165\\\",\\\"166\\\",\\\"167\\\",\\\"168\\\",\\\"169\\\",\\\"170\\\",\\\"171\\\",\\\"172\\\",\\\"173\\\",\\\"174\\\",\\\"175\\\",\\\"176\\\",\\\"177\\\",\\\"178\\\",\\\"179\\\",\\\"180\\\",\\\"181\\\",\\\"182\\\",\\\"183\\\",\\\"184\\\",\\\"185\\\",\\\"186\\\",\\\"187\\\",\\\"188\\\",\\\"189\\\",\\\"190\\\",\\\"191\\\",\\\"192\\\",\\\"193\\\",\\\"194\\\",\\\"195\\\",\\\"196\\\",\\\"197\\\",\\\"198\\\",\\\"199\\\",\\\"200\\\",\\\"201\\\",\\\"202\\\",\\\"203\\\",\\\"204\\\",\\\"205\\\",\\\"206\\\",\\\"207\\\",\\\"208\\\",\\\"209\\\",\\\"210\\\",\\\"211\\\",\\\"212\\\",\\\"213\\\",\\\"214\\\",\\\"215\\\",\\\"216\\\",\\\"217\\\",\\\"218\\\",\\\"219\\\",\\\"220\\\",\\\"221\\\",\\\"222\\\",\\\"223\\\",\\\"224\\\",\\\"225\\\",\\\"226\\\",\\\"227\\\",\\\"228\\\",\\\"229\\\",\\\"230\\\",\\\"231\\\",\\\"232\\\",\\\"233\\\",\\\"234\\\",\\\"235\\\",\\\"236\\\",\\\"237\\\",\\\"238\\\",\\\"239\\\",\\\"240\\\",\\\"241\\\",\\\"242\\\",\\\"243\\\",\\\"244\\\",\\\"245\\\",\\\"246\\\",\\\"247\\\",\\\"248\\\",\\\"249\\\",\\\"250\\\",\\\"251\\\",\\\"252\\\",\\\"253\\\",\\\"254\\\",\\\"255\\\",\\\"256\\\",\\\"257\\\",\\\"258\\\",\\\"259\\\",\\\"260\\\",\\\"261\\\",\\\"262\\\",\\\"263\\\",\\\"264\\\",\\\"265\\\",\\\"266\\\",\\\"267\\\",\\\"268\\\",\\\"269\\\",\\\"270\\\",\\\"271\\\",\\\"272\\\",\\\"273\\\"],\\\"changes\\\":WebIO.getval({\\\"name\\\":\\\"changes\\\",\\\"scope\\\":\\\"1949373286058340641\\\",\\\"id\\\":\\\"14918562968407397469\\\",\\\"type\\\":\\\"observable\\\"}),\\\"index\\\":WebIO.getval({\\\"name\\\":\\\"index\\\",\\\"scope\\\":\\\"1949373286058340641\\\",\\\"id\\\":\\\"12120823705736655591\\\",\\\"type\\\":\\\"observable\\\"})};\\n    var self = this;\\n    function AppViewModel() {\\n        for (var key in json_data) {\\n            var el = json_data[key];\\n            this[key] = Array.isArray(el) ? ko.observableArray(el) : ko.observable(el);\\n        }\\n        \\n        [this[\\\"formatted_val\\\"]=ko.computed(    function(){\\n        return this.formatted_vals()[parseInt(this.index())-(1)];\\n    }\\n,this)]\\n        [this[\\\"changes\\\"].subscribe((function (val){!(this.valueFromJulia[\\\"changes\\\"]) ? (WebIO.setval({\\\"name\\\":\\\"changes\\\",\\\"scope\\\":\\\"1949373286058340641\\\",\\\"id\\\":\\\"14918562968407397469\\\",\\\"type\\\":\\\"observable\\\"},val)) : undefined; return this.valueFromJulia[\\\"changes\\\"]=false}),self),this[\\\"index\\\"].subscribe((function (val){!(this.valueFromJulia[\\\"index\\\"]) ? (WebIO.setval({\\\"name\\\":\\\"index\\\",\\\"scope\\\":\\\"1949373286058340641\\\",\\\"id\\\":\\\"12120823705736655591\\\",\\\"type\\\":\\\"observable\\\"},val)) : undefined; return this.valueFromJulia[\\\"index\\\"]=false}),self)]\\n        \\n    }\\n    self.model = new AppViewModel();\\n    self.valueFromJulia = {};\\n    for (var key in json_data) {\\n        self.valueFromJulia[key] = false;\\n    }\\n    ko.applyBindings(self.model, self.dom);\\n}\\n);\\n    (WebIO.importBlock({\\\"data\\\":[{\\\"name\\\":\\\"knockout\\\",\\\"type\\\":\\\"js\\\",\\\"url\\\":\\\"/assetserver/61cd1489edbfb968f3c1d6c2cc46f9d9998322aa-knockout.js\\\"},{\\\"name\\\":\\\"knockout_punches\\\",\\\"type\\\":\\\"js\\\",\\\"url\\\":\\\"/assetserver/e59f3ae822cf03cf91003b09114a1530c12b518e-knockout_punches.js\\\"}],\\\"type\\\":\\\"async_block\\\"})).then((imports) => handler.apply(this, imports));\\n}\\n\")])], Dict{Symbol,Any}(:className => \"field interact-widget\")), Observable{Any} with 0 listeners. Value:\n",
       "Node{WebIO.DOM}(WebIO.DOM(:html, :div), Any[\"Grenada\"], Dict{Symbol,Any}(:className => \"interact-flex-row interact-widget\"))], Dict{Symbol,Any}())"
      ]
     },
     "execution_count": 12,
     "metadata": {
      "@webio": {
       "kernelId": "069ae361-7acb-430b-a203-f46895d8a54d"
      }
     },
     "output_type": "execute_result"
    }
   ],
   "source": [
    "@manipulate for i in 1:length(countries)\n",
    "    countries[i]\n",
    "end"
   ]
  },
  {
   "cell_type": "code",
   "execution_count": 7,
   "metadata": {},
   "outputs": [
    {
     "data": {
      "application/vnd.webio.node+json": {
       "children": [
        {
         "children": [
          {
           "children": [
            {
             "children": [
              {
               "children": [
                {
                 "children": [
                  "i"
                 ],
                 "instanceArgs": {
                  "namespace": "html",
                  "tag": "label"
                 },
                 "nodeType": "DOM",
                 "props": {
                  "className": "interact ",
                  "style": {
                   "padding": "5px 10px 0px 10px"
                  }
                 },
                 "type": "node"
                }
               ],
               "instanceArgs": {
                "namespace": "html",
                "tag": "div"
               },
               "nodeType": "DOM",
               "props": {
                "className": "interact-flex-row-left"
               },
               "type": "node"
              },
              {
               "children": [
                {
                 "children": [],
                 "instanceArgs": {
                  "namespace": "html",
                  "tag": "input"
                 },
                 "nodeType": "DOM",
                 "props": {
                  "attributes": {
                   "data-bind": "numericValue: index, valueUpdate: 'input', event: {change: function (){this.changes(this.changes()+1)}}",
                   "orient": "horizontal",
                   "type": "range"
                  },
                  "className": "slider slider is-fullwidth",
                  "max": 10,
                  "min": 1,
                  "step": 1,
                  "style": {}
                 },
                 "type": "node"
                }
               ],
               "instanceArgs": {
                "namespace": "html",
                "tag": "div"
               },
               "nodeType": "DOM",
               "props": {
                "className": "interact-flex-row-center"
               },
               "type": "node"
              },
              {
               "children": [
                {
                 "children": [],
                 "instanceArgs": {
                  "namespace": "html",
                  "tag": "p"
                 },
                 "nodeType": "DOM",
                 "props": {
                  "attributes": {
                   "data-bind": "text: formatted_val"
                  }
                 },
                 "type": "node"
                }
               ],
               "instanceArgs": {
                "namespace": "html",
                "tag": "div"
               },
               "nodeType": "DOM",
               "props": {
                "className": "interact-flex-row-right"
               },
               "type": "node"
              }
             ],
             "instanceArgs": {
              "namespace": "html",
              "tag": "div"
             },
             "nodeType": "DOM",
             "props": {
              "className": "interact-flex-row interact-widget"
             },
             "type": "node"
            }
           ],
           "instanceArgs": {
            "handlers": {
             "changes": [
              "(function (val){return (val!=this.model[\"changes\"]()) ? (this.valueFromJulia[\"changes\"]=true, this.model[\"changes\"](val)) : undefined})"
             ],
             "index": [
              "(function (val){return (val!=this.model[\"index\"]()) ? (this.valueFromJulia[\"index\"]=true, this.model[\"index\"](val)) : undefined})"
             ]
            },
            "id": "8861445891066668808",
            "imports": {
             "data": [
              {
               "name": "knockout",
               "type": "js",
               "url": "/assetserver/61cd1489edbfb968f3c1d6c2cc46f9d9998322aa-knockout.js"
              },
              {
               "name": "knockout_punches",
               "type": "js",
               "url": "/assetserver/e59f3ae822cf03cf91003b09114a1530c12b518e-knockout_punches.js"
              },
              {
               "name": null,
               "type": "js",
               "url": "/assetserver/3187e79ecb0bab45e7cae241f0d72f2d4f448540-all.js"
              },
              {
               "name": null,
               "type": "css",
               "url": "/assetserver/394d415552cea0322db7266d97bca15f9d0530cd-style.css"
              },
              {
               "name": null,
               "type": "css",
               "url": "/assetserver/93a1a1a4eb0d38844bb243cdb4ff7cf66fd52dd9-bulma_confined.min.css"
              }
             ],
             "type": "async_block"
            },
            "mount_callbacks": [
             "function () {\n    var handler = (function (ko, koPunches) {\n    ko.punches.enableAll();\n    ko.bindingHandlers.numericValue = {\n        init: function(element, valueAccessor, allBindings, data, context) {\n            var stringified = ko.observable(ko.unwrap(valueAccessor()));\n            stringified.subscribe(function(value) {\n                var val = parseFloat(value);\n                if (!isNaN(val)) {\n                    valueAccessor()(val);\n                }\n            });\n            valueAccessor().subscribe(function(value) {\n                var str = JSON.stringify(value);\n                if ((str == \"0\") && ([\"-0\", \"-0.\"].indexOf(stringified()) >= 0))\n                     return;\n                 if ([\"null\", \"\"].indexOf(str) >= 0)\n                     return;\n                stringified(str);\n            });\n            ko.applyBindingsToNode(\n                element,\n                {\n                    value: stringified,\n                    valueUpdate: allBindings.get('valueUpdate'),\n                },\n                context,\n            );\n        }\n    };\n    var json_data = {\"formatted_vals\":[\"1\",\"2\",\"3\",\"4\",\"5\",\"6\",\"7\",\"8\",\"9\",\"10\"],\"changes\":WebIO.getval({\"name\":\"changes\",\"scope\":\"8861445891066668808\",\"id\":\"12637071709632704021\",\"type\":\"observable\"}),\"index\":WebIO.getval({\"name\":\"index\",\"scope\":\"8861445891066668808\",\"id\":\"11855804135785656337\",\"type\":\"observable\"})};\n    var self = this;\n    function AppViewModel() {\n        for (var key in json_data) {\n            var el = json_data[key];\n            this[key] = Array.isArray(el) ? ko.observableArray(el) : ko.observable(el);\n        }\n        \n        [this[\"formatted_val\"]=ko.computed(    function(){\n        return this.formatted_vals()[parseInt(this.index())-(1)];\n    }\n,this)]\n        [this[\"changes\"].subscribe((function (val){!(this.valueFromJulia[\"changes\"]) ? (WebIO.setval({\"name\":\"changes\",\"scope\":\"8861445891066668808\",\"id\":\"12637071709632704021\",\"type\":\"observable\"},val)) : undefined; return this.valueFromJulia[\"changes\"]=false}),self),this[\"index\"].subscribe((function (val){!(this.valueFromJulia[\"index\"]) ? (WebIO.setval({\"name\":\"index\",\"scope\":\"8861445891066668808\",\"id\":\"11855804135785656337\",\"type\":\"observable\"},val)) : undefined; return this.valueFromJulia[\"index\"]=false}),self)]\n        \n    }\n    self.model = new AppViewModel();\n    self.valueFromJulia = {};\n    for (var key in json_data) {\n        self.valueFromJulia[key] = false;\n    }\n    ko.applyBindings(self.model, self.dom);\n}\n);\n    (WebIO.importBlock({\"data\":[{\"name\":\"knockout\",\"type\":\"js\",\"url\":\"/assetserver/61cd1489edbfb968f3c1d6c2cc46f9d9998322aa-knockout.js\"},{\"name\":\"knockout_punches\",\"type\":\"js\",\"url\":\"/assetserver/e59f3ae822cf03cf91003b09114a1530c12b518e-knockout_punches.js\"}],\"type\":\"async_block\"})).then((imports) => handler.apply(this, imports));\n}\n"
            ],
            "observables": {
             "changes": {
              "id": "12637071709632704021",
              "sync": false,
              "value": 0
             },
             "index": {
              "id": "11855804135785656337",
              "sync": true,
              "value": 5
             }
            },
            "systemjs_options": null
           },
           "nodeType": "Scope",
           "props": {},
           "type": "node"
          }
         ],
         "instanceArgs": {
          "namespace": "html",
          "tag": "div"
         },
         "nodeType": "DOM",
         "props": {
          "className": "field interact-widget"
         },
         "type": "node"
        },
        {
         "children": [
          {
           "children": [],
           "instanceArgs": {
            "id": "13745628262047695336",
            "name": "obs-node"
           },
           "nodeType": "ObservableNode",
           "props": {},
           "type": "node"
          }
         ],
         "instanceArgs": {
          "handlers": {},
          "id": "5670274657530939260",
          "imports": {
           "data": [],
           "type": "async_block"
          },
          "mount_callbacks": [],
          "observables": {
           "obs-node": {
            "id": "13745628262047695336",
            "sync": false,
            "value": {
             "children": [
              {
               "children": [],
               "instanceArgs": {
                "namespace": "html",
                "tag": "div"
               },
               "nodeType": "DOM",
               "props": {
                "setInnerHtml": "<pre>5</pre>"
               },
               "type": "node"
              }
             ],
             "instanceArgs": {
              "namespace": "html",
              "tag": "div"
             },
             "nodeType": "DOM",
             "props": {
              "className": "interact-flex-row interact-widget"
             },
             "type": "node"
            }
           }
          },
          "systemjs_options": null
         },
         "nodeType": "Scope",
         "props": {},
         "type": "node"
        }
       ],
       "instanceArgs": {
        "namespace": "html",
        "tag": "div"
       },
       "nodeType": "DOM",
       "props": {},
       "type": "node"
      },
      "text/html": [
       "<div\n",
       "    class=\"webio-mountpoint\"\n",
       "    data-webio-mountpoint=\"15816665364331676215\"\n",
       ">\n",
       "    <script>\n",
       "    if (window.require && require.defined && require.defined(\"nbextensions/webio-jupyter-notebook\")) {\n",
       "        console.log(\"Jupyter WebIO extension detected, not mounting.\");\n",
       "    } else if (window.WebIO) {\n",
       "        WebIO.mount(\n",
       "            document.querySelector('[data-webio-mountpoint=\"15816665364331676215\"]'),\n",
       "            {\"props\":{},\"nodeType\":\"DOM\",\"type\":\"node\",\"instanceArgs\":{\"namespace\":\"html\",\"tag\":\"div\"},\"children\":[{\"props\":{\"className\":\"field interact-widget\"},\"nodeType\":\"DOM\",\"type\":\"node\",\"instanceArgs\":{\"namespace\":\"html\",\"tag\":\"div\"},\"children\":[{\"props\":{},\"nodeType\":\"Scope\",\"type\":\"node\",\"instanceArgs\":{\"imports\":{\"data\":[{\"name\":\"knockout\",\"type\":\"js\",\"url\":\"\\/assetserver\\/61cd1489edbfb968f3c1d6c2cc46f9d9998322aa-knockout.js\"},{\"name\":\"knockout_punches\",\"type\":\"js\",\"url\":\"\\/assetserver\\/e59f3ae822cf03cf91003b09114a1530c12b518e-knockout_punches.js\"},{\"name\":null,\"type\":\"js\",\"url\":\"\\/assetserver\\/3187e79ecb0bab45e7cae241f0d72f2d4f448540-all.js\"},{\"name\":null,\"type\":\"css\",\"url\":\"\\/assetserver\\/394d415552cea0322db7266d97bca15f9d0530cd-style.css\"},{\"name\":null,\"type\":\"css\",\"url\":\"\\/assetserver\\/93a1a1a4eb0d38844bb243cdb4ff7cf66fd52dd9-bulma_confined.min.css\"}],\"type\":\"async_block\"},\"id\":\"8861445891066668808\",\"handlers\":{\"changes\":[\"(function (val){return (val!=this.model[\\\"changes\\\"]()) ? (this.valueFromJulia[\\\"changes\\\"]=true, this.model[\\\"changes\\\"](val)) : undefined})\"],\"index\":[\"(function (val){return (val!=this.model[\\\"index\\\"]()) ? (this.valueFromJulia[\\\"index\\\"]=true, this.model[\\\"index\\\"](val)) : undefined})\"]},\"systemjs_options\":null,\"mount_callbacks\":[\"function () {\\n    var handler = (function (ko, koPunches) {\\n    ko.punches.enableAll();\\n    ko.bindingHandlers.numericValue = {\\n        init: function(element, valueAccessor, allBindings, data, context) {\\n            var stringified = ko.observable(ko.unwrap(valueAccessor()));\\n            stringified.subscribe(function(value) {\\n                var val = parseFloat(value);\\n                if (!isNaN(val)) {\\n                    valueAccessor()(val);\\n                }\\n            });\\n            valueAccessor().subscribe(function(value) {\\n                var str = JSON.stringify(value);\\n                if ((str == \\\"0\\\") && ([\\\"-0\\\", \\\"-0.\\\"].indexOf(stringified()) >= 0))\\n                     return;\\n                 if ([\\\"null\\\", \\\"\\\"].indexOf(str) >= 0)\\n                     return;\\n                stringified(str);\\n            });\\n            ko.applyBindingsToNode(\\n                element,\\n                {\\n                    value: stringified,\\n                    valueUpdate: allBindings.get('valueUpdate'),\\n                },\\n                context,\\n            );\\n        }\\n    };\\n    var json_data = {\\\"formatted_vals\\\":[\\\"1\\\",\\\"2\\\",\\\"3\\\",\\\"4\\\",\\\"5\\\",\\\"6\\\",\\\"7\\\",\\\"8\\\",\\\"9\\\",\\\"10\\\"],\\\"changes\\\":WebIO.getval({\\\"name\\\":\\\"changes\\\",\\\"scope\\\":\\\"8861445891066668808\\\",\\\"id\\\":\\\"12637071709632704021\\\",\\\"type\\\":\\\"observable\\\"}),\\\"index\\\":WebIO.getval({\\\"name\\\":\\\"index\\\",\\\"scope\\\":\\\"8861445891066668808\\\",\\\"id\\\":\\\"11855804135785656337\\\",\\\"type\\\":\\\"observable\\\"})};\\n    var self = this;\\n    function AppViewModel() {\\n        for (var key in json_data) {\\n            var el = json_data[key];\\n            this[key] = Array.isArray(el) ? ko.observableArray(el) : ko.observable(el);\\n        }\\n        \\n        [this[\\\"formatted_val\\\"]=ko.computed(    function(){\\n        return this.formatted_vals()[parseInt(this.index())-(1)];\\n    }\\n,this)]\\n        [this[\\\"changes\\\"].subscribe((function (val){!(this.valueFromJulia[\\\"changes\\\"]) ? (WebIO.setval({\\\"name\\\":\\\"changes\\\",\\\"scope\\\":\\\"8861445891066668808\\\",\\\"id\\\":\\\"12637071709632704021\\\",\\\"type\\\":\\\"observable\\\"},val)) : undefined; return this.valueFromJulia[\\\"changes\\\"]=false}),self),this[\\\"index\\\"].subscribe((function (val){!(this.valueFromJulia[\\\"index\\\"]) ? (WebIO.setval({\\\"name\\\":\\\"index\\\",\\\"scope\\\":\\\"8861445891066668808\\\",\\\"id\\\":\\\"11855804135785656337\\\",\\\"type\\\":\\\"observable\\\"},val)) : undefined; return this.valueFromJulia[\\\"index\\\"]=false}),self)]\\n        \\n    }\\n    self.model = new AppViewModel();\\n    self.valueFromJulia = {};\\n    for (var key in json_data) {\\n        self.valueFromJulia[key] = false;\\n    }\\n    ko.applyBindings(self.model, self.dom);\\n}\\n);\\n    (WebIO.importBlock({\\\"data\\\":[{\\\"name\\\":\\\"knockout\\\",\\\"type\\\":\\\"js\\\",\\\"url\\\":\\\"\\/assetserver\\/61cd1489edbfb968f3c1d6c2cc46f9d9998322aa-knockout.js\\\"},{\\\"name\\\":\\\"knockout_punches\\\",\\\"type\\\":\\\"js\\\",\\\"url\\\":\\\"\\/assetserver\\/e59f3ae822cf03cf91003b09114a1530c12b518e-knockout_punches.js\\\"}],\\\"type\\\":\\\"async_block\\\"})).then((imports) => handler.apply(this, imports));\\n}\\n\"],\"observables\":{\"changes\":{\"sync\":false,\"id\":\"12637071709632704021\",\"value\":0},\"index\":{\"sync\":true,\"id\":\"11855804135785656337\",\"value\":5}}},\"children\":[{\"props\":{\"className\":\"interact-flex-row interact-widget\"},\"nodeType\":\"DOM\",\"type\":\"node\",\"instanceArgs\":{\"namespace\":\"html\",\"tag\":\"div\"},\"children\":[{\"props\":{\"className\":\"interact-flex-row-left\"},\"nodeType\":\"DOM\",\"type\":\"node\",\"instanceArgs\":{\"namespace\":\"html\",\"tag\":\"div\"},\"children\":[{\"props\":{\"className\":\"interact \",\"style\":{\"padding\":\"5px 10px 0px 10px\"}},\"nodeType\":\"DOM\",\"type\":\"node\",\"instanceArgs\":{\"namespace\":\"html\",\"tag\":\"label\"},\"children\":[\"i\"]}]},{\"props\":{\"className\":\"interact-flex-row-center\"},\"nodeType\":\"DOM\",\"type\":\"node\",\"instanceArgs\":{\"namespace\":\"html\",\"tag\":\"div\"},\"children\":[{\"props\":{\"max\":10,\"min\":1,\"attributes\":{\"type\":\"range\",\"data-bind\":\"numericValue: index, valueUpdate: 'input', event: {change: function (){this.changes(this.changes()+1)}}\",\"orient\":\"horizontal\"},\"step\":1,\"className\":\"slider slider is-fullwidth\",\"style\":{}},\"nodeType\":\"DOM\",\"type\":\"node\",\"instanceArgs\":{\"namespace\":\"html\",\"tag\":\"input\"},\"children\":[]}]},{\"props\":{\"className\":\"interact-flex-row-right\"},\"nodeType\":\"DOM\",\"type\":\"node\",\"instanceArgs\":{\"namespace\":\"html\",\"tag\":\"div\"},\"children\":[{\"props\":{\"attributes\":{\"data-bind\":\"text: formatted_val\"}},\"nodeType\":\"DOM\",\"type\":\"node\",\"instanceArgs\":{\"namespace\":\"html\",\"tag\":\"p\"},\"children\":[]}]}]}]}]},{\"props\":{},\"nodeType\":\"Scope\",\"type\":\"node\",\"instanceArgs\":{\"imports\":{\"data\":[],\"type\":\"async_block\"},\"id\":\"1810432080748834990\",\"handlers\":{},\"systemjs_options\":null,\"mount_callbacks\":[],\"observables\":{\"obs-node\":{\"sync\":false,\"id\":\"14014484375525713677\",\"value\":{\"props\":{\"className\":\"interact-flex-row interact-widget\"},\"nodeType\":\"DOM\",\"type\":\"node\",\"instanceArgs\":{\"namespace\":\"html\",\"tag\":\"div\"},\"children\":[{\"props\":{\"setInnerHtml\":\"<pre>5<\\/pre>\"},\"nodeType\":\"DOM\",\"type\":\"node\",\"instanceArgs\":{\"namespace\":\"html\",\"tag\":\"div\"},\"children\":[]}]}}}},\"children\":[{\"props\":{},\"nodeType\":\"ObservableNode\",\"type\":\"node\",\"instanceArgs\":{\"id\":\"14014484375525713677\",\"name\":\"obs-node\"},\"children\":[]}]}]},\n",
       "            window,\n",
       "        );\n",
       "    } else {\n",
       "        document\n",
       "            .querySelector('[data-webio-mountpoint=\"15816665364331676215\"]')\n",
       "            .innerHTML = (\n",
       "                '<div style=\"padding: 1em; background-color: #f8d6da; border: 1px solid #f5c6cb\">' +\n",
       "                '<p><strong>WebIO not detected.</strong></p>' +\n",
       "                '<p>Please read ' +\n",
       "                '<a href=\"https://juliagizmos.github.io/WebIO.jl/latest/troubleshooting/not-detected/\" target=\"_blank\">the troubleshooting guide</a> ' +\n",
       "                'for more information on how to resolve this issue.</p>' +\n",
       "                '<p><a href=\"https://juliagizmos.github.io/WebIO.jl/latest/troubleshooting/not-detected/\" target=\"_blank\">https://juliagizmos.github.io/WebIO.jl/latest/troubleshooting/not-detected/</a></p>' +\n",
       "                '</div>'\n",
       "            );\n",
       "    }\n",
       "    </script>\n",
       "</div>\n"
      ],
      "text/plain": [
       "Node{WebIO.DOM}(WebIO.DOM(:html, :div), Any[Node{WebIO.DOM}(WebIO.DOM(:html, :div), Any[Scope(Node{WebIO.DOM}(WebIO.DOM(:html, :div), Any[Node{WebIO.DOM}(WebIO.DOM(:html, :div), Any[Node{WebIO.DOM}(WebIO.DOM(:html, :label), Any[\"i\"], Dict{Symbol,Any}(:className => \"interact \",:style => Dict{Any,Any}(:padding => \"5px 10px 0px 10px\")))], Dict{Symbol,Any}(:className => \"interact-flex-row-left\")), Node{WebIO.DOM}(WebIO.DOM(:html, :div), Any[Node{WebIO.DOM}(WebIO.DOM(:html, :input), Any[], Dict{Symbol,Any}(:max => 10,:min => 1,:attributes => Dict{Any,Any}(:type => \"range\",Symbol(\"data-bind\") => \"numericValue: index, valueUpdate: 'input', event: {change: function (){this.changes(this.changes()+1)}}\",\"orient\" => \"horizontal\"),:step => 1,:className => \"slider slider is-fullwidth\",:style => Dict{Any,Any}()))], Dict{Symbol,Any}(:className => \"interact-flex-row-center\")), Node{WebIO.DOM}(WebIO.DOM(:html, :div), Any[Node{WebIO.DOM}(WebIO.DOM(:html, :p), Any[], Dict{Symbol,Any}(:attributes => Dict(\"data-bind\" => \"text: formatted_val\")))], Dict{Symbol,Any}(:className => \"interact-flex-row-right\"))], Dict{Symbol,Any}(:className => \"interact-flex-row interact-widget\")), Dict{String,Tuple{Observables.AbstractObservable,Union{Nothing, Bool}}}(\"changes\" => (Observable{Int64} with 1 listeners. Value:\n",
       "0, nothing),\"index\" => (Observable{Int64} with 2 listeners. Value:\n",
       "5, nothing)), Set{String}(), nothing, Asset[Asset(\"js\", \"knockout\", \"/Users/adam/.julia/packages/Knockout/IP1uR/src/../assets/knockout.js\"), Asset(\"js\", \"knockout_punches\", \"/Users/adam/.julia/packages/Knockout/IP1uR/src/../assets/knockout_punches.js\"), Asset(\"js\", nothing, \"/Users/adam/.julia/packages/InteractBase/sOe2Z/src/../assets/all.js\"), Asset(\"css\", nothing, \"/Users/adam/.julia/packages/InteractBase/sOe2Z/src/../assets/style.css\"), Asset(\"css\", nothing, \"/Users/adam/.julia/packages/Interact/SbgIk/src/../assets/bulma_confined.min.css\")], Dict{Any,Any}(\"changes\" => Any[WebIO.JSString(\"(function (val){return (val!=this.model[\\\"changes\\\"]()) ? (this.valueFromJulia[\\\"changes\\\"]=true, this.model[\\\"changes\\\"](val)) : undefined})\")],\"index\" => Any[WebIO.JSString(\"(function (val){return (val!=this.model[\\\"index\\\"]()) ? (this.valueFromJulia[\\\"index\\\"]=true, this.model[\\\"index\\\"](val)) : undefined})\")]), WebIO.ConnectionPool(Channel{Any}(sz_max:32,sz_curr:0), Set{AbstractConnection}(), Base.GenericCondition{Base.AlwaysLockedST}(Base.InvasiveLinkedList{Task}(Task (runnable) @0x000000012c1c7850, Task (runnable) @0x000000012c1c7850), Base.AlwaysLockedST(1))), WebIO.JSString[WebIO.JSString(\"function () {\\n    var handler = (function (ko, koPunches) {\\n    ko.punches.enableAll();\\n    ko.bindingHandlers.numericValue = {\\n        init: function(element, valueAccessor, allBindings, data, context) {\\n            var stringified = ko.observable(ko.unwrap(valueAccessor()));\\n            stringified.subscribe(function(value) {\\n                var val = parseFloat(value);\\n                if (!isNaN(val)) {\\n                    valueAccessor()(val);\\n                }\\n            });\\n            valueAccessor().subscribe(function(value) {\\n                var str = JSON.stringify(value);\\n                if ((str == \\\"0\\\") && ([\\\"-0\\\", \\\"-0.\\\"].indexOf(stringified()) >= 0))\\n                     return;\\n                 if ([\\\"null\\\", \\\"\\\"].indexOf(str) >= 0)\\n                     return;\\n                stringified(str);\\n            });\\n            ko.applyBindingsToNode(\\n                element,\\n                {\\n                    value: stringified,\\n                    valueUpdate: allBindings.get('valueUpdate'),\\n                },\\n                context,\\n            );\\n        }\\n    };\\n    var json_data = {\\\"formatted_vals\\\":[\\\"1\\\",\\\"2\\\",\\\"3\\\",\\\"4\\\",\\\"5\\\",\\\"6\\\",\\\"7\\\",\\\"8\\\",\\\"9\\\",\\\"10\\\"],\\\"changes\\\":WebIO.getval({\\\"name\\\":\\\"changes\\\",\\\"scope\\\":\\\"8861445891066668808\\\",\\\"id\\\":\\\"12637071709632704021\\\",\\\"type\\\":\\\"observable\\\"}),\\\"index\\\":WebIO.getval({\\\"name\\\":\\\"index\\\",\\\"scope\\\":\\\"8861445891066668808\\\",\\\"id\\\":\\\"11855804135785656337\\\",\\\"type\\\":\\\"observable\\\"})};\\n    var self = this;\\n    function AppViewModel() {\\n        for (var key in json_data) {\\n            var el = json_data[key];\\n            this[key] = Array.isArray(el) ? ko.observableArray(el) : ko.observable(el);\\n        }\\n        \\n        [this[\\\"formatted_val\\\"]=ko.computed(    function(){\\n        return this.formatted_vals()[parseInt(this.index())-(1)];\\n    }\\n,this)]\\n        [this[\\\"changes\\\"].subscribe((function (val){!(this.valueFromJulia[\\\"changes\\\"]) ? (WebIO.setval({\\\"name\\\":\\\"changes\\\",\\\"scope\\\":\\\"8861445891066668808\\\",\\\"id\\\":\\\"12637071709632704021\\\",\\\"type\\\":\\\"observable\\\"},val)) : undefined; return this.valueFromJulia[\\\"changes\\\"]=false}),self),this[\\\"index\\\"].subscribe((function (val){!(this.valueFromJulia[\\\"index\\\"]) ? (WebIO.setval({\\\"name\\\":\\\"index\\\",\\\"scope\\\":\\\"8861445891066668808\\\",\\\"id\\\":\\\"11855804135785656337\\\",\\\"type\\\":\\\"observable\\\"},val)) : undefined; return this.valueFromJulia[\\\"index\\\"]=false}),self)]\\n        \\n    }\\n    self.model = new AppViewModel();\\n    self.valueFromJulia = {};\\n    for (var key in json_data) {\\n        self.valueFromJulia[key] = false;\\n    }\\n    ko.applyBindings(self.model, self.dom);\\n}\\n);\\n    (WebIO.importBlock({\\\"data\\\":[{\\\"name\\\":\\\"knockout\\\",\\\"type\\\":\\\"js\\\",\\\"url\\\":\\\"/assetserver/61cd1489edbfb968f3c1d6c2cc46f9d9998322aa-knockout.js\\\"},{\\\"name\\\":\\\"knockout_punches\\\",\\\"type\\\":\\\"js\\\",\\\"url\\\":\\\"/assetserver/e59f3ae822cf03cf91003b09114a1530c12b518e-knockout_punches.js\\\"}],\\\"type\\\":\\\"async_block\\\"})).then((imports) => handler.apply(this, imports));\\n}\\n\")])], Dict{Symbol,Any}(:className => \"field interact-widget\")), Observable{Any} with 0 listeners. Value:\n",
       "Node{WebIO.DOM}(WebIO.DOM(:html, :div), Any[5], Dict{Symbol,Any}(:className => \"interact-flex-row interact-widget\"))], Dict{Symbol,Any}())"
      ]
     },
     "execution_count": 7,
     "metadata": {
      "@webio": {
       "kernelId": "069ae361-7acb-430b-a203-f46895d8a54d"
      }
     },
     "output_type": "execute_result"
    }
   ],
   "source": [
    "@manipulate for i in 1:10\n",
    "    i\n",
    "end"
   ]
  },
  {
   "cell_type": "code",
   "execution_count": 16,
   "metadata": {},
   "outputs": [],
   "source": [
    "U_countries = [startswith(C, \"U\") for C in countries];"
   ]
  },
  {
   "cell_type": "code",
   "execution_count": 32,
   "metadata": {},
   "outputs": [],
   "source": [
    "US_data = convert(Vector, df[250, 5:end]);"
   ]
  },
  {
   "cell_type": "code",
   "execution_count": 30,
   "metadata": {},
   "outputs": [
    {
     "name": "stderr",
     "output_type": "stream",
     "text": [
      "┌ Info: Precompiling Plots [91a5bcdd-55d7-5caf-9e0b-520d859cae80]\n",
      "└ @ Base loading.jl:1278\n"
     ]
    }
   ],
   "source": [
    "using Plots"
   ]
  },
  {
   "cell_type": "code",
   "execution_count": 33,
   "metadata": {},
   "outputs": [
    {
     "data": {
      "image/svg+xml": [
       "<?xml version=\"1.0\" encoding=\"utf-8\"?>\n",
       "<svg xmlns=\"http://www.w3.org/2000/svg\" xmlns:xlink=\"http://www.w3.org/1999/xlink\" width=\"600\" height=\"400\" viewBox=\"0 0 2400 1600\">\n",
       "<defs>\n",
       "  <clipPath id=\"clip080\">\n",
       "    <rect x=\"0\" y=\"0\" width=\"2400\" height=\"1600\"/>\n",
       "  </clipPath>\n",
       "</defs>\n",
       "<path clip-path=\"url(#clip080)\" d=\"\n",
       "M0 1600 L2400 1600 L2400 0 L0 0  Z\n",
       "  \" fill=\"#ffffff\" fill-rule=\"evenodd\" fill-opacity=\"1\"/>\n",
       "<defs>\n",
       "  <clipPath id=\"clip081\">\n",
       "    <rect x=\"480\" y=\"0\" width=\"1681\" height=\"1600\"/>\n",
       "  </clipPath>\n",
       "</defs>\n",
       "<path clip-path=\"url(#clip080)\" d=\"\n",
       "M251.753 1486.45 L2352.76 1486.45 L2352.76 47.2441 L251.753 47.2441  Z\n",
       "  \" fill=\"#ffffff\" fill-rule=\"evenodd\" fill-opacity=\"1\"/>\n",
       "<defs>\n",
       "  <clipPath id=\"clip082\">\n",
       "    <rect x=\"251\" y=\"47\" width=\"2102\" height=\"1440\"/>\n",
       "  </clipPath>\n",
       "</defs>\n",
       "<polyline clip-path=\"url(#clip082)\" style=\"stroke:#000000; stroke-width:2; stroke-opacity:0.1; fill:none\" points=\"\n",
       "  305.957,1486.45 305.957,47.2441 \n",
       "  \"/>\n",
       "<polyline clip-path=\"url(#clip082)\" style=\"stroke:#000000; stroke-width:2; stroke-opacity:0.1; fill:none\" points=\"\n",
       "  831.708,1486.45 831.708,47.2441 \n",
       "  \"/>\n",
       "<polyline clip-path=\"url(#clip082)\" style=\"stroke:#000000; stroke-width:2; stroke-opacity:0.1; fill:none\" points=\"\n",
       "  1357.46,1486.45 1357.46,47.2441 \n",
       "  \"/>\n",
       "<polyline clip-path=\"url(#clip082)\" style=\"stroke:#000000; stroke-width:2; stroke-opacity:0.1; fill:none\" points=\"\n",
       "  1883.21,1486.45 1883.21,47.2441 \n",
       "  \"/>\n",
       "<polyline clip-path=\"url(#clip080)\" style=\"stroke:#000000; stroke-width:4; stroke-opacity:1; fill:none\" points=\"\n",
       "  251.753,1486.45 2352.76,1486.45 \n",
       "  \"/>\n",
       "<polyline clip-path=\"url(#clip080)\" style=\"stroke:#000000; stroke-width:4; stroke-opacity:1; fill:none\" points=\"\n",
       "  305.957,1486.45 305.957,1469.18 \n",
       "  \"/>\n",
       "<polyline clip-path=\"url(#clip080)\" style=\"stroke:#000000; stroke-width:4; stroke-opacity:1; fill:none\" points=\"\n",
       "  831.708,1486.45 831.708,1469.18 \n",
       "  \"/>\n",
       "<polyline clip-path=\"url(#clip080)\" style=\"stroke:#000000; stroke-width:4; stroke-opacity:1; fill:none\" points=\"\n",
       "  1357.46,1486.45 1357.46,1469.18 \n",
       "  \"/>\n",
       "<polyline clip-path=\"url(#clip080)\" style=\"stroke:#000000; stroke-width:4; stroke-opacity:1; fill:none\" points=\"\n",
       "  1883.21,1486.45 1883.21,1469.18 \n",
       "  \"/>\n",
       "<path clip-path=\"url(#clip080)\" d=\"M 0 0 M305.957 1515.64 Q302.346 1515.64 300.518 1519.2 Q298.712 1522.75 298.712 1529.87 Q298.712 1536.98 300.518 1540.55 Q302.346 1544.09 305.957 1544.09 Q309.592 1544.09 311.397 1540.55 Q313.226 1536.98 313.226 1529.87 Q313.226 1522.75 311.397 1519.2 Q309.592 1515.64 305.957 1515.64 M305.957 1511.93 Q311.768 1511.93 314.823 1516.54 Q317.902 1521.12 317.902 1529.87 Q317.902 1538.6 314.823 1543.21 Q311.768 1547.79 305.957 1547.79 Q300.147 1547.79 297.069 1543.21 Q294.013 1538.6 294.013 1529.87 Q294.013 1521.12 297.069 1516.54 Q300.147 1511.93 305.957 1511.93 Z\" fill=\"#000000\" fill-rule=\"evenodd\" fill-opacity=\"1\" /><path clip-path=\"url(#clip080)\" d=\"M 0 0 M795.076 1543.18 L802.715 1543.18 L802.715 1516.82 L794.405 1518.49 L794.405 1514.23 L802.668 1512.56 L807.344 1512.56 L807.344 1543.18 L814.983 1543.18 L814.983 1547.12 L795.076 1547.12 L795.076 1543.18 Z\" fill=\"#000000\" fill-rule=\"evenodd\" fill-opacity=\"1\" /><path clip-path=\"url(#clip080)\" d=\"M 0 0 M830.053 1515.64 Q826.442 1515.64 824.613 1519.2 Q822.807 1522.75 822.807 1529.87 Q822.807 1536.98 824.613 1540.55 Q826.442 1544.09 830.053 1544.09 Q833.687 1544.09 835.492 1540.55 Q837.321 1536.98 837.321 1529.87 Q837.321 1522.75 835.492 1519.2 Q833.687 1515.64 830.053 1515.64 M830.053 1511.93 Q835.863 1511.93 838.918 1516.54 Q841.997 1521.12 841.997 1529.87 Q841.997 1538.6 838.918 1543.21 Q835.863 1547.79 830.053 1547.79 Q824.242 1547.79 821.164 1543.21 Q818.108 1538.6 818.108 1529.87 Q818.108 1521.12 821.164 1516.54 Q824.242 1511.93 830.053 1511.93 Z\" fill=\"#000000\" fill-rule=\"evenodd\" fill-opacity=\"1\" /><path clip-path=\"url(#clip080)\" d=\"M 0 0 M857.066 1515.64 Q853.455 1515.64 851.627 1519.2 Q849.821 1522.75 849.821 1529.87 Q849.821 1536.98 851.627 1540.55 Q853.455 1544.09 857.066 1544.09 Q860.701 1544.09 862.506 1540.55 Q864.335 1536.98 864.335 1529.87 Q864.335 1522.75 862.506 1519.2 Q860.701 1515.64 857.066 1515.64 M857.066 1511.93 Q862.877 1511.93 865.932 1516.54 Q869.011 1521.12 869.011 1529.87 Q869.011 1538.6 865.932 1543.21 Q862.877 1547.79 857.066 1547.79 Q851.256 1547.79 848.178 1543.21 Q845.122 1538.6 845.122 1529.87 Q845.122 1521.12 848.178 1516.54 Q851.256 1511.93 857.066 1511.93 Z\" fill=\"#000000\" fill-rule=\"evenodd\" fill-opacity=\"1\" /><path clip-path=\"url(#clip080)\" d=\"M 0 0 M1325.1 1543.18 L1341.42 1543.18 L1341.42 1547.12 L1319.47 1547.12 L1319.47 1543.18 Q1322.13 1540.43 1326.72 1535.8 Q1331.32 1531.15 1332.5 1529.81 Q1334.75 1527.28 1335.63 1525.55 Q1336.53 1523.79 1336.53 1522.1 Q1336.53 1519.34 1334.59 1517.61 Q1332.67 1515.87 1329.56 1515.87 Q1327.37 1515.87 1324.91 1516.63 Q1322.48 1517.4 1319.7 1518.95 L1319.7 1514.23 Q1322.53 1513.09 1324.98 1512.51 Q1327.44 1511.93 1329.47 1511.93 Q1334.84 1511.93 1338.04 1514.62 Q1341.23 1517.31 1341.23 1521.8 Q1341.23 1523.93 1340.42 1525.85 Q1339.63 1527.74 1337.53 1530.34 Q1336.95 1531.01 1333.85 1534.23 Q1330.75 1537.42 1325.1 1543.18 Z\" fill=\"#000000\" fill-rule=\"evenodd\" fill-opacity=\"1\" /><path clip-path=\"url(#clip080)\" d=\"M 0 0 M1356.49 1515.64 Q1352.87 1515.64 1351.05 1519.2 Q1349.24 1522.75 1349.24 1529.87 Q1349.24 1536.98 1351.05 1540.55 Q1352.87 1544.09 1356.49 1544.09 Q1360.12 1544.09 1361.93 1540.55 Q1363.75 1536.98 1363.75 1529.87 Q1363.75 1522.75 1361.93 1519.2 Q1360.12 1515.64 1356.49 1515.64 M1356.49 1511.93 Q1362.3 1511.93 1365.35 1516.54 Q1368.43 1521.12 1368.43 1529.87 Q1368.43 1538.6 1365.35 1543.21 Q1362.3 1547.79 1356.49 1547.79 Q1350.68 1547.79 1347.6 1543.21 Q1344.54 1538.6 1344.54 1529.87 Q1344.54 1521.12 1347.6 1516.54 Q1350.68 1511.93 1356.49 1511.93 Z\" fill=\"#000000\" fill-rule=\"evenodd\" fill-opacity=\"1\" /><path clip-path=\"url(#clip080)\" d=\"M 0 0 M1383.5 1515.64 Q1379.89 1515.64 1378.06 1519.2 Q1376.25 1522.75 1376.25 1529.87 Q1376.25 1536.98 1378.06 1540.55 Q1379.89 1544.09 1383.5 1544.09 Q1387.13 1544.09 1388.94 1540.55 Q1390.77 1536.98 1390.77 1529.87 Q1390.77 1522.75 1388.94 1519.2 Q1387.13 1515.64 1383.5 1515.64 M1383.5 1511.93 Q1389.31 1511.93 1392.37 1516.54 Q1395.44 1521.12 1395.44 1529.87 Q1395.44 1538.6 1392.37 1543.21 Q1389.31 1547.79 1383.5 1547.79 Q1377.69 1547.79 1374.61 1543.21 Q1371.56 1538.6 1371.56 1529.87 Q1371.56 1521.12 1374.61 1516.54 Q1377.69 1511.93 1383.5 1511.93 Z\" fill=\"#000000\" fill-rule=\"evenodd\" fill-opacity=\"1\" /><path clip-path=\"url(#clip080)\" d=\"M 0 0 M1860.44 1528.49 Q1863.8 1529.2 1865.67 1531.47 Q1867.57 1533.74 1867.57 1537.07 Q1867.57 1542.19 1864.05 1544.99 Q1860.53 1547.79 1854.05 1547.79 Q1851.88 1547.79 1849.56 1547.35 Q1847.27 1546.93 1844.82 1546.08 L1844.82 1541.56 Q1846.76 1542.7 1849.08 1543.28 Q1851.39 1543.86 1853.91 1543.86 Q1858.31 1543.86 1860.6 1542.12 Q1862.92 1540.38 1862.92 1537.07 Q1862.92 1534.02 1860.77 1532.31 Q1858.64 1530.57 1854.82 1530.57 L1850.79 1530.57 L1850.79 1526.73 L1855 1526.73 Q1858.45 1526.73 1860.28 1525.36 Q1862.11 1523.97 1862.11 1521.38 Q1862.11 1518.72 1860.21 1517.31 Q1858.34 1515.87 1854.82 1515.87 Q1852.9 1515.87 1850.7 1516.29 Q1848.5 1516.7 1845.86 1517.58 L1845.86 1513.42 Q1848.52 1512.68 1850.84 1512.31 Q1853.17 1511.93 1855.23 1511.93 Q1860.56 1511.93 1863.66 1514.37 Q1866.76 1516.77 1866.76 1520.89 Q1866.76 1523.76 1865.12 1525.75 Q1863.47 1527.72 1860.44 1528.49 Z\" fill=\"#000000\" fill-rule=\"evenodd\" fill-opacity=\"1\" /><path clip-path=\"url(#clip080)\" d=\"M 0 0 M1882.64 1515.64 Q1879.03 1515.64 1877.2 1519.2 Q1875.4 1522.75 1875.4 1529.87 Q1875.4 1536.98 1877.2 1540.55 Q1879.03 1544.09 1882.64 1544.09 Q1886.28 1544.09 1888.08 1540.55 Q1889.91 1536.98 1889.91 1529.87 Q1889.91 1522.75 1888.08 1519.2 Q1886.28 1515.64 1882.64 1515.64 M1882.64 1511.93 Q1888.45 1511.93 1891.51 1516.54 Q1894.59 1521.12 1894.59 1529.87 Q1894.59 1538.6 1891.51 1543.21 Q1888.45 1547.79 1882.64 1547.79 Q1876.83 1547.79 1873.75 1543.21 Q1870.7 1538.6 1870.7 1529.87 Q1870.7 1521.12 1873.75 1516.54 Q1876.83 1511.93 1882.64 1511.93 Z\" fill=\"#000000\" fill-rule=\"evenodd\" fill-opacity=\"1\" /><path clip-path=\"url(#clip080)\" d=\"M 0 0 M1909.65 1515.64 Q1906.04 1515.64 1904.22 1519.2 Q1902.41 1522.75 1902.41 1529.87 Q1902.41 1536.98 1904.22 1540.55 Q1906.04 1544.09 1909.65 1544.09 Q1913.29 1544.09 1915.09 1540.55 Q1916.92 1536.98 1916.92 1529.87 Q1916.92 1522.75 1915.09 1519.2 Q1913.29 1515.64 1909.65 1515.64 M1909.65 1511.93 Q1915.47 1511.93 1918.52 1516.54 Q1921.6 1521.12 1921.6 1529.87 Q1921.6 1538.6 1918.52 1543.21 Q1915.47 1547.79 1909.65 1547.79 Q1903.84 1547.79 1900.77 1543.21 Q1897.71 1538.6 1897.71 1529.87 Q1897.71 1521.12 1900.77 1516.54 Q1903.84 1511.93 1909.65 1511.93 Z\" fill=\"#000000\" fill-rule=\"evenodd\" fill-opacity=\"1\" /><polyline clip-path=\"url(#clip082)\" style=\"stroke:#000000; stroke-width:2; stroke-opacity:0.1; fill:none\" points=\"\n",
       "  251.753,1445.72 2352.76,1445.72 \n",
       "  \"/>\n",
       "<polyline clip-path=\"url(#clip082)\" style=\"stroke:#000000; stroke-width:2; stroke-opacity:0.1; fill:none\" points=\"\n",
       "  251.753,1188.91 2352.76,1188.91 \n",
       "  \"/>\n",
       "<polyline clip-path=\"url(#clip082)\" style=\"stroke:#000000; stroke-width:2; stroke-opacity:0.1; fill:none\" points=\"\n",
       "  251.753,932.112 2352.76,932.112 \n",
       "  \"/>\n",
       "<polyline clip-path=\"url(#clip082)\" style=\"stroke:#000000; stroke-width:2; stroke-opacity:0.1; fill:none\" points=\"\n",
       "  251.753,675.31 2352.76,675.31 \n",
       "  \"/>\n",
       "<polyline clip-path=\"url(#clip082)\" style=\"stroke:#000000; stroke-width:2; stroke-opacity:0.1; fill:none\" points=\"\n",
       "  251.753,418.509 2352.76,418.509 \n",
       "  \"/>\n",
       "<polyline clip-path=\"url(#clip082)\" style=\"stroke:#000000; stroke-width:2; stroke-opacity:0.1; fill:none\" points=\"\n",
       "  251.753,161.707 2352.76,161.707 \n",
       "  \"/>\n",
       "<polyline clip-path=\"url(#clip080)\" style=\"stroke:#000000; stroke-width:4; stroke-opacity:1; fill:none\" points=\"\n",
       "  251.753,1486.45 251.753,47.2441 \n",
       "  \"/>\n",
       "<polyline clip-path=\"url(#clip080)\" style=\"stroke:#000000; stroke-width:4; stroke-opacity:1; fill:none\" points=\"\n",
       "  251.753,1445.72 276.965,1445.72 \n",
       "  \"/>\n",
       "<polyline clip-path=\"url(#clip080)\" style=\"stroke:#000000; stroke-width:4; stroke-opacity:1; fill:none\" points=\"\n",
       "  251.753,1188.91 276.965,1188.91 \n",
       "  \"/>\n",
       "<polyline clip-path=\"url(#clip080)\" style=\"stroke:#000000; stroke-width:4; stroke-opacity:1; fill:none\" points=\"\n",
       "  251.753,932.112 276.965,932.112 \n",
       "  \"/>\n",
       "<polyline clip-path=\"url(#clip080)\" style=\"stroke:#000000; stroke-width:4; stroke-opacity:1; fill:none\" points=\"\n",
       "  251.753,675.31 276.965,675.31 \n",
       "  \"/>\n",
       "<polyline clip-path=\"url(#clip080)\" style=\"stroke:#000000; stroke-width:4; stroke-opacity:1; fill:none\" points=\"\n",
       "  251.753,418.509 276.965,418.509 \n",
       "  \"/>\n",
       "<polyline clip-path=\"url(#clip080)\" style=\"stroke:#000000; stroke-width:4; stroke-opacity:1; fill:none\" points=\"\n",
       "  251.753,161.707 276.965,161.707 \n",
       "  \"/>\n",
       "<path clip-path=\"url(#clip080)\" d=\"M 0 0 M203.808 1431.51 Q200.197 1431.51 198.368 1435.08 Q196.563 1438.62 196.563 1445.75 Q196.563 1452.86 198.368 1456.42 Q200.197 1459.96 203.808 1459.96 Q207.442 1459.96 209.248 1456.42 Q211.077 1452.86 211.077 1445.75 Q211.077 1438.62 209.248 1435.08 Q207.442 1431.51 203.808 1431.51 M203.808 1427.81 Q209.618 1427.81 212.674 1432.42 Q215.753 1437 215.753 1445.75 Q215.753 1454.48 212.674 1459.08 Q209.618 1463.67 203.808 1463.67 Q197.998 1463.67 194.919 1459.08 Q191.864 1454.48 191.864 1445.75 Q191.864 1437 194.919 1432.42 Q197.998 1427.81 203.808 1427.81 Z\" fill=\"#000000\" fill-rule=\"evenodd\" fill-opacity=\"1\" /><path clip-path=\"url(#clip080)\" d=\"M 0 0 M52.4505 1178.08 L70.8068 1178.08 L70.8068 1182.02 L56.7328 1182.02 L56.7328 1190.49 Q57.7513 1190.14 58.7699 1189.98 Q59.7884 1189.79 60.8069 1189.79 Q66.5939 1189.79 69.9735 1192.97 Q73.3531 1196.14 73.3531 1201.55 Q73.3531 1207.13 69.8809 1210.23 Q66.4087 1213.31 60.0893 1213.31 Q57.9134 1213.31 55.6449 1212.94 Q53.3995 1212.57 50.9921 1211.83 L50.9921 1207.13 Q53.0754 1208.27 55.2977 1208.82 Q57.5199 1209.38 59.9967 1209.38 Q64.0013 1209.38 66.3393 1207.27 Q68.6772 1205.16 68.6772 1201.55 Q68.6772 1197.94 66.3393 1195.84 Q64.0013 1193.73 59.9967 1193.73 Q58.1217 1193.73 56.2467 1194.15 Q54.3949 1194.56 52.4505 1195.44 L52.4505 1178.08 Z\" fill=\"#000000\" fill-rule=\"evenodd\" fill-opacity=\"1\" /><path clip-path=\"url(#clip080)\" d=\"M 0 0 M78.4225 1206.76 L83.3068 1206.76 L83.3068 1212.64 L78.4225 1212.64 L78.4225 1206.76 Z\" fill=\"#000000\" fill-rule=\"evenodd\" fill-opacity=\"1\" /><path clip-path=\"url(#clip080)\" d=\"M 0 0 M98.3761 1181.16 Q94.765 1181.16 92.9363 1184.73 Q91.1308 1188.27 91.1308 1195.4 Q91.1308 1202.5 92.9363 1206.07 Q94.765 1209.61 98.3761 1209.61 Q102.01 1209.61 103.816 1206.07 Q105.645 1202.5 105.645 1195.4 Q105.645 1188.27 103.816 1184.73 Q102.01 1181.16 98.3761 1181.16 M98.3761 1177.46 Q104.186 1177.46 107.242 1182.06 Q110.321 1186.65 110.321 1195.4 Q110.321 1204.12 107.242 1208.73 Q104.186 1213.31 98.3761 1213.31 Q92.566 1213.31 89.4873 1208.73 Q86.4318 1204.12 86.4318 1195.4 Q86.4318 1186.65 89.4873 1182.06 Q92.566 1177.46 98.3761 1177.46 Z\" fill=\"#000000\" fill-rule=\"evenodd\" fill-opacity=\"1\" /><path clip-path=\"url(#clip080)\" d=\"M 0 0 M143.561 1187.18 L132.982 1197.8 L143.561 1208.38 L140.806 1211.18 L130.182 1200.56 L119.557 1211.18 L116.825 1208.38 L127.381 1197.8 L116.825 1187.18 L119.557 1184.38 L130.182 1195 L140.806 1184.38 L143.561 1187.18 Z\" fill=\"#000000\" fill-rule=\"evenodd\" fill-opacity=\"1\" /><path clip-path=\"url(#clip080)\" d=\"M 0 0 M149.441 1208.71 L157.08 1208.71 L157.08 1182.34 L148.769 1184.01 L148.769 1179.75 L157.033 1178.08 L161.709 1178.08 L161.709 1208.71 L169.348 1208.71 L169.348 1212.64 L149.441 1212.64 L149.441 1208.71 Z\" fill=\"#000000\" fill-rule=\"evenodd\" fill-opacity=\"1\" /><path clip-path=\"url(#clip080)\" d=\"M 0 0 M184.417 1181.16 Q180.806 1181.16 178.978 1184.73 Q177.172 1188.27 177.172 1195.4 Q177.172 1202.5 178.978 1206.07 Q180.806 1209.61 184.417 1209.61 Q188.052 1209.61 189.857 1206.07 Q191.686 1202.5 191.686 1195.4 Q191.686 1188.27 189.857 1184.73 Q188.052 1181.16 184.417 1181.16 M184.417 1177.46 Q190.227 1177.46 193.283 1182.06 Q196.362 1186.65 196.362 1195.4 Q196.362 1204.12 193.283 1208.73 Q190.227 1213.31 184.417 1213.31 Q178.607 1213.31 175.528 1208.73 Q172.473 1204.12 172.473 1195.4 Q172.473 1186.65 175.528 1182.06 Q178.607 1177.46 184.417 1177.46 Z\" fill=\"#000000\" fill-rule=\"evenodd\" fill-opacity=\"1\" /><path clip-path=\"url(#clip080)\" d=\"M 0 0 M206.386 1169.68 Q203.828 1169.68 202.324 1171.43 Q200.838 1173.18 200.838 1176.22 Q200.838 1179.25 202.324 1181.02 Q203.828 1182.77 206.386 1182.77 Q208.944 1182.77 210.43 1181.02 Q211.935 1179.25 211.935 1176.22 Q211.935 1173.18 210.43 1171.43 Q208.944 1169.68 206.386 1169.68 M213.928 1157.77 L213.928 1161.23 Q212.499 1160.56 211.032 1160.2 Q209.584 1159.84 208.154 1159.84 Q204.393 1159.84 202.399 1162.38 Q200.424 1164.92 200.142 1170.05 Q201.252 1168.42 202.926 1167.55 Q204.6 1166.67 206.612 1166.67 Q210.844 1166.67 213.289 1169.24 Q215.753 1171.8 215.753 1176.22 Q215.753 1180.55 213.195 1183.16 Q210.637 1185.78 206.386 1185.78 Q201.515 1185.78 198.938 1182.05 Q196.362 1178.31 196.362 1171.22 Q196.362 1164.56 199.521 1160.61 Q202.681 1156.64 208.004 1156.64 Q209.433 1156.64 210.881 1156.93 Q212.348 1157.21 213.928 1157.77 Z\" fill=\"#000000\" fill-rule=\"evenodd\" fill-opacity=\"1\" /><path clip-path=\"url(#clip080)\" d=\"M 0 0 M54.7812 951.905 L62.42 951.905 L62.42 925.539 L54.1099 927.206 L54.1099 922.946 L62.3737 921.28 L67.0496 921.28 L67.0496 951.905 L74.6885 951.905 L74.6885 955.84 L54.7812 955.84 L54.7812 951.905 Z\" fill=\"#000000\" fill-rule=\"evenodd\" fill-opacity=\"1\" /><path clip-path=\"url(#clip080)\" d=\"M 0 0 M79.7579 949.96 L84.6421 949.96 L84.6421 955.84 L79.7579 955.84 L79.7579 949.96 Z\" fill=\"#000000\" fill-rule=\"evenodd\" fill-opacity=\"1\" /><path clip-path=\"url(#clip080)\" d=\"M 0 0 M99.7115 924.359 Q96.1004 924.359 94.2717 927.923 Q92.4662 931.465 92.4662 938.595 Q92.4662 945.701 94.2717 949.266 Q96.1004 952.807 99.7115 952.807 Q103.346 952.807 105.151 949.266 Q106.98 945.701 106.98 938.595 Q106.98 931.465 105.151 927.923 Q103.346 924.359 99.7115 924.359 M99.7115 920.655 Q105.522 920.655 108.577 925.261 Q111.656 929.845 111.656 938.595 Q111.656 947.321 108.577 951.928 Q105.522 956.511 99.7115 956.511 Q93.9013 956.511 90.8226 951.928 Q87.7671 947.321 87.7671 938.595 Q87.7671 929.845 90.8226 925.261 Q93.9013 920.655 99.7115 920.655 Z\" fill=\"#000000\" fill-rule=\"evenodd\" fill-opacity=\"1\" /><path clip-path=\"url(#clip080)\" d=\"M 0 0 M144.896 930.377 L134.318 941.002 L144.896 951.581 L142.142 954.382 L131.517 943.757 L120.892 954.382 L118.16 951.581 L128.716 941.002 L118.16 930.377 L120.892 927.576 L131.517 938.201 L142.142 927.576 L144.896 930.377 Z\" fill=\"#000000\" fill-rule=\"evenodd\" fill-opacity=\"1\" /><path clip-path=\"url(#clip080)\" d=\"M 0 0 M150.776 951.905 L158.415 951.905 L158.415 925.539 L150.105 927.206 L150.105 922.946 L158.369 921.28 L163.044 921.28 L163.044 951.905 L170.683 951.905 L170.683 955.84 L150.776 955.84 L150.776 951.905 Z\" fill=\"#000000\" fill-rule=\"evenodd\" fill-opacity=\"1\" /><path clip-path=\"url(#clip080)\" d=\"M 0 0 M185.753 924.359 Q182.142 924.359 180.313 927.923 Q178.507 931.465 178.507 938.595 Q178.507 945.701 180.313 949.266 Q182.142 952.807 185.753 952.807 Q189.387 952.807 191.192 949.266 Q193.021 945.701 193.021 938.595 Q193.021 931.465 191.192 927.923 Q189.387 924.359 185.753 924.359 M185.753 920.655 Q191.563 920.655 194.618 925.261 Q197.697 929.845 197.697 938.595 Q197.697 947.321 194.618 951.928 Q191.563 956.511 185.753 956.511 Q179.943 956.511 176.864 951.928 Q173.808 947.321 173.808 938.595 Q173.808 929.845 176.864 925.261 Q179.943 920.655 185.753 920.655 Z\" fill=\"#000000\" fill-rule=\"evenodd\" fill-opacity=\"1\" /><path clip-path=\"url(#clip080)\" d=\"M 0 0 M197.697 900.349 L215.753 900.349 L215.753 901.967 L205.559 928.429 L201.59 928.429 L211.182 903.547 L197.697 903.547 L197.697 900.349 Z\" fill=\"#000000\" fill-rule=\"evenodd\" fill-opacity=\"1\" /><path clip-path=\"url(#clip080)\" d=\"M 0 0 M55.7765 695.103 L63.4154 695.103 L63.4154 668.737 L55.1052 670.404 L55.1052 666.145 L63.3691 664.478 L68.045 664.478 L68.045 695.103 L75.6838 695.103 L75.6838 699.038 L55.7765 699.038 L55.7765 695.103 Z\" fill=\"#000000\" fill-rule=\"evenodd\" fill-opacity=\"1\" /><path clip-path=\"url(#clip080)\" d=\"M 0 0 M80.7533 693.158 L85.6375 693.158 L85.6375 699.038 L80.7533 699.038 L80.7533 693.158 Z\" fill=\"#000000\" fill-rule=\"evenodd\" fill-opacity=\"1\" /><path clip-path=\"url(#clip080)\" d=\"M 0 0 M90.7532 664.478 L109.11 664.478 L109.11 668.413 L95.0356 668.413 L95.0356 676.885 Q96.0541 676.538 97.0726 676.376 Q98.0911 676.191 99.1096 676.191 Q104.897 676.191 108.276 679.362 Q111.656 682.534 111.656 687.95 Q111.656 693.529 108.184 696.631 Q104.711 699.709 98.392 699.709 Q96.2161 699.709 93.9476 699.339 Q91.7023 698.969 89.2949 698.228 L89.2949 693.529 Q91.3782 694.663 93.6004 695.219 Q95.8226 695.774 98.2995 695.774 Q102.304 695.774 104.642 693.668 Q106.98 691.561 106.98 687.95 Q106.98 684.339 104.642 682.233 Q102.304 680.126 98.2995 680.126 Q96.4245 680.126 94.5495 680.543 Q92.6976 680.959 90.7532 681.839 L90.7532 664.478 Z\" fill=\"#000000\" fill-rule=\"evenodd\" fill-opacity=\"1\" /><path clip-path=\"url(#clip080)\" d=\"M 0 0 M144.896 673.575 L134.318 684.2 L144.896 694.779 L142.142 697.58 L131.517 686.955 L120.892 697.58 L118.16 694.779 L128.716 684.2 L118.16 673.575 L120.892 670.774 L131.517 681.399 L142.142 670.774 L144.896 673.575 Z\" fill=\"#000000\" fill-rule=\"evenodd\" fill-opacity=\"1\" /><path clip-path=\"url(#clip080)\" d=\"M 0 0 M150.776 695.103 L158.415 695.103 L158.415 668.737 L150.105 670.404 L150.105 666.145 L158.369 664.478 L163.044 664.478 L163.044 695.103 L170.683 695.103 L170.683 699.038 L150.776 699.038 L150.776 695.103 Z\" fill=\"#000000\" fill-rule=\"evenodd\" fill-opacity=\"1\" /><path clip-path=\"url(#clip080)\" d=\"M 0 0 M185.753 667.557 Q182.142 667.557 180.313 671.122 Q178.507 674.663 178.507 681.793 Q178.507 688.899 180.313 692.464 Q182.142 696.006 185.753 696.006 Q189.387 696.006 191.192 692.464 Q193.021 688.899 193.021 681.793 Q193.021 674.663 191.192 671.122 Q189.387 667.557 185.753 667.557 M185.753 663.853 Q191.563 663.853 194.618 668.46 Q197.697 673.043 197.697 681.793 Q197.697 690.52 194.618 695.126 Q191.563 699.709 185.753 699.709 Q179.943 699.709 176.864 695.126 Q173.808 690.52 173.808 681.793 Q173.808 673.043 176.864 668.46 Q179.943 663.853 185.753 663.853 Z\" fill=\"#000000\" fill-rule=\"evenodd\" fill-opacity=\"1\" /><path clip-path=\"url(#clip080)\" d=\"M 0 0 M197.697 643.548 L215.753 643.548 L215.753 645.165 L205.559 671.628 L201.59 671.628 L211.182 646.745 L197.697 646.745 L197.697 643.548 Z\" fill=\"#000000\" fill-rule=\"evenodd\" fill-opacity=\"1\" /><path clip-path=\"url(#clip080)\" d=\"M 0 0 M58.3691 438.301 L74.6885 438.301 L74.6885 442.236 L52.7441 442.236 L52.7441 438.301 Q55.4062 435.547 59.9895 430.917 Q64.5959 426.264 65.7765 424.922 Q68.0218 422.398 68.9015 420.662 Q69.8042 418.903 69.8042 417.213 Q69.8042 414.459 67.8598 412.723 Q65.9385 410.987 62.8367 410.987 Q60.6376 410.987 58.1839 411.75 Q55.7534 412.514 52.9756 414.065 L52.9756 409.343 Q55.7997 408.209 58.2534 407.63 Q60.7071 407.051 62.7441 407.051 Q68.1144 407.051 71.3089 409.737 Q74.5033 412.422 74.5033 416.912 Q74.5033 419.042 73.6931 420.963 Q72.9061 422.861 70.7996 425.454 Q70.2209 426.125 67.1191 429.343 Q64.0172 432.537 58.3691 438.301 Z\" fill=\"#000000\" fill-rule=\"evenodd\" fill-opacity=\"1\" /><path clip-path=\"url(#clip080)\" d=\"M 0 0 M79.7579 436.357 L84.6421 436.357 L84.6421 442.236 L79.7579 442.236 L79.7579 436.357 Z\" fill=\"#000000\" fill-rule=\"evenodd\" fill-opacity=\"1\" /><path clip-path=\"url(#clip080)\" d=\"M 0 0 M99.7115 410.755 Q96.1004 410.755 94.2717 414.32 Q92.4662 417.861 92.4662 424.991 Q92.4662 432.098 94.2717 435.662 Q96.1004 439.204 99.7115 439.204 Q103.346 439.204 105.151 435.662 Q106.98 432.098 106.98 424.991 Q106.98 417.861 105.151 414.32 Q103.346 410.755 99.7115 410.755 M99.7115 407.051 Q105.522 407.051 108.577 411.658 Q111.656 416.241 111.656 424.991 Q111.656 433.718 108.577 438.324 Q105.522 442.908 99.7115 442.908 Q93.9013 442.908 90.8226 438.324 Q87.7671 433.718 87.7671 424.991 Q87.7671 416.241 90.8226 411.658 Q93.9013 407.051 99.7115 407.051 Z\" fill=\"#000000\" fill-rule=\"evenodd\" fill-opacity=\"1\" /><path clip-path=\"url(#clip080)\" d=\"M 0 0 M144.896 416.774 L134.318 427.398 L144.896 437.977 L142.142 440.778 L131.517 430.153 L120.892 440.778 L118.16 437.977 L128.716 427.398 L118.16 416.774 L120.892 413.973 L131.517 424.598 L142.142 413.973 L144.896 416.774 Z\" fill=\"#000000\" fill-rule=\"evenodd\" fill-opacity=\"1\" /><path clip-path=\"url(#clip080)\" d=\"M 0 0 M150.776 438.301 L158.415 438.301 L158.415 411.936 L150.105 413.602 L150.105 409.343 L158.369 407.676 L163.044 407.676 L163.044 438.301 L170.683 438.301 L170.683 442.236 L150.776 442.236 L150.776 438.301 Z\" fill=\"#000000\" fill-rule=\"evenodd\" fill-opacity=\"1\" /><path clip-path=\"url(#clip080)\" d=\"M 0 0 M185.753 410.755 Q182.142 410.755 180.313 414.32 Q178.507 417.861 178.507 424.991 Q178.507 432.098 180.313 435.662 Q182.142 439.204 185.753 439.204 Q189.387 439.204 191.192 435.662 Q193.021 432.098 193.021 424.991 Q193.021 417.861 191.192 414.32 Q189.387 410.755 185.753 410.755 M185.753 407.051 Q191.563 407.051 194.618 411.658 Q197.697 416.241 197.697 424.991 Q197.697 433.718 194.618 438.324 Q191.563 442.908 185.753 442.908 Q179.943 442.908 176.864 438.324 Q173.808 433.718 173.808 424.991 Q173.808 416.241 176.864 411.658 Q179.943 407.051 185.753 407.051 Z\" fill=\"#000000\" fill-rule=\"evenodd\" fill-opacity=\"1\" /><path clip-path=\"url(#clip080)\" d=\"M 0 0 M197.697 386.746 L215.753 386.746 L215.753 388.363 L205.559 414.826 L201.59 414.826 L211.182 389.943 L197.697 389.943 L197.697 386.746 Z\" fill=\"#000000\" fill-rule=\"evenodd\" fill-opacity=\"1\" /><path clip-path=\"url(#clip080)\" d=\"M 0 0 M59.3645 181.499 L75.6838 181.499 L75.6838 185.435 L53.7395 185.435 L53.7395 181.499 Q56.4015 178.745 60.9848 174.115 Q65.5913 169.462 66.7718 168.12 Q69.0172 165.597 69.8968 163.861 Q70.7996 162.101 70.7996 160.412 Q70.7996 157.657 68.8552 155.921 Q66.9339 154.185 63.832 154.185 Q61.633 154.185 59.1793 154.949 Q56.7488 155.713 53.971 157.263 L53.971 152.541 Q56.795 151.407 59.2487 150.828 Q61.7024 150.25 63.7395 150.25 Q69.1098 150.25 72.3042 152.935 Q75.4986 155.62 75.4986 160.111 Q75.4986 162.24 74.6885 164.162 Q73.9014 166.06 71.795 168.652 Q71.2163 169.324 68.1144 172.541 Q65.0126 175.736 59.3645 181.499 Z\" fill=\"#000000\" fill-rule=\"evenodd\" fill-opacity=\"1\" /><path clip-path=\"url(#clip080)\" d=\"M 0 0 M80.7533 179.555 L85.6375 179.555 L85.6375 185.435 L80.7533 185.435 L80.7533 179.555 Z\" fill=\"#000000\" fill-rule=\"evenodd\" fill-opacity=\"1\" /><path clip-path=\"url(#clip080)\" d=\"M 0 0 M90.7532 150.875 L109.11 150.875 L109.11 154.81 L95.0356 154.81 L95.0356 163.282 Q96.0541 162.935 97.0726 162.773 Q98.0911 162.587 99.1096 162.587 Q104.897 162.587 108.276 165.759 Q111.656 168.93 111.656 174.347 Q111.656 179.925 108.184 183.027 Q104.711 186.106 98.392 186.106 Q96.2161 186.106 93.9476 185.736 Q91.7023 185.365 89.2949 184.624 L89.2949 179.925 Q91.3782 181.06 93.6004 181.615 Q95.8226 182.171 98.2995 182.171 Q102.304 182.171 104.642 180.064 Q106.98 177.958 106.98 174.347 Q106.98 170.736 104.642 168.629 Q102.304 166.523 98.2995 166.523 Q96.4245 166.523 94.5495 166.939 Q92.6976 167.356 90.7532 168.236 L90.7532 150.875 Z\" fill=\"#000000\" fill-rule=\"evenodd\" fill-opacity=\"1\" /><path clip-path=\"url(#clip080)\" d=\"M 0 0 M144.896 159.972 L134.318 170.597 L144.896 181.175 L142.142 183.976 L131.517 173.351 L120.892 183.976 L118.16 181.175 L128.716 170.597 L118.16 159.972 L120.892 157.171 L131.517 167.796 L142.142 157.171 L144.896 159.972 Z\" fill=\"#000000\" fill-rule=\"evenodd\" fill-opacity=\"1\" /><path clip-path=\"url(#clip080)\" d=\"M 0 0 M150.776 181.499 L158.415 181.499 L158.415 155.134 L150.105 156.8 L150.105 152.541 L158.369 150.875 L163.044 150.875 L163.044 181.499 L170.683 181.499 L170.683 185.435 L150.776 185.435 L150.776 181.499 Z\" fill=\"#000000\" fill-rule=\"evenodd\" fill-opacity=\"1\" /><path clip-path=\"url(#clip080)\" d=\"M 0 0 M185.753 153.953 Q182.142 153.953 180.313 157.518 Q178.507 161.06 178.507 168.189 Q178.507 175.296 180.313 178.861 Q182.142 182.402 185.753 182.402 Q189.387 182.402 191.192 178.861 Q193.021 175.296 193.021 168.189 Q193.021 161.06 191.192 157.518 Q189.387 153.953 185.753 153.953 M185.753 150.25 Q191.563 150.25 194.618 154.856 Q197.697 159.439 197.697 168.189 Q197.697 176.916 194.618 181.523 Q191.563 186.106 185.753 186.106 Q179.943 186.106 176.864 181.523 Q173.808 176.916 173.808 168.189 Q173.808 159.439 176.864 154.856 Q179.943 150.25 185.753 150.25 Z\" fill=\"#000000\" fill-rule=\"evenodd\" fill-opacity=\"1\" /><path clip-path=\"url(#clip080)\" d=\"M 0 0 M197.697 129.944 L215.753 129.944 L215.753 131.562 L205.559 158.024 L201.59 158.024 L211.182 133.142 L197.697 133.142 L197.697 129.944 Z\" fill=\"#000000\" fill-rule=\"evenodd\" fill-opacity=\"1\" /><polyline clip-path=\"url(#clip082)\" style=\"stroke:#009af9; stroke-width:4; stroke-opacity:1; fill:none\" points=\"\n",
       "  311.215,1445.72 316.472,1445.72 321.73,1445.72 326.987,1445.72 332.245,1445.72 337.502,1445.72 342.76,1445.72 348.017,1445.72 353.275,1445.72 358.532,1445.72 \n",
       "  363.79,1445.72 369.047,1445.72 374.305,1445.72 379.562,1445.72 384.82,1445.72 390.077,1445.72 395.335,1445.72 400.592,1445.72 405.85,1445.72 411.107,1445.72 \n",
       "  416.365,1445.72 421.622,1445.72 426.88,1445.72 432.137,1445.72 437.395,1445.72 442.652,1445.72 447.91,1445.72 453.167,1445.72 458.425,1445.72 463.682,1445.72 \n",
       "  468.94,1445.71 474.197,1445.71 479.455,1445.71 484.712,1445.71 489.97,1445.71 495.227,1445.71 500.485,1445.71 505.743,1445.71 511,1445.71 516.258,1445.71 \n",
       "  521.515,1445.71 526.773,1445.71 532.03,1445.71 537.288,1445.71 542.545,1445.7 547.803,1445.7 553.06,1445.69 558.318,1445.69 563.575,1445.68 568.833,1445.66 \n",
       "  574.09,1445.63 579.348,1445.6 584.605,1445.56 589.863,1445.55 595.12,1445.48 600.378,1445.38 605.635,1445.24 610.893,1445.01 616.15,1444.69 621.408,1444.38 \n",
       "  626.665,1443.92 631.923,1443.35 637.18,1442.8 642.438,1442.18 647.695,1441.26 652.953,1440.3 658.21,1439.3 663.468,1438.32 668.725,1437.19 673.983,1435.84 \n",
       "  679.24,1434.18 684.498,1432.53 689.755,1430.87 695.013,1429.2 700.27,1427.67 705.528,1426.06 710.785,1424.48 716.043,1422.88 721.3,1421.03 726.558,1419.26 \n",
       "  731.815,1417.77 737.073,1416.37 742.33,1414.98 747.588,1413.51 752.845,1412.2 758.103,1410.66 763.36,1408.96 768.618,1407.52 773.875,1406.18 779.133,1404.65 \n",
       "  784.39,1403.32 789.648,1401.84 794.905,1400.12 800.163,1398.45 805.42,1396.89 810.678,1395.53 815.935,1394.32 821.193,1393.05 826.45,1391.69 831.708,1390.19 \n",
       "  836.965,1388.4 842.223,1387 847.48,1385.75 852.738,1384.51 857.995,1383.25 863.253,1381.99 868.51,1380.58 873.768,1379.2 879.025,1377.91 884.283,1376.94 \n",
       "  889.54,1375.95 894.798,1374.77 900.055,1373.73 905.313,1372.35 910.57,1371.08 915.828,1369.84 921.085,1368.89 926.343,1367.74 931.6,1366.67 936.858,1365.5 \n",
       "  942.115,1364.18 947.373,1362.96 952.63,1361.88 957.888,1360.85 963.145,1359.89 968.403,1358.88 973.66,1357.93 978.918,1356.78 984.175,1355.52 989.433,1354.31 \n",
       "  994.69,1353.33 999.948,1352.44 1005.21,1351.33 1010.46,1350.31 1015.72,1349.2 1020.98,1347.9 1026.24,1346.81 1031.49,1345.89 1036.75,1344.98 1042.01,1344.04 \n",
       "  1047.27,1342.96 1052.52,1341.77 1057.78,1340.49 1063.04,1339.2 1068.3,1338.22 1073.55,1337.21 1078.81,1335.99 1084.07,1334.6 1089.33,1333.14 1094.58,1331.51 \n",
       "  1099.84,1329.86 1105.1,1328.57 1110.36,1326.91 1115.61,1325.01 1120.87,1323.17 1126.13,1321.1 1131.39,1318.74 1136.64,1316.61 1141.9,1314.52 1147.16,1312.4 \n",
       "  1152.42,1310.02 1157.67,1307.36 1162.93,1304.45 1168.19,1301.81 1173.45,1299.46 1178.7,1296.86 1183.96,1294.64 1189.22,1291.53 1194.48,1288.44 1199.73,1285.23 \n",
       "  1204.99,1281.74 1210.25,1278.66 1215.51,1275.65 1220.76,1272.63 1226.02,1269.14 1231.28,1265.64 1236.54,1261.75 1241.79,1258.03 1247.05,1254.82 1252.31,1251.72 \n",
       "  1257.57,1248.53 1262.82,1245.22 1268.08,1241.59 1273.34,1238.08 1278.6,1234.31 1283.85,1230.98 1289.11,1228.16 1294.37,1225.25 1299.63,1221.84 1304.88,1218.15 \n",
       "  1310.14,1214.68 1315.4,1211.16 1320.66,1208.27 1325.91,1205.93 1331.17,1203.59 1336.43,1200.58 1341.69,1197.78 1346.94,1194.73 1352.2,1191.69 1357.46,1188.91 \n",
       "  1362.72,1186.56 1367.97,1184.11 1373.23,1181.65 1378.49,1178.77 1383.75,1176.14 1389,1172.79 1394.26,1170.38 1399.52,1168.36 1404.78,1166.48 1410.03,1164.17 \n",
       "  1415.29,1161.74 1420.55,1159.49 1425.81,1156.99 1431.06,1154.78 1436.32,1153.02 1441.58,1151.14 1446.84,1149.08 1452.09,1146.75 1457.35,1144.43 1462.61,1142.02 \n",
       "  1467.87,1139.83 1473.12,1138.06 1478.38,1136.24 1483.64,1134.1 1488.9,1132 1494.15,1129.73 1499.41,1127.14 1504.67,1124.94 1509.93,1123.33 1515.18,1122.12 \n",
       "  1520.44,1120.71 1525.7,1118.98 1530.96,1117.12 1536.21,1114.68 1541.47,1112.57 1546.73,1110.81 1551.99,1109.04 1557.24,1107.02 1562.5,1105.02 1567.76,1102.7 \n",
       "  1573.02,1100.18 1578.27,1098.01 1583.53,1096.05 1588.79,1093.38 1594.05,1091.34 1599.3,1089.34 1604.56,1086.92 1609.82,1084.45 1615.08,1082.16 1620.33,1080.23 \n",
       "  1625.59,1078.53 1630.85,1076.31 1636.11,1074.29 1641.36,1071.95 1646.62,1069.13 1651.88,1066.64 1657.14,1064.8 1662.39,1062.77 1667.65,1060.46 1672.91,1057.84 \n",
       "  1678.17,1054.84 1683.42,1051.95 1688.68,1049.13 1693.94,1046.77 1699.2,1044.62 1704.45,1041.95 1709.71,1038.89 1714.97,1035.56 1720.23,1032.01 1725.48,1029.1 \n",
       "  1730.74,1026.57 1736,1023.09 1741.26,1019.92 1746.51,1016.67 1751.77,1012.76 1757.03,1008.56 1762.29,1004.31 1767.54,1001.13 1772.8,997.671 1778.06,993.738 \n",
       "  1783.32,989.67 1788.57,985.007 1793.83,979.923 1799.09,975.318 1804.35,969.936 1809.6,965.565 1814.86,959.046 1820.12,953.685 1825.38,947.054 1830.63,940.493 \n",
       "  1835.89,933.959 1841.15,928.049 1846.41,921.862 1851.66,914.66 1856.92,907.142 1862.18,898.699 1867.44,889.444 1872.69,880.839 1877.95,873.847 1883.21,865.5 \n",
       "  1888.47,857.106 1893.72,848.228 1898.98,838.41 1904.24,828.243 1909.5,819.043 1914.75,811.511 1920.01,802.575 1925.27,793.585 1930.53,784.202 1935.78,778.47 \n",
       "  1941.04,767.787 1946.3,759.803 1951.56,752.61 1956.81,744.381 1962.07,734.75 1967.33,724.382 1972.59,712.965 1977.84,701.048 1983.1,690.019 1988.36,680.733 \n",
       "  1993.62,670.739 1998.87,659.241 2004.13,647.857 2009.39,636.011 2014.65,623.753 2019.9,612.638 2025.16,603.012 2030.42,593.091 2035.68,582.347 2040.93,569.726 \n",
       "  2046.19,557.447 2051.45,544.554 2056.71,534.712 2061.96,525.08 2067.22,514.879 2072.48,504.749 2077.74,493 2082.99,483.079 2088.25,478.111 2093.51,466.46 \n",
       "  2098.77,458.464 2104.02,449.518 2109.28,439.304 2114.54,427.387 2119.8,415.373 2125.05,407.549 2130.31,392.126 2135.57,381.415 2140.83,371.975 2146.08,359.981 \n",
       "  2151.34,346.94 2156.6,332.727 2161.86,317.727 2167.11,304.272 2172.37,293.318 2177.63,282.329 2182.89,270.709 2188.14,258.903 2193.4,246.834 2198.66,234.472 \n",
       "  2203.92,224.16 2209.17,215.049 2214.43,207.724 2219.69,198.634 2224.95,189.257 2230.2,179.342 2235.46,169.582 2240.72,160.843 2245.98,154.111 2251.23,146.351 \n",
       "  2256.49,138.822 2261.75,130.99 2267.01,122.33 2272.26,113.798 2277.52,106.501 2282.78,100.753 2288.04,93.8538 2293.29,87.9763 \n",
       "  \"/>\n",
       "<path clip-path=\"url(#clip080)\" d=\"\n",
       "M1998.26 216.178 L2282.72 216.178 L2282.72 95.2176 L1998.26 95.2176  Z\n",
       "  \" fill=\"#ffffff\" fill-rule=\"evenodd\" fill-opacity=\"1\"/>\n",
       "<polyline clip-path=\"url(#clip080)\" style=\"stroke:#000000; stroke-width:4; stroke-opacity:1; fill:none\" points=\"\n",
       "  1998.26,216.178 2282.72,216.178 2282.72,95.2176 1998.26,95.2176 1998.26,216.178 \n",
       "  \"/>\n",
       "<polyline clip-path=\"url(#clip080)\" style=\"stroke:#009af9; stroke-width:4; stroke-opacity:1; fill:none\" points=\"\n",
       "  2021.6,155.698 2161.67,155.698 \n",
       "  \"/>\n",
       "<path clip-path=\"url(#clip080)\" d=\"M 0 0 M2198.86 175.385 Q2197.05 180.015 2195.34 181.427 Q2193.63 182.839 2190.76 182.839 L2187.35 182.839 L2187.35 179.274 L2189.85 179.274 Q2191.61 179.274 2192.58 178.44 Q2193.56 177.607 2194.74 174.505 L2195.5 172.561 L2185.02 147.052 L2189.53 147.052 L2197.63 167.329 L2205.73 147.052 L2210.25 147.052 L2198.86 175.385 Z\" fill=\"#000000\" fill-rule=\"evenodd\" fill-opacity=\"1\" /><path clip-path=\"url(#clip080)\" d=\"M 0 0 M2216.13 169.042 L2223.77 169.042 L2223.77 142.677 L2215.45 144.343 L2215.45 140.084 L2223.72 138.418 L2228.39 138.418 L2228.39 169.042 L2236.03 169.042 L2236.03 172.978 L2216.13 172.978 L2216.13 169.042 Z\" fill=\"#000000\" fill-rule=\"evenodd\" fill-opacity=\"1\" /></svg>\n"
      ]
     },
     "execution_count": 33,
     "metadata": {},
     "output_type": "execute_result"
    }
   ],
   "source": [
    "plot(US_data)"
   ]
  },
  {
   "cell_type": "code",
   "execution_count": 37,
   "metadata": {},
   "outputs": [],
   "source": [
    "col_names = String.(names(df))[5:end];"
   ]
  },
  {
   "cell_type": "code",
   "execution_count": 38,
   "metadata": {},
   "outputs": [],
   "source": [
    "using Dates"
   ]
  },
  {
   "cell_type": "code",
   "execution_count": 40,
   "metadata": {},
   "outputs": [
    {
     "data": {
      "text/plain": [
       "dateformat\"m/d/Y\""
      ]
     },
     "execution_count": 40,
     "metadata": {},
     "output_type": "execute_result"
    }
   ],
   "source": [
    "fmt = Dates.DateFormat(\"m/d/Y\")"
   ]
  },
  {
   "cell_type": "code",
   "execution_count": 45,
   "metadata": {},
   "outputs": [],
   "source": [
    "dates = parse.(Date, col_names, fmt) .+ Year(2000);"
   ]
  },
  {
   "cell_type": "code",
   "execution_count": 51,
   "metadata": {},
   "outputs": [
    {
     "data": {
      "image/svg+xml": [
       "<?xml version=\"1.0\" encoding=\"utf-8\"?>\n",
       "<svg xmlns=\"http://www.w3.org/2000/svg\" xmlns:xlink=\"http://www.w3.org/1999/xlink\" width=\"600\" height=\"400\" viewBox=\"0 0 2400 1600\">\n",
       "<defs>\n",
       "  <clipPath id=\"clip280\">\n",
       "    <rect x=\"0\" y=\"0\" width=\"2400\" height=\"1600\"/>\n",
       "  </clipPath>\n",
       "</defs>\n",
       "<path clip-path=\"url(#clip280)\" d=\"\n",
       "M0 1600 L2400 1600 L2400 0 L0 0  Z\n",
       "  \" fill=\"#ffffff\" fill-rule=\"evenodd\" fill-opacity=\"1\"/>\n",
       "<defs>\n",
       "  <clipPath id=\"clip281\">\n",
       "    <rect x=\"480\" y=\"0\" width=\"1681\" height=\"1600\"/>\n",
       "  </clipPath>\n",
       "</defs>\n",
       "<path clip-path=\"url(#clip280)\" d=\"\n",
       "M218.315 1264.01 L2352.76 1264.01 L2352.76 47.2441 L218.315 47.2441  Z\n",
       "  \" fill=\"#ffffff\" fill-rule=\"evenodd\" fill-opacity=\"1\"/>\n",
       "<defs>\n",
       "  <clipPath id=\"clip282\">\n",
       "    <rect x=\"218\" y=\"47\" width=\"2135\" height=\"1218\"/>\n",
       "  </clipPath>\n",
       "</defs>\n",
       "<polyline clip-path=\"url(#clip282)\" style=\"stroke:#000000; stroke-width:2; stroke-opacity:0.1; fill:none\" points=\"\n",
       "  278.724,1264.01 278.724,47.2441 \n",
       "  \"/>\n",
       "<polyline clip-path=\"url(#clip282)\" style=\"stroke:#000000; stroke-width:2; stroke-opacity:0.1; fill:none\" points=\"\n",
       "  385.548,1264.01 385.548,47.2441 \n",
       "  \"/>\n",
       "<polyline clip-path=\"url(#clip282)\" style=\"stroke:#000000; stroke-width:2; stroke-opacity:0.1; fill:none\" points=\"\n",
       "  492.371,1264.01 492.371,47.2441 \n",
       "  \"/>\n",
       "<polyline clip-path=\"url(#clip282)\" style=\"stroke:#000000; stroke-width:2; stroke-opacity:0.1; fill:none\" points=\"\n",
       "  599.195,1264.01 599.195,47.2441 \n",
       "  \"/>\n",
       "<polyline clip-path=\"url(#clip282)\" style=\"stroke:#000000; stroke-width:2; stroke-opacity:0.1; fill:none\" points=\"\n",
       "  706.018,1264.01 706.018,47.2441 \n",
       "  \"/>\n",
       "<polyline clip-path=\"url(#clip282)\" style=\"stroke:#000000; stroke-width:2; stroke-opacity:0.1; fill:none\" points=\"\n",
       "  812.842,1264.01 812.842,47.2441 \n",
       "  \"/>\n",
       "<polyline clip-path=\"url(#clip282)\" style=\"stroke:#000000; stroke-width:2; stroke-opacity:0.1; fill:none\" points=\"\n",
       "  919.665,1264.01 919.665,47.2441 \n",
       "  \"/>\n",
       "<polyline clip-path=\"url(#clip282)\" style=\"stroke:#000000; stroke-width:2; stroke-opacity:0.1; fill:none\" points=\"\n",
       "  1026.49,1264.01 1026.49,47.2441 \n",
       "  \"/>\n",
       "<polyline clip-path=\"url(#clip282)\" style=\"stroke:#000000; stroke-width:2; stroke-opacity:0.1; fill:none\" points=\"\n",
       "  1133.31,1264.01 1133.31,47.2441 \n",
       "  \"/>\n",
       "<polyline clip-path=\"url(#clip282)\" style=\"stroke:#000000; stroke-width:2; stroke-opacity:0.1; fill:none\" points=\"\n",
       "  1240.14,1264.01 1240.14,47.2441 \n",
       "  \"/>\n",
       "<polyline clip-path=\"url(#clip282)\" style=\"stroke:#000000; stroke-width:2; stroke-opacity:0.1; fill:none\" points=\"\n",
       "  1346.96,1264.01 1346.96,47.2441 \n",
       "  \"/>\n",
       "<polyline clip-path=\"url(#clip282)\" style=\"stroke:#000000; stroke-width:2; stroke-opacity:0.1; fill:none\" points=\"\n",
       "  1453.78,1264.01 1453.78,47.2441 \n",
       "  \"/>\n",
       "<polyline clip-path=\"url(#clip282)\" style=\"stroke:#000000; stroke-width:2; stroke-opacity:0.1; fill:none\" points=\"\n",
       "  1560.61,1264.01 1560.61,47.2441 \n",
       "  \"/>\n",
       "<polyline clip-path=\"url(#clip282)\" style=\"stroke:#000000; stroke-width:2; stroke-opacity:0.1; fill:none\" points=\"\n",
       "  1667.43,1264.01 1667.43,47.2441 \n",
       "  \"/>\n",
       "<polyline clip-path=\"url(#clip282)\" style=\"stroke:#000000; stroke-width:2; stroke-opacity:0.1; fill:none\" points=\"\n",
       "  1774.25,1264.01 1774.25,47.2441 \n",
       "  \"/>\n",
       "<polyline clip-path=\"url(#clip282)\" style=\"stroke:#000000; stroke-width:2; stroke-opacity:0.1; fill:none\" points=\"\n",
       "  1881.08,1264.01 1881.08,47.2441 \n",
       "  \"/>\n",
       "<polyline clip-path=\"url(#clip282)\" style=\"stroke:#000000; stroke-width:2; stroke-opacity:0.1; fill:none\" points=\"\n",
       "  1987.9,1264.01 1987.9,47.2441 \n",
       "  \"/>\n",
       "<polyline clip-path=\"url(#clip282)\" style=\"stroke:#000000; stroke-width:2; stroke-opacity:0.1; fill:none\" points=\"\n",
       "  2094.72,1264.01 2094.72,47.2441 \n",
       "  \"/>\n",
       "<polyline clip-path=\"url(#clip282)\" style=\"stroke:#000000; stroke-width:2; stroke-opacity:0.1; fill:none\" points=\"\n",
       "  2201.55,1264.01 2201.55,47.2441 \n",
       "  \"/>\n",
       "<polyline clip-path=\"url(#clip280)\" style=\"stroke:#000000; stroke-width:4; stroke-opacity:1; fill:none\" points=\"\n",
       "  218.315,1264.01 2352.76,1264.01 \n",
       "  \"/>\n",
       "<polyline clip-path=\"url(#clip280)\" style=\"stroke:#000000; stroke-width:4; stroke-opacity:1; fill:none\" points=\"\n",
       "  278.724,1264.01 278.724,1249.41 \n",
       "  \"/>\n",
       "<polyline clip-path=\"url(#clip280)\" style=\"stroke:#000000; stroke-width:4; stroke-opacity:1; fill:none\" points=\"\n",
       "  385.548,1264.01 385.548,1249.41 \n",
       "  \"/>\n",
       "<polyline clip-path=\"url(#clip280)\" style=\"stroke:#000000; stroke-width:4; stroke-opacity:1; fill:none\" points=\"\n",
       "  492.371,1264.01 492.371,1249.41 \n",
       "  \"/>\n",
       "<polyline clip-path=\"url(#clip280)\" style=\"stroke:#000000; stroke-width:4; stroke-opacity:1; fill:none\" points=\"\n",
       "  599.195,1264.01 599.195,1249.41 \n",
       "  \"/>\n",
       "<polyline clip-path=\"url(#clip280)\" style=\"stroke:#000000; stroke-width:4; stroke-opacity:1; fill:none\" points=\"\n",
       "  706.018,1264.01 706.018,1249.41 \n",
       "  \"/>\n",
       "<polyline clip-path=\"url(#clip280)\" style=\"stroke:#000000; stroke-width:4; stroke-opacity:1; fill:none\" points=\"\n",
       "  812.842,1264.01 812.842,1249.41 \n",
       "  \"/>\n",
       "<polyline clip-path=\"url(#clip280)\" style=\"stroke:#000000; stroke-width:4; stroke-opacity:1; fill:none\" points=\"\n",
       "  919.665,1264.01 919.665,1249.41 \n",
       "  \"/>\n",
       "<polyline clip-path=\"url(#clip280)\" style=\"stroke:#000000; stroke-width:4; stroke-opacity:1; fill:none\" points=\"\n",
       "  1026.49,1264.01 1026.49,1249.41 \n",
       "  \"/>\n",
       "<polyline clip-path=\"url(#clip280)\" style=\"stroke:#000000; stroke-width:4; stroke-opacity:1; fill:none\" points=\"\n",
       "  1133.31,1264.01 1133.31,1249.41 \n",
       "  \"/>\n",
       "<polyline clip-path=\"url(#clip280)\" style=\"stroke:#000000; stroke-width:4; stroke-opacity:1; fill:none\" points=\"\n",
       "  1240.14,1264.01 1240.14,1249.41 \n",
       "  \"/>\n",
       "<polyline clip-path=\"url(#clip280)\" style=\"stroke:#000000; stroke-width:4; stroke-opacity:1; fill:none\" points=\"\n",
       "  1346.96,1264.01 1346.96,1249.41 \n",
       "  \"/>\n",
       "<polyline clip-path=\"url(#clip280)\" style=\"stroke:#000000; stroke-width:4; stroke-opacity:1; fill:none\" points=\"\n",
       "  1453.78,1264.01 1453.78,1249.41 \n",
       "  \"/>\n",
       "<polyline clip-path=\"url(#clip280)\" style=\"stroke:#000000; stroke-width:4; stroke-opacity:1; fill:none\" points=\"\n",
       "  1560.61,1264.01 1560.61,1249.41 \n",
       "  \"/>\n",
       "<polyline clip-path=\"url(#clip280)\" style=\"stroke:#000000; stroke-width:4; stroke-opacity:1; fill:none\" points=\"\n",
       "  1667.43,1264.01 1667.43,1249.41 \n",
       "  \"/>\n",
       "<polyline clip-path=\"url(#clip280)\" style=\"stroke:#000000; stroke-width:4; stroke-opacity:1; fill:none\" points=\"\n",
       "  1774.25,1264.01 1774.25,1249.41 \n",
       "  \"/>\n",
       "<polyline clip-path=\"url(#clip280)\" style=\"stroke:#000000; stroke-width:4; stroke-opacity:1; fill:none\" points=\"\n",
       "  1881.08,1264.01 1881.08,1249.41 \n",
       "  \"/>\n",
       "<polyline clip-path=\"url(#clip280)\" style=\"stroke:#000000; stroke-width:4; stroke-opacity:1; fill:none\" points=\"\n",
       "  1987.9,1264.01 1987.9,1249.41 \n",
       "  \"/>\n",
       "<polyline clip-path=\"url(#clip280)\" style=\"stroke:#000000; stroke-width:4; stroke-opacity:1; fill:none\" points=\"\n",
       "  2094.72,1264.01 2094.72,1249.41 \n",
       "  \"/>\n",
       "<polyline clip-path=\"url(#clip280)\" style=\"stroke:#000000; stroke-width:4; stroke-opacity:1; fill:none\" points=\"\n",
       "  2201.55,1264.01 2201.55,1249.41 \n",
       "  \"/>\n",
       "<path clip-path=\"url(#clip280)\" d=\"M 0 0 M143.353 1471.67 L154.893 1460.13 L157.675 1462.91 L142.158 1478.43 L139.376 1475.65 Q139.31 1471.82 139.277 1465.3 Q139.245 1458.76 139.13 1456.97 Q138.934 1453.6 138.328 1451.75 Q137.722 1449.87 136.528 1448.67 Q134.58 1446.73 131.977 1446.87 Q129.391 1447 127.198 1449.2 Q125.643 1450.75 124.448 1453.03 Q123.269 1455.29 122.402 1458.35 L119.063 1455.01 Q120.258 1452.21 121.583 1450.06 Q122.909 1447.92 124.35 1446.48 Q128.147 1442.68 132.305 1442.32 Q136.462 1441.96 139.638 1445.14 Q141.143 1446.64 141.929 1448.57 Q142.715 1450.47 143.058 1453.8 Q143.124 1454.68 143.206 1459.15 Q143.271 1463.6 143.353 1471.67 Z\" fill=\"#000000\" fill-rule=\"evenodd\" fill-opacity=\"1\" /><path clip-path=\"url(#clip280)\" d=\"M 0 0 M146.07 1430 Q143.517 1432.55 144.744 1436.36 Q145.972 1440.15 151.013 1445.19 Q156.038 1450.21 159.836 1451.46 Q163.633 1452.67 166.187 1450.11 Q168.756 1447.54 167.529 1443.76 Q166.301 1439.95 161.276 1434.92 Q156.235 1429.88 152.437 1428.67 Q148.64 1427.43 146.07 1430 M143.451 1427.38 Q147.56 1423.27 152.978 1424.37 Q158.395 1425.43 164.583 1431.62 Q170.753 1437.79 171.834 1443.22 Q172.914 1448.62 168.806 1452.73 Q164.697 1456.84 159.279 1455.78 Q153.861 1454.68 147.691 1448.51 Q141.504 1442.32 140.423 1436.92 Q139.343 1431.49 143.451 1427.38 Z\" fill=\"#000000\" fill-rule=\"evenodd\" fill-opacity=\"1\" /><path clip-path=\"url(#clip280)\" d=\"M 0 0 M180.427 1434.6 L191.966 1423.06 L194.749 1425.84 L179.232 1441.36 L176.449 1438.57 Q176.384 1434.74 176.351 1428.23 Q176.319 1421.68 176.204 1419.9 Q176.008 1416.53 175.402 1414.68 Q174.796 1412.79 173.601 1411.6 Q171.654 1409.65 169.051 1409.8 Q166.465 1409.93 164.272 1412.12 Q162.717 1413.68 161.522 1415.95 Q160.343 1418.21 159.476 1421.27 L156.137 1417.93 Q157.331 1415.13 158.657 1412.99 Q159.983 1410.85 161.424 1409.41 Q165.221 1405.61 169.378 1405.25 Q173.536 1404.89 176.711 1408.06 Q178.217 1409.57 179.003 1411.5 Q179.789 1413.4 180.132 1416.72 Q180.198 1417.61 180.28 1422.07 Q180.345 1426.53 180.427 1434.6 Z\" fill=\"#000000\" fill-rule=\"evenodd\" fill-opacity=\"1\" /><path clip-path=\"url(#clip280)\" d=\"M 0 0 M183.144 1392.92 Q180.591 1395.48 181.818 1399.29 Q183.046 1403.07 188.087 1408.11 Q193.112 1413.14 196.91 1414.38 Q200.707 1415.59 203.26 1413.04 Q205.83 1410.47 204.603 1406.69 Q203.375 1402.87 198.35 1397.85 Q193.309 1392.81 189.511 1391.6 Q185.714 1390.35 183.144 1392.92 M180.525 1390.3 Q184.634 1386.2 190.051 1387.29 Q195.469 1388.36 201.656 1394.54 Q207.827 1400.71 208.907 1406.15 Q209.988 1411.55 205.879 1415.66 Q201.771 1419.77 196.353 1418.7 Q190.935 1417.61 184.764 1411.44 Q178.577 1405.25 177.497 1399.85 Q176.417 1394.41 180.525 1390.3 Z\" fill=\"#000000\" fill-rule=\"evenodd\" fill-opacity=\"1\" /><path clip-path=\"url(#clip280)\" d=\"M 0 0 M204.963 1394.58 L213.785 1385.75 L216.47 1388.44 L207.647 1397.26 L204.963 1394.58 Z\" fill=\"#000000\" fill-rule=\"evenodd\" fill-opacity=\"1\" /><path clip-path=\"url(#clip280)\" d=\"M 0 0 M212.705 1363.36 Q210.151 1365.92 211.379 1369.73 Q212.607 1373.51 217.648 1378.55 Q222.673 1383.58 226.47 1384.82 Q230.268 1386.03 232.821 1383.48 Q235.391 1380.91 234.163 1377.13 Q232.936 1373.31 227.911 1368.29 Q222.869 1363.25 219.072 1362.04 Q215.275 1360.79 212.705 1363.36 M210.086 1360.74 Q214.194 1356.63 219.612 1357.73 Q225.03 1358.8 231.217 1364.98 Q237.388 1371.15 238.468 1376.59 Q239.549 1381.99 235.44 1386.1 Q231.332 1390.21 225.914 1389.14 Q220.496 1388.05 214.325 1381.87 Q208.138 1375.69 207.058 1370.29 Q205.978 1364.85 210.086 1360.74 Z\" fill=\"#000000\" fill-rule=\"evenodd\" fill-opacity=\"1\" /><path clip-path=\"url(#clip280)\" d=\"M 0 0 M244.786 1370.24 L250.188 1364.84 L231.545 1346.19 L226.847 1353.25 L223.835 1350.23 L228.5 1343.21 L231.806 1339.91 L253.461 1361.56 L258.863 1356.16 L261.646 1358.94 L247.569 1373.02 L244.786 1370.24 Z\" fill=\"#000000\" fill-rule=\"evenodd\" fill-opacity=\"1\" /><path clip-path=\"url(#clip280)\" d=\"M 0 0 M252.758 1346.78 L261.58 1337.96 L264.264 1340.64 L255.442 1349.47 L252.758 1346.78 Z\" fill=\"#000000\" fill-rule=\"evenodd\" fill-opacity=\"1\" /><path clip-path=\"url(#clip280)\" d=\"M 0 0 M275.755 1339.27 L287.294 1327.73 L290.077 1330.51 L274.56 1346.03 L271.777 1343.25 Q271.712 1339.42 271.679 1332.9 Q271.646 1326.35 271.532 1324.57 Q271.335 1321.2 270.73 1319.35 Q270.124 1317.47 268.929 1316.27 Q266.982 1314.32 264.379 1314.47 Q261.793 1314.6 259.6 1316.79 Q258.045 1318.35 256.85 1320.63 Q255.671 1322.88 254.804 1325.94 L251.465 1322.61 Q252.659 1319.81 253.985 1317.66 Q255.311 1315.52 256.751 1314.08 Q260.549 1310.28 264.706 1309.92 Q268.864 1309.56 272.039 1312.74 Q273.545 1314.24 274.331 1316.17 Q275.117 1318.07 275.46 1321.39 Q275.526 1322.28 275.608 1326.75 Q275.673 1331.2 275.755 1339.27 Z\" fill=\"#000000\" fill-rule=\"evenodd\" fill-opacity=\"1\" /><path clip-path=\"url(#clip280)\" d=\"M 0 0 M293.727 1321.3 L305.267 1309.76 L308.049 1312.54 L292.532 1328.06 L289.75 1325.27 Q289.684 1321.44 289.651 1314.93 Q289.619 1308.38 289.504 1306.6 Q289.308 1303.23 288.702 1301.38 Q288.096 1299.49 286.902 1298.3 Q284.954 1296.35 282.351 1296.5 Q279.765 1296.63 277.572 1298.82 Q276.017 1300.38 274.822 1302.65 Q273.643 1304.91 272.776 1307.97 L269.437 1304.63 Q270.632 1301.83 271.957 1299.69 Q273.283 1297.55 274.724 1296.11 Q278.521 1292.31 282.679 1291.95 Q286.836 1291.59 290.012 1294.76 Q291.517 1296.27 292.303 1298.2 Q293.089 1300.1 293.432 1303.42 Q293.498 1304.31 293.58 1308.77 Q293.645 1313.23 293.727 1321.3 Z\" fill=\"#000000\" fill-rule=\"evenodd\" fill-opacity=\"1\" /><path clip-path=\"url(#clip280)\" d=\"M 0 0 M249.915 1471.93 L261.454 1460.39 L264.237 1463.18 L248.72 1478.69 L245.937 1475.91 Q245.872 1472.08 245.839 1465.56 Q245.806 1459.02 245.692 1457.23 Q245.495 1453.86 244.89 1452.01 Q244.284 1450.13 243.089 1448.93 Q241.141 1446.99 238.539 1447.13 Q235.953 1447.27 233.759 1449.46 Q232.204 1451.01 231.01 1453.29 Q229.831 1455.55 228.964 1458.61 L225.624 1455.27 Q226.819 1452.47 228.145 1450.33 Q229.471 1448.18 230.911 1446.74 Q234.709 1442.94 238.866 1442.58 Q243.024 1442.22 246.199 1445.4 Q247.705 1446.91 248.491 1448.84 Q249.276 1450.74 249.62 1454.06 Q249.686 1454.94 249.767 1459.41 Q249.833 1463.86 249.915 1471.93 Z\" fill=\"#000000\" fill-rule=\"evenodd\" fill-opacity=\"1\" /><path clip-path=\"url(#clip280)\" d=\"M 0 0 M252.632 1430.26 Q250.078 1432.81 251.306 1436.63 Q252.534 1440.41 257.575 1445.45 Q262.6 1450.47 266.397 1451.72 Q270.195 1452.93 272.748 1450.38 Q275.318 1447.81 274.09 1444.02 Q272.863 1440.21 267.838 1435.19 Q262.796 1430.14 258.999 1428.93 Q255.202 1427.69 252.632 1430.26 M250.013 1427.64 Q254.121 1423.53 259.539 1424.63 Q264.957 1425.69 271.144 1431.88 Q277.315 1438.05 278.395 1443.48 Q279.476 1448.89 275.367 1452.99 Q271.259 1457.1 265.841 1456.04 Q260.423 1454.94 254.252 1448.77 Q248.065 1442.58 246.985 1437.18 Q245.905 1431.75 250.013 1427.64 Z\" fill=\"#000000\" fill-rule=\"evenodd\" fill-opacity=\"1\" /><path clip-path=\"url(#clip280)\" d=\"M 0 0 M286.989 1434.86 L298.528 1423.32 L301.311 1426.1 L285.794 1441.62 L283.011 1438.84 Q282.946 1435.01 282.913 1428.49 Q282.88 1421.94 282.766 1420.16 Q282.569 1416.79 281.964 1414.94 Q281.358 1413.06 280.163 1411.86 Q278.215 1409.91 275.613 1410.06 Q273.027 1410.19 270.833 1412.38 Q269.278 1413.94 268.083 1416.21 Q266.905 1418.47 266.037 1421.53 L262.698 1418.2 Q263.893 1415.4 265.219 1413.25 Q266.545 1411.11 267.985 1409.67 Q271.783 1405.87 275.94 1405.51 Q280.098 1405.15 283.273 1408.33 Q284.779 1409.83 285.564 1411.76 Q286.35 1413.66 286.694 1416.98 Q286.759 1417.87 286.841 1422.34 Q286.907 1426.79 286.989 1434.86 Z\" fill=\"#000000\" fill-rule=\"evenodd\" fill-opacity=\"1\" /><path clip-path=\"url(#clip280)\" d=\"M 0 0 M289.706 1393.18 Q287.152 1395.74 288.38 1399.55 Q289.607 1403.33 294.649 1408.37 Q299.674 1413.4 303.471 1414.64 Q307.269 1415.85 309.822 1413.3 Q312.392 1410.73 311.164 1406.95 Q309.937 1403.14 304.912 1398.11 Q299.87 1393.07 296.073 1391.86 Q292.275 1390.62 289.706 1393.18 M287.087 1390.57 Q291.195 1386.46 296.613 1387.55 Q302.031 1388.62 308.218 1394.81 Q314.389 1400.98 315.469 1406.41 Q316.549 1411.81 312.441 1415.92 Q308.333 1420.03 302.915 1418.96 Q297.497 1417.87 291.326 1411.7 Q285.139 1405.51 284.059 1400.11 Q282.978 1394.67 287.087 1390.57 Z\" fill=\"#000000\" fill-rule=\"evenodd\" fill-opacity=\"1\" /><path clip-path=\"url(#clip280)\" d=\"M 0 0 M311.524 1394.84 L320.347 1386.02 L323.031 1388.7 L314.209 1397.52 L311.524 1394.84 Z\" fill=\"#000000\" fill-rule=\"evenodd\" fill-opacity=\"1\" /><path clip-path=\"url(#clip280)\" d=\"M 0 0 M319.266 1363.62 Q316.713 1366.18 317.941 1369.99 Q319.168 1373.77 324.21 1378.81 Q329.235 1383.84 333.032 1385.08 Q336.829 1386.29 339.383 1383.74 Q341.953 1381.17 340.725 1377.39 Q339.497 1373.58 334.472 1368.55 Q329.431 1363.51 325.634 1362.3 Q321.836 1361.05 319.266 1363.62 M316.648 1361.01 Q320.756 1356.9 326.174 1357.99 Q331.592 1359.06 337.779 1365.24 Q343.95 1371.42 345.03 1376.85 Q346.11 1382.25 342.002 1386.36 Q337.893 1390.47 332.476 1389.4 Q327.058 1388.31 320.887 1382.14 Q314.7 1375.95 313.619 1370.55 Q312.539 1365.11 316.648 1361.01 Z\" fill=\"#000000\" fill-rule=\"evenodd\" fill-opacity=\"1\" /><path clip-path=\"url(#clip280)\" d=\"M 0 0 M353.623 1368.22 L365.163 1356.68 L367.945 1359.47 L352.428 1374.98 L349.646 1372.2 Q349.58 1368.37 349.547 1361.86 Q349.515 1355.31 349.4 1353.52 Q349.204 1350.15 348.598 1348.3 Q347.993 1346.42 346.798 1345.23 Q344.85 1343.28 342.247 1343.43 Q339.661 1343.56 337.468 1345.75 Q335.913 1347.31 334.718 1349.58 Q333.539 1351.84 332.672 1354.9 L329.333 1351.56 Q330.528 1348.76 331.854 1346.62 Q333.179 1344.47 334.62 1343.03 Q338.417 1339.24 342.575 1338.88 Q346.732 1338.52 349.908 1341.69 Q351.413 1343.2 352.199 1345.13 Q352.985 1347.03 353.329 1350.35 Q353.394 1351.23 353.476 1355.7 Q353.541 1360.15 353.623 1368.22 Z\" fill=\"#000000\" fill-rule=\"evenodd\" fill-opacity=\"1\" /><path clip-path=\"url(#clip280)\" d=\"M 0 0 M359.057 1347.31 L367.88 1338.48 L370.564 1341.17 L361.742 1349.99 L359.057 1347.31 Z\" fill=\"#000000\" fill-rule=\"evenodd\" fill-opacity=\"1\" /><path clip-path=\"url(#clip280)\" d=\"M 0 0 M379.779 1342.07 L385.181 1336.67 L366.538 1318.02 L361.84 1325.08 L358.828 1322.07 L363.493 1315.04 L366.8 1311.74 L388.455 1333.39 L393.856 1327.99 L396.639 1330.77 L382.562 1344.85 L379.779 1342.07 Z\" fill=\"#000000\" fill-rule=\"evenodd\" fill-opacity=\"1\" /><path clip-path=\"url(#clip280)\" d=\"M 0 0 M398.014 1323.83 L403.415 1318.43 L384.772 1299.79 L380.074 1306.84 L377.062 1303.83 L381.727 1296.81 L385.034 1293.5 L406.689 1315.16 L412.09 1309.76 L414.873 1312.54 L400.796 1326.62 L398.014 1323.83 Z\" fill=\"#000000\" fill-rule=\"evenodd\" fill-opacity=\"1\" /><path clip-path=\"url(#clip280)\" d=\"M 0 0 M355.462 1473.21 L367.001 1461.67 L369.784 1464.45 L354.267 1479.97 L351.484 1477.19 Q351.419 1473.36 351.386 1466.84 Q351.353 1460.29 351.239 1458.51 Q351.042 1455.14 350.437 1453.29 Q349.831 1451.41 348.636 1450.21 Q346.688 1448.26 344.086 1448.41 Q341.5 1448.54 339.306 1450.74 Q337.751 1452.29 336.556 1454.57 Q335.378 1456.82 334.51 1459.89 L331.171 1456.55 Q332.366 1453.75 333.692 1451.6 Q335.018 1449.46 336.458 1448.02 Q340.256 1444.22 344.413 1443.86 Q348.571 1443.5 351.746 1446.68 Q353.252 1448.18 354.037 1450.11 Q354.823 1452.01 355.167 1455.33 Q355.232 1456.22 355.314 1460.69 Q355.38 1465.14 355.462 1473.21 Z\" fill=\"#000000\" fill-rule=\"evenodd\" fill-opacity=\"1\" /><path clip-path=\"url(#clip280)\" d=\"M 0 0 M358.179 1431.54 Q355.625 1434.09 356.853 1437.9 Q358.08 1441.68 363.122 1446.73 Q368.147 1451.75 371.944 1452.99 Q375.742 1454.21 378.295 1451.65 Q380.865 1449.08 379.637 1445.3 Q378.41 1441.49 373.385 1436.46 Q368.343 1431.42 364.546 1430.21 Q360.748 1428.97 358.179 1431.54 M355.56 1428.92 Q359.668 1424.81 365.086 1425.9 Q370.504 1426.97 376.691 1433.16 Q382.862 1439.33 383.942 1444.76 Q385.022 1450.16 380.914 1454.27 Q376.806 1458.38 371.388 1457.32 Q365.97 1456.22 359.799 1450.05 Q353.612 1443.86 352.532 1438.46 Q351.451 1433.02 355.56 1428.92 Z\" fill=\"#000000\" fill-rule=\"evenodd\" fill-opacity=\"1\" /><path clip-path=\"url(#clip280)\" d=\"M 0 0 M392.535 1436.13 L404.075 1424.6 L406.857 1427.38 L391.34 1442.89 L388.558 1440.11 Q388.492 1436.28 388.46 1429.77 Q388.427 1423.22 388.312 1421.44 Q388.116 1418.06 387.51 1416.21 Q386.905 1414.33 385.71 1413.14 Q383.762 1411.19 381.159 1411.34 Q378.573 1411.47 376.38 1413.66 Q374.825 1415.22 373.63 1417.49 Q372.452 1419.75 371.584 1422.81 L368.245 1419.47 Q369.44 1416.67 370.766 1414.53 Q372.092 1412.38 373.532 1410.94 Q377.329 1407.15 381.487 1406.79 Q385.644 1406.43 388.82 1409.6 Q390.326 1411.11 391.111 1413.04 Q391.897 1414.94 392.241 1418.26 Q392.306 1419.14 392.388 1423.61 Q392.453 1428.07 392.535 1436.13 Z\" fill=\"#000000\" fill-rule=\"evenodd\" fill-opacity=\"1\" /><path clip-path=\"url(#clip280)\" d=\"M 0 0 M395.252 1394.46 Q392.699 1397.02 393.927 1400.83 Q395.154 1404.61 400.196 1409.65 Q405.221 1414.68 409.018 1415.92 Q412.815 1417.13 415.369 1414.58 Q417.939 1412.01 416.711 1408.23 Q415.483 1404.41 410.458 1399.39 Q405.417 1394.35 401.62 1393.14 Q397.822 1391.89 395.252 1394.46 M392.634 1391.84 Q396.742 1387.73 402.16 1388.83 Q407.578 1389.89 413.765 1396.08 Q419.936 1402.25 421.016 1407.69 Q422.096 1413.09 417.988 1417.2 Q413.879 1421.31 408.462 1420.24 Q403.044 1419.14 396.873 1412.97 Q390.686 1406.79 389.605 1401.39 Q388.525 1395.95 392.634 1391.84 Z\" fill=\"#000000\" fill-rule=\"evenodd\" fill-opacity=\"1\" /><path clip-path=\"url(#clip280)\" d=\"M 0 0 M417.071 1396.11 L425.894 1387.29 L428.578 1389.98 L419.756 1398.8 L417.071 1396.11 Z\" fill=\"#000000\" fill-rule=\"evenodd\" fill-opacity=\"1\" /><path clip-path=\"url(#clip280)\" d=\"M 0 0 M424.813 1364.9 Q422.26 1367.45 423.487 1371.27 Q424.715 1375.05 429.756 1380.09 Q434.781 1385.12 438.579 1386.36 Q442.376 1387.57 444.93 1385.02 Q447.499 1382.45 446.272 1378.67 Q445.044 1374.85 440.019 1369.83 Q434.978 1364.79 431.18 1363.57 Q427.383 1362.33 424.813 1364.9 M422.194 1362.28 Q426.303 1358.17 431.721 1359.27 Q437.138 1360.33 443.326 1366.52 Q449.496 1372.69 450.577 1378.13 Q451.657 1383.53 447.549 1387.64 Q443.44 1391.74 438.022 1390.68 Q432.604 1389.58 426.434 1383.41 Q420.247 1377.23 419.166 1371.82 Q418.086 1366.39 422.194 1362.28 Z\" fill=\"#000000\" fill-rule=\"evenodd\" fill-opacity=\"1\" /><path clip-path=\"url(#clip280)\" d=\"M 0 0 M455.945 1351.94 Q458.826 1350.07 461.756 1350.35 Q464.702 1350.61 467.059 1352.97 Q470.677 1356.59 470.169 1361.05 Q469.662 1365.52 465.079 1370.11 Q463.54 1371.64 461.592 1372.97 Q459.677 1374.3 457.337 1375.43 L454.145 1372.23 Q456.322 1371.66 458.368 1370.43 Q460.414 1369.21 462.198 1367.42 Q465.308 1364.31 465.701 1361.46 Q466.11 1358.6 463.769 1356.26 Q461.609 1354.1 458.875 1354.41 Q456.142 1354.69 453.441 1357.39 L450.593 1360.24 L447.876 1357.52 L450.855 1354.54 Q453.294 1352.1 453.621 1349.84 Q453.932 1347.57 452.099 1345.73 Q450.217 1343.85 447.876 1344.2 Q445.535 1344.51 443.047 1346.99 Q441.689 1348.35 440.428 1350.2 Q439.168 1352.05 437.924 1354.54 L434.978 1351.59 Q436.336 1349.19 437.711 1347.29 Q439.103 1345.37 440.559 1343.92 Q444.324 1340.15 448.236 1339.68 Q452.132 1339.19 455.045 1342.1 Q457.075 1344.13 457.32 1346.7 Q457.55 1349.25 455.945 1351.94 Z\" fill=\"#000000\" fill-rule=\"evenodd\" fill-opacity=\"1\" /><path clip-path=\"url(#clip280)\" d=\"M 0 0 M465.275 1347.91 L474.098 1339.09 L476.782 1341.77 L467.96 1350.6 L465.275 1347.91 Z\" fill=\"#000000\" fill-rule=\"evenodd\" fill-opacity=\"1\" /><path clip-path=\"url(#clip280)\" d=\"M 0 0 M473.017 1316.7 Q470.464 1319.25 471.692 1323.06 Q472.919 1326.84 477.961 1331.89 Q482.986 1336.91 486.783 1338.16 Q490.58 1339.37 493.134 1336.81 Q495.704 1334.24 494.476 1330.46 Q493.248 1326.65 488.223 1321.62 Q483.182 1316.58 479.385 1315.37 Q475.587 1314.13 473.017 1316.7 M470.398 1314.08 Q474.507 1309.97 479.925 1311.07 Q485.343 1312.13 491.53 1318.32 Q497.701 1324.49 498.781 1329.92 Q499.861 1335.32 495.753 1339.43 Q491.644 1343.54 486.226 1342.48 Q480.809 1341.38 474.638 1335.21 Q468.451 1329.02 467.37 1323.62 Q466.29 1318.19 470.398 1314.08 Z\" fill=\"#000000\" fill-rule=\"evenodd\" fill-opacity=\"1\" /><path clip-path=\"url(#clip280)\" d=\"M 0 0 M507.374 1321.3 L518.914 1309.76 L521.696 1312.54 L506.179 1328.06 L503.397 1325.27 Q503.331 1321.44 503.298 1314.93 Q503.266 1308.38 503.151 1306.6 Q502.955 1303.23 502.349 1301.38 Q501.743 1299.49 500.549 1298.3 Q498.601 1296.35 495.998 1296.5 Q493.412 1296.63 491.219 1298.82 Q489.664 1300.38 488.469 1302.65 Q487.29 1304.91 486.423 1307.97 L483.084 1304.63 Q484.279 1301.83 485.604 1299.69 Q486.93 1297.55 488.371 1296.11 Q492.168 1292.31 496.326 1291.95 Q500.483 1291.59 503.659 1294.76 Q505.164 1296.27 505.95 1298.2 Q506.736 1300.1 507.079 1303.42 Q507.145 1304.31 507.227 1308.77 Q507.292 1313.23 507.374 1321.3 Z\" fill=\"#000000\" fill-rule=\"evenodd\" fill-opacity=\"1\" /><path clip-path=\"url(#clip280)\" d=\"M 0 0 M463.414 1472.08 L474.954 1460.54 L477.737 1463.32 L462.22 1478.84 L459.437 1476.06 Q459.372 1472.23 459.339 1465.71 Q459.306 1459.16 459.191 1457.38 Q458.995 1454.01 458.389 1452.16 Q457.784 1450.28 456.589 1449.08 Q454.641 1447.13 452.039 1447.28 Q449.452 1447.41 447.259 1449.61 Q445.704 1451.16 444.509 1453.44 Q443.331 1455.69 442.463 1458.76 L439.124 1455.42 Q440.319 1452.62 441.645 1450.47 Q442.971 1448.33 444.411 1446.89 Q448.208 1443.09 452.366 1442.73 Q456.523 1442.37 459.699 1445.55 Q461.205 1447.05 461.99 1448.98 Q462.776 1450.88 463.12 1454.21 Q463.185 1455.09 463.267 1459.56 Q463.333 1464.01 463.414 1472.08 Z\" fill=\"#000000\" fill-rule=\"evenodd\" fill-opacity=\"1\" /><path clip-path=\"url(#clip280)\" d=\"M 0 0 M466.132 1430.41 Q463.578 1432.96 464.806 1436.77 Q466.033 1440.55 471.075 1445.6 Q476.1 1450.62 479.897 1451.86 Q483.695 1453.08 486.248 1450.52 Q488.818 1447.95 487.59 1444.17 Q486.363 1440.36 481.338 1435.33 Q476.296 1430.29 472.499 1429.08 Q468.701 1427.84 466.132 1430.41 M463.513 1427.79 Q467.621 1423.68 473.039 1424.78 Q478.457 1425.84 484.644 1432.03 Q490.815 1438.2 491.895 1443.63 Q492.975 1449.03 488.867 1453.14 Q484.758 1457.25 479.341 1456.19 Q473.923 1455.09 467.752 1448.92 Q461.565 1442.73 460.485 1437.33 Q459.404 1431.9 463.513 1427.79 Z\" fill=\"#000000\" fill-rule=\"evenodd\" fill-opacity=\"1\" /><path clip-path=\"url(#clip280)\" d=\"M 0 0 M500.488 1435.01 L512.028 1423.47 L514.81 1426.25 L499.293 1441.77 L496.511 1438.98 Q496.445 1435.15 496.413 1428.64 Q496.38 1422.09 496.265 1420.31 Q496.069 1416.94 495.463 1415.09 Q494.858 1413.2 493.663 1412.01 Q491.715 1410.06 489.112 1410.21 Q486.526 1410.34 484.333 1412.53 Q482.778 1414.09 481.583 1416.36 Q480.405 1418.62 479.537 1421.68 L476.198 1418.34 Q477.393 1415.54 478.719 1413.4 Q480.044 1411.26 481.485 1409.81 Q485.282 1406.02 489.44 1405.66 Q493.597 1405.3 496.773 1408.47 Q498.279 1409.98 499.064 1411.91 Q499.85 1413.81 500.194 1417.13 Q500.259 1418.02 500.341 1422.48 Q500.406 1426.94 500.488 1435.01 Z\" fill=\"#000000\" fill-rule=\"evenodd\" fill-opacity=\"1\" /><path clip-path=\"url(#clip280)\" d=\"M 0 0 M503.205 1393.33 Q500.652 1395.89 501.88 1399.7 Q503.107 1403.48 508.149 1408.52 Q513.174 1413.55 516.971 1414.79 Q520.768 1416 523.322 1413.45 Q525.892 1410.88 524.664 1407.1 Q523.436 1403.28 518.411 1398.26 Q513.37 1393.22 509.573 1392.01 Q505.775 1390.76 503.205 1393.33 M500.586 1390.71 Q504.695 1386.6 510.113 1387.7 Q515.531 1388.77 521.718 1394.95 Q527.888 1401.12 528.969 1406.56 Q530.049 1411.96 525.941 1416.07 Q521.832 1420.18 516.414 1419.11 Q510.997 1418.02 504.826 1411.84 Q498.639 1405.66 497.558 1400.26 Q496.478 1394.82 500.586 1390.71 Z\" fill=\"#000000\" fill-rule=\"evenodd\" fill-opacity=\"1\" /><path clip-path=\"url(#clip280)\" d=\"M 0 0 M525.024 1394.99 L533.846 1386.16 L536.531 1388.85 L527.708 1397.67 L525.024 1394.99 Z\" fill=\"#000000\" fill-rule=\"evenodd\" fill-opacity=\"1\" /><path clip-path=\"url(#clip280)\" d=\"M 0 0 M532.766 1363.77 Q530.213 1366.32 531.44 1370.14 Q532.668 1373.92 537.709 1378.96 Q542.734 1383.99 546.532 1385.23 Q550.329 1386.44 552.883 1383.89 Q555.452 1381.32 554.225 1377.54 Q552.997 1373.72 547.972 1368.7 Q542.931 1363.66 539.133 1362.45 Q535.336 1361.2 532.766 1363.77 M530.147 1361.15 Q534.256 1357.04 539.674 1358.14 Q545.091 1359.2 551.279 1365.39 Q557.449 1371.56 558.53 1377 Q559.61 1382.4 555.502 1386.51 Q551.393 1390.62 545.975 1389.55 Q540.557 1388.45 534.387 1382.28 Q528.199 1376.1 527.119 1370.7 Q526.039 1365.26 530.147 1361.15 Z\" fill=\"#000000\" fill-rule=\"evenodd\" fill-opacity=\"1\" /><path clip-path=\"url(#clip280)\" d=\"M 0 0 M563.898 1350.81 Q566.779 1348.94 569.709 1349.22 Q572.655 1349.48 575.012 1351.84 Q578.63 1355.46 578.122 1359.92 Q577.615 1364.39 573.032 1368.98 Q571.493 1370.52 569.545 1371.84 Q567.63 1373.17 565.29 1374.3 L562.098 1371.1 Q564.275 1370.53 566.321 1369.3 Q568.367 1368.08 570.151 1366.29 Q573.261 1363.18 573.654 1360.33 Q574.063 1357.47 571.722 1355.13 Q569.562 1352.97 566.828 1353.28 Q564.095 1353.56 561.394 1356.26 L558.546 1359.11 L555.829 1356.39 L558.808 1353.41 Q561.247 1350.97 561.574 1348.71 Q561.885 1346.44 560.052 1344.6 Q558.17 1342.72 555.829 1343.07 Q553.488 1343.38 551 1345.86 Q549.642 1347.22 548.381 1349.07 Q547.121 1350.92 545.877 1353.41 L542.931 1350.46 Q544.289 1348.06 545.664 1346.16 Q547.056 1344.24 548.512 1342.79 Q552.277 1339.02 556.189 1338.55 Q560.085 1338.06 562.998 1340.97 Q565.028 1343 565.273 1345.57 Q565.502 1348.12 563.898 1350.81 Z\" fill=\"#000000\" fill-rule=\"evenodd\" fill-opacity=\"1\" /><path clip-path=\"url(#clip280)\" d=\"M 0 0 M573.228 1346.78 L582.051 1337.96 L584.735 1340.64 L575.913 1349.47 L573.228 1346.78 Z\" fill=\"#000000\" fill-rule=\"evenodd\" fill-opacity=\"1\" /><path clip-path=\"url(#clip280)\" d=\"M 0 0 M596.225 1339.27 L607.765 1327.73 L610.548 1330.51 L595.031 1346.03 L592.248 1343.25 Q592.182 1339.42 592.15 1332.9 Q592.117 1326.35 592.002 1324.57 Q591.806 1321.2 591.2 1319.35 Q590.595 1317.47 589.4 1316.27 Q587.452 1314.32 584.85 1314.47 Q582.263 1314.6 580.07 1316.79 Q578.515 1318.35 577.32 1320.63 Q576.142 1322.88 575.274 1325.94 L571.935 1322.61 Q573.13 1319.81 574.456 1317.66 Q575.782 1315.52 577.222 1314.08 Q581.019 1310.28 585.177 1309.92 Q589.334 1309.56 592.51 1312.74 Q594.016 1314.24 594.801 1316.17 Q595.587 1318.07 595.931 1321.39 Q595.996 1322.28 596.078 1326.75 Q596.144 1331.2 596.225 1339.27 Z\" fill=\"#000000\" fill-rule=\"evenodd\" fill-opacity=\"1\" /><path clip-path=\"url(#clip280)\" d=\"M 0 0 M614.198 1321.3 L625.737 1309.76 L628.52 1312.54 L613.003 1328.06 L610.22 1325.27 Q610.155 1321.44 610.122 1314.93 Q610.089 1308.38 609.975 1306.6 Q609.778 1303.23 609.173 1301.38 Q608.567 1299.49 607.372 1298.3 Q605.424 1296.35 602.822 1296.5 Q600.236 1296.63 598.042 1298.82 Q596.487 1300.38 595.292 1302.65 Q594.114 1304.91 593.246 1307.97 L589.907 1304.63 Q591.102 1301.83 592.428 1299.69 Q593.754 1297.55 595.194 1296.11 Q598.992 1292.31 603.149 1291.95 Q607.307 1291.59 610.482 1294.76 Q611.988 1296.27 612.774 1298.2 Q613.559 1300.1 613.903 1303.42 Q613.968 1304.31 614.05 1308.77 Q614.116 1313.23 614.198 1321.3 Z\" fill=\"#000000\" fill-rule=\"evenodd\" fill-opacity=\"1\" /><path clip-path=\"url(#clip280)\" d=\"M 0 0 M568.912 1473.41 L580.452 1461.87 L583.234 1464.65 L567.717 1480.17 L564.935 1477.38 Q564.869 1473.55 564.836 1467.04 Q564.804 1460.49 564.689 1458.71 Q564.493 1455.33 563.887 1453.49 Q563.281 1451.6 562.087 1450.41 Q560.139 1448.46 557.536 1448.61 Q554.95 1448.74 552.757 1450.93 Q551.202 1452.49 550.007 1454.76 Q548.828 1457.02 547.961 1460.08 L544.622 1456.74 Q545.817 1453.94 547.143 1451.8 Q548.468 1449.65 549.909 1448.21 Q553.706 1444.42 557.864 1444.06 Q562.021 1443.7 565.197 1446.87 Q566.702 1448.38 567.488 1450.31 Q568.274 1452.21 568.617 1455.53 Q568.683 1456.41 568.765 1460.88 Q568.83 1465.34 568.912 1473.41 Z\" fill=\"#000000\" fill-rule=\"evenodd\" fill-opacity=\"1\" /><path clip-path=\"url(#clip280)\" d=\"M 0 0 M571.629 1431.73 Q569.076 1434.29 570.303 1438.1 Q571.531 1441.88 576.572 1446.92 Q581.597 1451.95 585.395 1453.19 Q589.192 1454.4 591.746 1451.85 Q594.315 1449.28 593.088 1445.5 Q591.86 1441.68 586.835 1436.66 Q581.794 1431.62 577.996 1430.41 Q574.199 1429.16 571.629 1431.73 M569.01 1429.11 Q573.119 1425 578.537 1426.1 Q583.954 1427.17 590.142 1433.35 Q596.312 1439.52 597.393 1444.96 Q598.473 1450.36 594.365 1454.47 Q590.256 1458.58 584.838 1457.51 Q579.42 1456.41 573.25 1450.24 Q567.063 1444.06 565.982 1438.66 Q564.902 1433.22 569.01 1429.11 Z\" fill=\"#000000\" fill-rule=\"evenodd\" fill-opacity=\"1\" /><path clip-path=\"url(#clip280)\" d=\"M 0 0 M605.986 1436.33 L617.525 1424.79 L620.308 1427.57 L604.791 1443.09 L602.008 1440.31 Q601.943 1436.48 601.91 1429.96 Q601.878 1423.42 601.763 1421.63 Q601.567 1418.26 600.961 1416.41 Q600.355 1414.53 599.16 1413.33 Q597.213 1411.39 594.61 1411.53 Q592.024 1411.66 589.831 1413.86 Q588.276 1415.41 587.081 1417.69 Q585.902 1419.95 585.035 1423.01 L581.696 1419.67 Q582.891 1416.87 584.216 1414.73 Q585.542 1412.58 586.983 1411.14 Q590.78 1407.34 594.937 1406.98 Q599.095 1406.62 602.27 1409.8 Q603.776 1411.3 604.562 1413.24 Q605.348 1415.13 605.691 1418.46 Q605.757 1419.34 605.839 1423.81 Q605.904 1428.26 605.986 1436.33 Z\" fill=\"#000000\" fill-rule=\"evenodd\" fill-opacity=\"1\" /><path clip-path=\"url(#clip280)\" d=\"M 0 0 M608.703 1394.66 Q606.15 1397.21 607.377 1401.03 Q608.605 1404.81 613.646 1409.85 Q618.671 1414.87 622.469 1416.12 Q626.266 1417.33 628.819 1414.77 Q631.389 1412.2 630.162 1408.42 Q628.934 1404.61 623.909 1399.58 Q618.868 1394.54 615.07 1393.33 Q611.273 1392.09 608.703 1394.66 M606.084 1392.04 Q610.193 1387.93 615.61 1389.03 Q621.028 1390.09 627.215 1396.28 Q633.386 1402.45 634.466 1407.88 Q635.547 1413.28 631.438 1417.39 Q627.33 1421.5 621.912 1420.44 Q616.494 1419.34 610.323 1413.17 Q604.136 1406.98 603.056 1401.58 Q601.976 1396.15 606.084 1392.04 Z\" fill=\"#000000\" fill-rule=\"evenodd\" fill-opacity=\"1\" /><path clip-path=\"url(#clip280)\" d=\"M 0 0 M630.522 1396.31 L639.344 1387.49 L642.029 1390.17 L633.206 1399 L630.522 1396.31 Z\" fill=\"#000000\" fill-rule=\"evenodd\" fill-opacity=\"1\" /><path clip-path=\"url(#clip280)\" d=\"M 0 0 M638.264 1365.1 Q635.71 1367.65 636.938 1371.46 Q638.166 1375.25 643.207 1380.29 Q648.232 1385.31 652.029 1386.56 Q655.827 1387.77 658.38 1385.21 Q660.95 1382.64 659.722 1378.86 Q658.495 1375.05 653.47 1370.02 Q648.428 1364.98 644.631 1363.77 Q640.834 1362.53 638.264 1365.1 M635.645 1362.48 Q639.753 1358.37 645.171 1359.47 Q650.589 1360.53 656.776 1366.72 Q662.947 1372.89 664.027 1378.32 Q665.108 1383.72 660.999 1387.83 Q656.891 1391.94 651.473 1390.88 Q646.055 1389.78 639.884 1383.61 Q633.697 1377.42 632.617 1372.02 Q631.537 1366.59 635.645 1362.48 Z\" fill=\"#000000\" fill-rule=\"evenodd\" fill-opacity=\"1\" /><path clip-path=\"url(#clip280)\" d=\"M 0 0 M660.083 1344.69 L664.78 1366.08 L673.128 1357.73 L660.083 1344.69 M656.334 1342.67 L660.492 1338.52 L676.418 1354.44 L679.904 1350.96 L682.654 1353.7 L679.168 1357.19 L684.929 1362.95 L681.639 1366.24 L675.878 1360.48 L664.846 1371.51 L661.654 1368.32 L656.334 1342.67 Z\" fill=\"#000000\" fill-rule=\"evenodd\" fill-opacity=\"1\" /><path clip-path=\"url(#clip280)\" d=\"M 0 0 M679.528 1347.31 L688.35 1338.48 L691.035 1341.17 L682.212 1349.99 L679.528 1347.31 Z\" fill=\"#000000\" fill-rule=\"evenodd\" fill-opacity=\"1\" /><path clip-path=\"url(#clip280)\" d=\"M 0 0 M700.25 1342.07 L705.651 1336.67 L687.008 1318.02 L682.31 1325.08 L679.299 1322.07 L683.964 1315.04 L687.27 1311.74 L708.925 1333.39 L714.327 1327.99 L717.109 1330.77 L703.033 1344.85 L700.25 1342.07 Z\" fill=\"#000000\" fill-rule=\"evenodd\" fill-opacity=\"1\" /><path clip-path=\"url(#clip280)\" d=\"M 0 0 M718.484 1323.83 L723.886 1318.43 L705.242 1299.79 L700.545 1306.84 L697.533 1303.83 L702.198 1296.81 L705.504 1293.5 L727.159 1315.16 L732.561 1309.76 L735.343 1312.54 L721.267 1326.62 L718.484 1323.83 Z\" fill=\"#000000\" fill-rule=\"evenodd\" fill-opacity=\"1\" /><path clip-path=\"url(#clip280)\" d=\"M 0 0 M675.916 1473.23 L687.455 1461.69 L690.238 1464.47 L674.721 1479.99 L671.938 1477.2 Q671.873 1473.37 671.84 1466.86 Q671.807 1460.31 671.693 1458.53 Q671.496 1455.15 670.891 1453.31 Q670.285 1451.42 669.09 1450.23 Q667.142 1448.28 664.54 1448.43 Q661.954 1448.56 659.76 1450.75 Q658.205 1452.31 657.01 1454.58 Q655.832 1456.84 654.964 1459.9 L651.625 1456.56 Q652.82 1453.76 654.146 1451.62 Q655.472 1449.47 656.912 1448.03 Q660.71 1444.24 664.867 1443.88 Q669.025 1443.52 672.2 1446.69 Q673.706 1448.2 674.492 1450.13 Q675.277 1452.03 675.621 1455.35 Q675.687 1456.23 675.768 1460.7 Q675.834 1465.16 675.916 1473.23 Z\" fill=\"#000000\" fill-rule=\"evenodd\" fill-opacity=\"1\" /><path clip-path=\"url(#clip280)\" d=\"M 0 0 M678.633 1431.55 Q676.079 1434.11 677.307 1437.92 Q678.535 1441.7 683.576 1446.74 Q688.601 1451.77 692.398 1453.01 Q696.196 1454.22 698.749 1451.67 Q701.319 1449.1 700.091 1445.32 Q698.864 1441.5 693.839 1436.48 Q688.797 1431.44 685 1430.23 Q681.203 1428.98 678.633 1431.55 M676.014 1428.93 Q680.122 1424.82 685.54 1425.92 Q690.958 1426.99 697.145 1433.17 Q703.316 1439.34 704.396 1444.78 Q705.477 1450.18 701.368 1454.29 Q697.26 1458.4 691.842 1457.33 Q686.424 1456.23 680.253 1450.06 Q674.066 1443.88 672.986 1438.48 Q671.905 1433.04 676.014 1428.93 Z\" fill=\"#000000\" fill-rule=\"evenodd\" fill-opacity=\"1\" /><path clip-path=\"url(#clip280)\" d=\"M 0 0 M712.989 1436.15 L724.529 1424.61 L727.312 1427.39 L711.795 1442.91 L709.012 1440.13 Q708.947 1436.3 708.914 1429.78 Q708.881 1423.24 708.767 1421.45 Q708.57 1418.08 707.964 1416.23 Q707.359 1414.35 706.164 1413.15 Q704.216 1411.21 701.614 1411.35 Q699.027 1411.48 696.834 1413.68 Q695.279 1415.23 694.084 1417.51 Q692.906 1419.77 692.038 1422.83 L688.699 1419.49 Q689.894 1416.69 691.22 1414.55 Q692.546 1412.4 693.986 1410.96 Q697.783 1407.16 701.941 1406.8 Q706.099 1406.44 709.274 1409.62 Q710.78 1411.12 711.565 1413.06 Q712.351 1414.95 712.695 1418.28 Q712.76 1419.16 712.842 1423.63 Q712.908 1428.08 712.989 1436.15 Z\" fill=\"#000000\" fill-rule=\"evenodd\" fill-opacity=\"1\" /><path clip-path=\"url(#clip280)\" d=\"M 0 0 M715.707 1394.48 Q713.153 1397.03 714.381 1400.85 Q715.608 1404.63 720.65 1409.67 Q725.675 1414.69 729.472 1415.94 Q733.27 1417.15 735.823 1414.59 Q738.393 1412.02 737.165 1408.24 Q735.938 1404.43 730.913 1399.4 Q725.871 1394.36 722.074 1393.15 Q718.276 1391.91 715.707 1394.48 M713.088 1391.86 Q717.196 1387.75 722.614 1388.85 Q728.032 1389.91 734.219 1396.1 Q740.39 1402.27 741.47 1407.7 Q742.55 1413.1 738.442 1417.21 Q734.334 1421.32 728.916 1420.26 Q723.498 1419.16 717.327 1412.99 Q711.14 1406.8 710.06 1401.4 Q708.979 1395.97 713.088 1391.86 Z\" fill=\"#000000\" fill-rule=\"evenodd\" fill-opacity=\"1\" /><path clip-path=\"url(#clip280)\" d=\"M 0 0 M737.525 1396.13 L746.348 1387.31 L749.032 1389.99 L740.21 1398.82 L737.525 1396.13 Z\" fill=\"#000000\" fill-rule=\"evenodd\" fill-opacity=\"1\" /><path clip-path=\"url(#clip280)\" d=\"M 0 0 M745.267 1364.92 Q742.714 1367.47 743.942 1371.28 Q745.169 1375.07 750.211 1380.11 Q755.236 1385.13 759.033 1386.38 Q762.83 1387.59 765.384 1385.03 Q767.954 1382.46 766.726 1378.68 Q765.498 1374.87 760.473 1369.84 Q755.432 1364.8 751.635 1363.59 Q747.837 1362.35 745.267 1364.92 M742.649 1362.3 Q746.757 1358.19 752.175 1359.29 Q757.593 1360.35 763.78 1366.54 Q769.951 1372.71 771.031 1378.14 Q772.111 1383.54 768.003 1387.65 Q763.894 1391.76 758.477 1390.7 Q753.059 1389.6 746.888 1383.43 Q740.701 1377.24 739.62 1371.84 Q738.54 1366.41 742.649 1362.3 Z\" fill=\"#000000\" fill-rule=\"evenodd\" fill-opacity=\"1\" /><path clip-path=\"url(#clip280)\" d=\"M 0 0 M755.154 1350.68 L768.134 1337.7 L770.916 1340.48 L760.964 1350.43 L766.955 1356.42 Q767.43 1355.46 768.035 1354.62 Q768.625 1353.77 769.345 1353.05 Q773.437 1348.96 778.069 1348.81 Q782.701 1348.66 786.531 1352.49 Q790.476 1356.44 790.214 1361.09 Q789.936 1365.72 785.468 1370.19 Q783.929 1371.73 782.063 1373.07 Q780.213 1374.39 777.987 1375.57 L774.665 1372.25 Q776.94 1371.58 778.904 1370.4 Q780.868 1369.22 782.619 1367.47 Q785.451 1364.64 785.615 1361.5 Q785.779 1358.35 783.225 1355.8 Q780.672 1353.25 777.529 1353.41 Q774.386 1353.57 771.555 1356.41 Q770.229 1357.73 769.198 1359.35 Q768.183 1360.96 767.43 1362.95 L755.154 1350.68 Z\" fill=\"#000000\" fill-rule=\"evenodd\" fill-opacity=\"1\" /><path clip-path=\"url(#clip280)\" d=\"M 0 0 M785.484 1348.17 L794.306 1339.35 L796.991 1342.03 L788.168 1350.86 L785.484 1348.17 Z\" fill=\"#000000\" fill-rule=\"evenodd\" fill-opacity=\"1\" /><path clip-path=\"url(#clip280)\" d=\"M 0 0 M793.226 1316.96 Q790.673 1319.51 791.9 1323.33 Q793.128 1327.11 798.169 1332.15 Q803.194 1337.17 806.992 1338.42 Q810.789 1339.63 813.342 1337.07 Q815.912 1334.51 814.685 1330.72 Q813.457 1326.91 808.432 1321.89 Q803.391 1316.84 799.593 1315.63 Q795.796 1314.39 793.226 1316.96 M790.607 1314.34 Q794.716 1310.23 800.133 1311.33 Q805.551 1312.39 811.738 1318.58 Q817.909 1324.75 818.989 1330.18 Q820.07 1335.59 815.961 1339.69 Q811.853 1343.8 806.435 1342.74 Q801.017 1341.64 794.846 1335.47 Q788.659 1329.28 787.579 1323.88 Q786.499 1318.45 790.607 1314.34 Z\" fill=\"#000000\" fill-rule=\"evenodd\" fill-opacity=\"1\" /><path clip-path=\"url(#clip280)\" d=\"M 0 0 M825.308 1323.83 L830.709 1318.43 L812.066 1299.79 L807.368 1306.84 L804.356 1303.83 L809.021 1296.81 L812.328 1293.5 L833.983 1315.16 L839.384 1309.76 L842.167 1312.54 L828.09 1326.62 L825.308 1323.83 Z\" fill=\"#000000\" fill-rule=\"evenodd\" fill-opacity=\"1\" /><path clip-path=\"url(#clip280)\" d=\"M 0 0 M783.869 1472.1 L795.408 1460.56 L798.191 1463.34 L782.674 1478.86 L779.891 1476.07 Q779.826 1472.24 779.793 1465.73 Q779.76 1459.18 779.646 1457.4 Q779.449 1454.03 778.844 1452.18 Q778.238 1450.29 777.043 1449.1 Q775.095 1447.15 772.493 1447.3 Q769.907 1447.43 767.713 1449.62 Q766.158 1451.18 764.963 1453.45 Q763.785 1455.71 762.917 1458.77 L759.578 1455.43 Q760.773 1452.63 762.099 1450.49 Q763.425 1448.35 764.865 1446.91 Q768.663 1443.11 772.82 1442.75 Q776.978 1442.39 780.153 1445.56 Q781.659 1447.07 782.445 1449 Q783.23 1450.9 783.574 1454.22 Q783.639 1455.11 783.721 1459.57 Q783.787 1464.03 783.869 1472.1 Z\" fill=\"#000000\" fill-rule=\"evenodd\" fill-opacity=\"1\" /><path clip-path=\"url(#clip280)\" d=\"M 0 0 M786.586 1430.42 Q784.032 1432.98 785.26 1436.79 Q786.487 1440.57 791.529 1445.61 Q796.554 1450.64 800.351 1451.88 Q804.149 1453.09 806.702 1450.54 Q809.272 1447.97 808.044 1444.19 Q806.817 1440.37 801.792 1435.35 Q796.75 1430.31 792.953 1429.1 Q789.155 1427.85 786.586 1430.42 M783.967 1427.8 Q788.075 1423.7 793.493 1424.79 Q798.911 1425.86 805.098 1432.04 Q811.269 1438.21 812.349 1443.65 Q813.429 1449.05 809.321 1453.16 Q805.213 1457.27 799.795 1456.2 Q794.377 1455.11 788.206 1448.93 Q782.019 1442.75 780.939 1437.35 Q779.858 1431.91 783.967 1427.8 Z\" fill=\"#000000\" fill-rule=\"evenodd\" fill-opacity=\"1\" /><path clip-path=\"url(#clip280)\" d=\"M 0 0 M820.942 1435.02 L832.482 1423.48 L835.265 1426.26 L819.748 1441.78 L816.965 1439 Q816.899 1435.17 816.867 1428.65 Q816.834 1422.11 816.719 1420.32 Q816.523 1416.95 815.917 1415.1 Q815.312 1413.22 814.117 1412.02 Q812.169 1410.08 809.567 1410.22 Q806.98 1410.36 804.787 1412.55 Q803.232 1414.1 802.037 1416.38 Q800.859 1418.64 799.991 1421.7 L796.652 1418.36 Q797.847 1415.56 799.173 1413.42 Q800.499 1411.27 801.939 1409.83 Q805.736 1406.03 809.894 1405.67 Q814.051 1405.31 817.227 1408.49 Q818.733 1409.99 819.518 1411.93 Q820.304 1413.83 820.648 1417.15 Q820.713 1418.03 820.795 1422.5 Q820.861 1426.95 820.942 1435.02 Z\" fill=\"#000000\" fill-rule=\"evenodd\" fill-opacity=\"1\" /><path clip-path=\"url(#clip280)\" d=\"M 0 0 M823.66 1393.35 Q821.106 1395.9 822.334 1399.72 Q823.561 1403.5 828.603 1408.54 Q833.628 1413.56 837.425 1414.81 Q841.223 1416.02 843.776 1413.47 Q846.346 1410.9 845.118 1407.11 Q843.891 1403.3 838.865 1398.28 Q833.824 1393.23 830.027 1392.02 Q826.229 1390.78 823.66 1393.35 M821.041 1390.73 Q825.149 1386.62 830.567 1387.72 Q835.985 1388.78 842.172 1394.97 Q848.343 1401.14 849.423 1406.57 Q850.503 1411.98 846.395 1416.08 Q842.286 1420.19 836.869 1419.13 Q831.451 1418.03 825.28 1411.86 Q819.093 1405.67 818.013 1400.27 Q816.932 1394.84 821.041 1390.73 Z\" fill=\"#000000\" fill-rule=\"evenodd\" fill-opacity=\"1\" /><path clip-path=\"url(#clip280)\" d=\"M 0 0 M845.478 1395 L854.301 1386.18 L856.985 1388.86 L848.163 1397.69 L845.478 1395 Z\" fill=\"#000000\" fill-rule=\"evenodd\" fill-opacity=\"1\" /><path clip-path=\"url(#clip280)\" d=\"M 0 0 M853.22 1363.79 Q850.667 1366.34 851.895 1370.15 Q853.122 1373.94 858.164 1378.98 Q863.189 1384 866.986 1385.25 Q870.783 1386.46 873.337 1383.9 Q875.907 1381.33 874.679 1377.55 Q873.451 1373.74 868.426 1368.71 Q863.385 1363.67 859.588 1362.46 Q855.79 1361.22 853.22 1363.79 M850.601 1361.17 Q854.71 1357.06 860.128 1358.16 Q865.546 1359.22 871.733 1365.41 Q877.903 1371.58 878.984 1377.01 Q880.064 1382.41 875.956 1386.52 Q871.847 1390.63 866.429 1389.57 Q861.012 1388.47 854.841 1382.3 Q848.654 1376.11 847.573 1370.71 Q846.493 1365.28 850.601 1361.17 Z\" fill=\"#000000\" fill-rule=\"evenodd\" fill-opacity=\"1\" /><path clip-path=\"url(#clip280)\" d=\"M 0 0 M863.107 1349.55 L876.087 1336.57 L878.869 1339.35 L868.917 1349.3 L874.908 1355.29 Q875.383 1354.33 875.988 1353.49 Q876.578 1352.64 877.298 1351.92 Q881.39 1347.83 886.022 1347.68 Q890.654 1347.53 894.484 1351.36 Q898.429 1355.31 898.167 1359.96 Q897.889 1364.59 893.42 1369.06 Q891.882 1370.6 890.016 1371.94 Q888.166 1373.26 885.94 1374.44 L882.617 1371.12 Q884.893 1370.45 886.857 1369.27 Q888.821 1368.09 890.572 1366.34 Q893.404 1363.51 893.568 1360.37 Q893.731 1357.22 891.178 1354.67 Q888.625 1352.12 885.482 1352.28 Q882.339 1352.44 879.508 1355.28 Q878.182 1356.6 877.151 1358.22 Q876.136 1359.83 875.383 1361.82 L863.107 1349.55 Z\" fill=\"#000000\" fill-rule=\"evenodd\" fill-opacity=\"1\" /><path clip-path=\"url(#clip280)\" d=\"M 0 0 M893.437 1347.04 L902.259 1338.22 L904.944 1340.91 L896.121 1349.73 L893.437 1347.04 Z\" fill=\"#000000\" fill-rule=\"evenodd\" fill-opacity=\"1\" /><path clip-path=\"url(#clip280)\" d=\"M 0 0 M916.434 1339.53 L927.974 1327.99 L930.756 1330.77 L915.239 1346.29 L912.457 1343.51 Q912.391 1339.68 912.358 1333.16 Q912.326 1326.62 912.211 1324.83 Q912.015 1321.46 911.409 1319.61 Q910.803 1317.73 909.609 1316.53 Q907.661 1314.59 905.058 1314.73 Q902.472 1314.86 900.279 1317.06 Q898.724 1318.61 897.529 1320.89 Q896.35 1323.15 895.483 1326.21 L892.144 1322.87 Q893.339 1320.07 894.664 1317.92 Q895.99 1315.78 897.431 1314.34 Q901.228 1310.54 905.386 1310.18 Q909.543 1309.82 912.718 1313 Q914.224 1314.5 915.01 1316.43 Q915.796 1318.33 916.139 1321.66 Q916.205 1322.54 916.287 1327.01 Q916.352 1331.46 916.434 1339.53 Z\" fill=\"#000000\" fill-rule=\"evenodd\" fill-opacity=\"1\" /><path clip-path=\"url(#clip280)\" d=\"M 0 0 M932.131 1323.83 L937.533 1318.43 L918.889 1299.79 L914.192 1306.84 L911.18 1303.83 L915.845 1296.81 L919.151 1293.5 L940.806 1315.16 L946.208 1309.76 L948.99 1312.54 L934.914 1326.62 L932.131 1323.83 Z\" fill=\"#000000\" fill-rule=\"evenodd\" fill-opacity=\"1\" /><path clip-path=\"url(#clip280)\" d=\"M 0 0 M888.744 1474.04 L900.284 1462.5 L903.066 1465.29 L887.549 1480.8 L884.767 1478.02 Q884.701 1474.19 884.669 1467.68 Q884.636 1461.13 884.521 1459.34 Q884.325 1455.97 883.719 1454.12 Q883.114 1452.24 881.919 1451.05 Q879.971 1449.1 877.368 1449.25 Q874.782 1449.38 872.589 1451.57 Q871.034 1453.12 869.839 1455.4 Q868.661 1457.66 867.793 1460.72 L864.454 1457.38 Q865.649 1454.58 866.975 1452.44 Q868.301 1450.29 869.741 1448.85 Q873.538 1445.06 877.696 1444.7 Q881.853 1444.34 885.029 1447.51 Q886.535 1449.02 887.32 1450.95 Q888.106 1452.85 888.45 1456.17 Q888.515 1457.05 888.597 1461.52 Q888.662 1465.97 888.744 1474.04 Z\" fill=\"#000000\" fill-rule=\"evenodd\" fill-opacity=\"1\" /><path clip-path=\"url(#clip280)\" d=\"M 0 0 M891.461 1432.37 Q888.908 1434.92 890.136 1438.74 Q891.363 1442.52 896.405 1447.56 Q901.43 1452.58 905.227 1453.83 Q909.024 1455.04 911.578 1452.49 Q914.148 1449.92 912.92 1446.14 Q911.692 1442.32 906.667 1437.3 Q901.626 1432.26 897.829 1431.04 Q894.031 1429.8 891.461 1432.37 M888.843 1429.75 Q892.951 1425.64 898.369 1426.74 Q903.787 1427.8 909.974 1433.99 Q916.145 1440.16 917.225 1445.6 Q918.305 1451 914.197 1455.11 Q910.088 1459.21 904.67 1458.15 Q899.253 1457.05 893.082 1450.88 Q886.895 1444.7 885.814 1439.29 Q884.734 1433.86 888.843 1429.75 Z\" fill=\"#000000\" fill-rule=\"evenodd\" fill-opacity=\"1\" /><path clip-path=\"url(#clip280)\" d=\"M 0 0 M925.818 1436.97 L937.358 1425.43 L940.14 1428.21 L924.623 1443.73 L921.841 1440.95 Q921.775 1437.12 921.742 1430.6 Q921.71 1424.06 921.595 1422.27 Q921.399 1418.9 920.793 1417.05 Q920.187 1415.17 918.993 1413.97 Q917.045 1412.02 914.442 1412.17 Q911.856 1412.3 909.663 1414.5 Q908.108 1416.05 906.913 1418.33 Q905.734 1420.59 904.867 1423.65 L901.528 1420.31 Q902.723 1417.51 904.048 1415.36 Q905.374 1413.22 906.815 1411.78 Q910.612 1407.98 914.77 1407.62 Q918.927 1407.26 922.103 1410.44 Q923.608 1411.94 924.394 1413.87 Q925.18 1415.77 925.523 1419.1 Q925.589 1419.98 925.671 1424.45 Q925.736 1428.9 925.818 1436.97 Z\" fill=\"#000000\" fill-rule=\"evenodd\" fill-opacity=\"1\" /><path clip-path=\"url(#clip280)\" d=\"M 0 0 M928.535 1395.3 Q925.982 1397.85 927.209 1401.66 Q928.437 1405.44 933.478 1410.49 Q938.503 1415.51 942.301 1416.76 Q946.098 1417.97 948.652 1415.41 Q951.221 1412.84 949.994 1409.06 Q948.766 1405.25 943.741 1400.22 Q938.7 1395.18 934.902 1393.97 Q931.105 1392.73 928.535 1395.3 M925.916 1392.68 Q930.025 1388.57 935.443 1389.67 Q940.86 1390.73 947.048 1396.92 Q953.218 1403.09 954.299 1408.52 Q955.379 1413.92 951.271 1418.03 Q947.162 1422.14 941.744 1421.08 Q936.326 1419.98 930.156 1413.81 Q923.969 1407.62 922.888 1402.22 Q921.808 1396.79 925.916 1392.68 Z\" fill=\"#000000\" fill-rule=\"evenodd\" fill-opacity=\"1\" /><path clip-path=\"url(#clip280)\" d=\"M 0 0 M950.354 1396.95 L959.176 1388.13 L961.861 1390.81 L953.038 1399.63 L950.354 1396.95 Z\" fill=\"#000000\" fill-rule=\"evenodd\" fill-opacity=\"1\" /><path clip-path=\"url(#clip280)\" d=\"M 0 0 M958.096 1365.74 Q955.543 1368.29 956.77 1372.1 Q957.998 1375.88 963.039 1380.93 Q968.064 1385.95 971.862 1387.19 Q975.659 1388.41 978.212 1385.85 Q980.782 1383.28 979.555 1379.5 Q978.327 1375.69 973.302 1370.66 Q968.261 1365.62 964.463 1364.41 Q960.666 1363.17 958.096 1365.74 M955.477 1363.12 Q959.586 1359.01 965.003 1360.1 Q970.421 1361.17 976.608 1367.36 Q982.779 1373.53 983.859 1378.96 Q984.94 1384.36 980.831 1388.47 Q976.723 1392.58 971.305 1391.52 Q965.887 1390.42 959.716 1384.25 Q953.529 1378.06 952.449 1372.66 Q951.369 1367.23 955.477 1363.12 Z\" fill=\"#000000\" fill-rule=\"evenodd\" fill-opacity=\"1\" /><path clip-path=\"url(#clip280)\" d=\"M 0 0 M986.331 1354.95 Q984.105 1357.18 984.318 1360.01 Q984.547 1362.82 987.199 1365.47 Q989.834 1368.11 992.666 1368.35 Q995.497 1368.57 997.723 1366.34 Q999.949 1364.12 999.72 1361.3 Q999.491 1358.45 996.856 1355.82 Q994.204 1353.16 991.372 1352.95 Q988.557 1352.72 986.331 1354.95 M982.534 1338.02 L985.545 1341.04 Q983.712 1341.69 982.124 1342.66 Q980.553 1343.61 979.309 1344.85 Q976.036 1348.12 976.51 1352.07 Q977.001 1356 981.224 1360.71 Q980.766 1358.32 981.47 1356.11 Q982.157 1353.89 983.909 1352.13 Q987.591 1348.45 991.962 1348.57 Q996.332 1348.65 1000.18 1352.49 Q1003.94 1356.26 1003.99 1360.76 Q1004.04 1365.26 1000.34 1368.96 Q996.103 1373.2 990.62 1372.2 Q985.12 1371.19 978.949 1365.02 Q973.155 1359.22 972.467 1353.03 Q971.763 1346.83 976.396 1342.2 Q977.64 1340.95 979.145 1339.94 Q980.668 1338.91 982.534 1338.02 Z\" fill=\"#000000\" fill-rule=\"evenodd\" fill-opacity=\"1\" /><path clip-path=\"url(#clip280)\" d=\"M 0 0 M999.131 1348.17 L1007.95 1339.35 L1010.64 1342.03 L1001.82 1350.86 L999.131 1348.17 Z\" fill=\"#000000\" fill-rule=\"evenodd\" fill-opacity=\"1\" /><path clip-path=\"url(#clip280)\" d=\"M 0 0 M1019.85 1342.93 L1025.25 1337.53 L1006.61 1318.89 L1001.91 1325.94 L998.902 1322.93 L1003.57 1315.91 L1006.87 1312.6 L1028.53 1334.26 L1033.93 1328.86 L1036.71 1331.64 L1022.64 1345.72 L1019.85 1342.93 Z\" fill=\"#000000\" fill-rule=\"evenodd\" fill-opacity=\"1\" /><path clip-path=\"url(#clip280)\" d=\"M 0 0 M1025.11 1298.72 Q1022.55 1301.28 1023.78 1305.09 Q1025.01 1308.87 1030.05 1313.91 Q1035.08 1318.94 1038.87 1320.18 Q1042.67 1321.39 1045.22 1318.84 Q1047.79 1316.27 1046.57 1312.49 Q1045.34 1308.68 1040.31 1303.65 Q1035.27 1298.61 1031.47 1297.4 Q1027.68 1296.15 1025.11 1298.72 M1022.49 1296.11 Q1026.6 1292 1032.01 1293.09 Q1037.43 1294.16 1043.62 1300.34 Q1049.79 1306.52 1050.87 1311.95 Q1051.95 1317.35 1047.84 1321.46 Q1043.73 1325.57 1038.32 1324.5 Q1032.9 1323.41 1026.73 1317.24 Q1020.54 1311.05 1019.46 1305.65 Q1018.38 1300.21 1022.49 1296.11 Z\" fill=\"#000000\" fill-rule=\"evenodd\" fill-opacity=\"1\" /><path clip-path=\"url(#clip280)\" d=\"M 0 0 M995.159 1474.45 L1006.7 1462.91 L1009.48 1465.7 L993.964 1481.21 L991.181 1478.43 Q991.116 1474.6 991.083 1468.09 Q991.05 1461.54 990.936 1459.75 Q990.739 1456.38 990.134 1454.53 Q989.528 1452.65 988.333 1451.46 Q986.385 1449.51 983.783 1449.65 Q981.197 1449.79 979.003 1451.98 Q977.448 1453.53 976.253 1455.81 Q975.075 1458.07 974.207 1461.13 L970.868 1457.79 Q972.063 1454.99 973.389 1452.85 Q974.715 1450.7 976.155 1449.26 Q979.953 1445.46 984.11 1445.1 Q988.268 1444.74 991.443 1447.92 Q992.949 1449.43 993.735 1451.36 Q994.52 1453.26 994.864 1456.58 Q994.929 1457.46 995.011 1461.93 Q995.077 1466.38 995.159 1474.45 Z\" fill=\"#000000\" fill-rule=\"evenodd\" fill-opacity=\"1\" /><path clip-path=\"url(#clip280)\" d=\"M 0 0 M997.876 1432.78 Q995.322 1435.33 996.55 1439.15 Q997.778 1442.93 1002.82 1447.97 Q1007.84 1452.99 1011.64 1454.24 Q1015.44 1455.45 1017.99 1452.9 Q1020.56 1450.33 1019.33 1446.54 Q1018.11 1442.73 1013.08 1437.71 Q1008.04 1432.66 1004.24 1431.45 Q1000.45 1430.21 997.876 1432.78 M995.257 1430.16 Q999.365 1426.05 1004.78 1427.15 Q1010.2 1428.21 1016.39 1434.4 Q1022.56 1440.57 1023.64 1446 Q1024.72 1451.41 1020.61 1455.51 Q1016.5 1459.62 1011.08 1458.56 Q1005.67 1457.46 999.496 1451.29 Q993.309 1445.1 992.229 1439.7 Q991.148 1434.27 995.257 1430.16 Z\" fill=\"#000000\" fill-rule=\"evenodd\" fill-opacity=\"1\" /><path clip-path=\"url(#clip280)\" d=\"M 0 0 M1032.23 1437.38 L1043.77 1425.84 L1046.55 1428.62 L1031.04 1444.14 L1028.25 1441.36 Q1028.19 1437.53 1028.16 1431.01 Q1028.12 1424.46 1028.01 1422.68 Q1027.81 1419.31 1027.21 1417.46 Q1026.6 1415.58 1025.41 1414.38 Q1023.46 1412.43 1020.86 1412.58 Q1018.27 1412.71 1016.08 1414.91 Q1014.52 1416.46 1013.33 1418.74 Q1012.15 1420.99 1011.28 1424.06 L1007.94 1420.72 Q1009.14 1417.92 1010.46 1415.77 Q1011.79 1413.63 1013.23 1412.19 Q1017.03 1408.39 1021.18 1408.03 Q1025.34 1407.67 1028.52 1410.85 Q1030.02 1412.35 1030.81 1414.28 Q1031.59 1416.18 1031.94 1419.5 Q1032 1420.39 1032.09 1424.86 Q1032.15 1429.31 1032.23 1437.38 Z\" fill=\"#000000\" fill-rule=\"evenodd\" fill-opacity=\"1\" /><path clip-path=\"url(#clip280)\" d=\"M 0 0 M1034.95 1395.71 Q1032.4 1398.26 1033.62 1402.07 Q1034.85 1405.85 1039.89 1410.9 Q1044.92 1415.92 1048.72 1417.16 Q1052.51 1418.38 1055.07 1415.82 Q1057.64 1413.25 1056.41 1409.47 Q1055.18 1405.66 1050.16 1400.63 Q1045.11 1395.59 1041.32 1394.38 Q1037.52 1393.14 1034.95 1395.71 M1032.33 1393.09 Q1036.44 1388.98 1041.86 1390.07 Q1047.27 1391.14 1053.46 1397.33 Q1059.63 1403.5 1060.71 1408.93 Q1061.79 1414.33 1057.68 1418.44 Q1053.58 1422.55 1048.16 1421.49 Q1042.74 1420.39 1036.57 1414.22 Q1030.38 1408.03 1029.3 1402.63 Q1028.22 1397.2 1032.33 1393.09 Z\" fill=\"#000000\" fill-rule=\"evenodd\" fill-opacity=\"1\" /><path clip-path=\"url(#clip280)\" d=\"M 0 0 M1056.77 1397.36 L1065.59 1388.54 L1068.28 1391.22 L1059.45 1400.04 L1056.77 1397.36 Z\" fill=\"#000000\" fill-rule=\"evenodd\" fill-opacity=\"1\" /><path clip-path=\"url(#clip280)\" d=\"M 0 0 M1064.51 1366.14 Q1061.96 1368.7 1063.18 1372.51 Q1064.41 1376.29 1069.45 1381.33 Q1074.48 1386.36 1078.28 1387.6 Q1082.07 1388.81 1084.63 1386.26 Q1087.2 1383.69 1085.97 1379.91 Q1084.74 1376.1 1079.72 1371.07 Q1074.67 1366.03 1070.88 1364.82 Q1067.08 1363.57 1064.51 1366.14 M1061.89 1363.53 Q1066 1359.42 1071.42 1360.51 Q1076.84 1361.58 1083.02 1367.77 Q1089.19 1373.94 1090.27 1379.37 Q1091.35 1384.77 1087.25 1388.88 Q1083.14 1392.99 1077.72 1391.92 Q1072.3 1390.83 1066.13 1384.66 Q1059.94 1378.47 1058.86 1373.07 Q1057.78 1367.63 1061.89 1363.53 Z\" fill=\"#000000\" fill-rule=\"evenodd\" fill-opacity=\"1\" /><path clip-path=\"url(#clip280)\" d=\"M 0 0 M1092.75 1355.36 Q1090.52 1357.58 1090.73 1360.42 Q1090.96 1363.23 1093.61 1365.88 Q1096.25 1368.52 1099.08 1368.76 Q1101.91 1368.98 1104.14 1366.75 Q1106.36 1364.52 1106.13 1361.71 Q1105.91 1358.86 1103.27 1356.23 Q1100.62 1353.57 1097.79 1353.36 Q1094.97 1353.13 1092.75 1355.36 M1088.95 1338.43 L1091.96 1341.45 Q1090.13 1342.1 1088.54 1343.07 Q1086.97 1344.02 1085.72 1345.26 Q1082.45 1348.53 1082.92 1352.48 Q1083.42 1356.41 1087.64 1361.12 Q1087.18 1358.73 1087.88 1356.52 Q1088.57 1354.29 1090.32 1352.54 Q1094.01 1348.86 1098.38 1348.97 Q1102.75 1349.06 1106.59 1352.9 Q1110.36 1356.67 1110.41 1361.17 Q1110.46 1365.67 1106.76 1369.37 Q1102.52 1373.61 1097.03 1372.61 Q1091.53 1371.6 1085.36 1365.42 Q1079.57 1359.63 1078.88 1353.44 Q1078.18 1347.24 1082.81 1342.61 Q1084.05 1341.36 1085.56 1340.35 Q1087.08 1339.32 1088.95 1338.43 Z\" fill=\"#000000\" fill-rule=\"evenodd\" fill-opacity=\"1\" /><path clip-path=\"url(#clip280)\" d=\"M 0 0 M1105.55 1348.58 L1114.37 1339.76 L1117.05 1342.44 L1108.23 1351.27 L1105.55 1348.58 Z\" fill=\"#000000\" fill-rule=\"evenodd\" fill-opacity=\"1\" /><path clip-path=\"url(#clip280)\" d=\"M 0 0 M1125.32 1323.51 Q1128.2 1321.64 1131.13 1321.92 Q1134.07 1322.18 1136.43 1324.54 Q1140.05 1328.15 1139.54 1332.62 Q1139.03 1337.09 1134.45 1341.67 Q1132.91 1343.21 1130.96 1344.54 Q1129.05 1345.86 1126.71 1346.99 L1123.52 1343.8 Q1125.69 1343.23 1127.74 1342 Q1129.79 1340.77 1131.57 1338.99 Q1134.68 1335.88 1135.07 1333.03 Q1135.48 1330.17 1133.14 1327.83 Q1130.98 1325.67 1128.25 1325.98 Q1125.51 1326.26 1122.81 1328.96 L1119.97 1331.8 L1117.25 1329.09 L1120.23 1326.11 Q1122.67 1323.67 1122.99 1321.41 Q1123.3 1319.14 1121.47 1317.3 Q1119.59 1315.42 1117.25 1315.76 Q1114.91 1316.07 1112.42 1318.56 Q1111.06 1319.92 1109.8 1321.77 Q1108.54 1323.62 1107.3 1326.11 L1104.35 1323.16 Q1105.71 1320.76 1107.08 1318.86 Q1108.48 1316.94 1109.93 1315.49 Q1113.7 1311.72 1117.61 1311.25 Q1121.5 1310.76 1124.42 1313.67 Q1126.45 1315.7 1126.69 1318.27 Q1126.92 1320.82 1125.32 1323.51 Z\" fill=\"#000000\" fill-rule=\"evenodd\" fill-opacity=\"1\" /><path clip-path=\"url(#clip280)\" d=\"M 0 0 M1131.93 1298.72 Q1129.38 1301.28 1130.6 1305.09 Q1131.83 1308.87 1136.87 1313.91 Q1141.9 1318.94 1145.7 1320.18 Q1149.49 1321.39 1152.05 1318.84 Q1154.62 1316.27 1153.39 1312.49 Q1152.16 1308.68 1147.14 1303.65 Q1142.1 1298.61 1138.3 1297.4 Q1134.5 1296.15 1131.93 1298.72 M1129.31 1296.11 Q1133.42 1292 1138.84 1293.09 Q1144.26 1294.16 1150.44 1300.34 Q1156.61 1306.52 1157.69 1311.95 Q1158.77 1317.35 1154.67 1321.46 Q1150.56 1325.57 1145.14 1324.5 Q1139.72 1323.41 1133.55 1317.24 Q1127.36 1311.05 1126.28 1305.65 Q1125.2 1300.21 1129.31 1296.11 Z\" fill=\"#000000\" fill-rule=\"evenodd\" fill-opacity=\"1\" /><path clip-path=\"url(#clip280)\" d=\"M 0 0 M1103.41 1473.03 L1114.95 1461.49 L1117.73 1464.27 L1102.21 1479.79 L1099.43 1477.01 Q1099.36 1473.18 1099.33 1466.66 Q1099.3 1460.11 1099.18 1458.33 Q1098.99 1454.96 1098.38 1453.11 Q1097.78 1451.23 1096.58 1450.03 Q1094.63 1448.08 1092.03 1448.23 Q1089.44 1448.36 1087.25 1450.56 Q1085.7 1452.11 1084.5 1454.39 Q1083.32 1456.64 1082.45 1459.7 L1079.12 1456.37 Q1080.31 1453.57 1081.64 1451.42 Q1082.96 1449.28 1084.4 1447.84 Q1088.2 1444.04 1092.36 1443.68 Q1096.52 1443.32 1099.69 1446.5 Q1101.2 1448 1101.98 1449.93 Q1102.77 1451.83 1103.11 1455.15 Q1103.18 1456.04 1103.26 1460.51 Q1103.32 1464.96 1103.41 1473.03 Z\" fill=\"#000000\" fill-rule=\"evenodd\" fill-opacity=\"1\" /><path clip-path=\"url(#clip280)\" d=\"M 0 0 M1106.12 1431.36 Q1103.57 1433.91 1104.8 1437.72 Q1106.03 1441.5 1111.07 1446.54 Q1116.09 1451.57 1119.89 1452.81 Q1123.69 1454.03 1126.24 1451.47 Q1128.81 1448.9 1127.58 1445.12 Q1126.35 1441.31 1121.33 1436.28 Q1116.29 1431.24 1112.49 1430.03 Q1108.69 1428.79 1106.12 1431.36 M1103.5 1428.74 Q1107.61 1424.63 1113.03 1425.72 Q1118.45 1426.79 1124.64 1432.98 Q1130.81 1439.15 1131.89 1444.58 Q1132.97 1449.98 1128.86 1454.09 Q1124.75 1458.2 1119.33 1457.14 Q1113.91 1456.04 1107.74 1449.87 Q1101.56 1443.68 1100.48 1438.28 Q1099.4 1432.84 1103.5 1428.74 Z\" fill=\"#000000\" fill-rule=\"evenodd\" fill-opacity=\"1\" /><path clip-path=\"url(#clip280)\" d=\"M 0 0 M1140.48 1435.95 L1152.02 1424.42 L1154.8 1427.2 L1139.29 1442.71 L1136.5 1439.93 Q1136.44 1436.1 1136.4 1429.59 Q1136.37 1423.04 1136.26 1421.26 Q1136.06 1417.88 1135.45 1416.03 Q1134.85 1414.15 1133.65 1412.96 Q1131.71 1411.01 1129.1 1411.16 Q1126.52 1411.29 1124.32 1413.48 Q1122.77 1415.04 1121.57 1417.31 Q1120.4 1419.57 1119.53 1422.63 L1116.19 1419.29 Q1117.38 1416.49 1118.71 1414.35 Q1120.04 1412.2 1121.48 1410.76 Q1125.27 1406.97 1129.43 1406.61 Q1133.59 1406.25 1136.76 1409.42 Q1138.27 1410.93 1139.06 1412.86 Q1139.84 1414.76 1140.19 1418.08 Q1140.25 1418.96 1140.33 1423.43 Q1140.4 1427.89 1140.48 1435.95 Z\" fill=\"#000000\" fill-rule=\"evenodd\" fill-opacity=\"1\" /><path clip-path=\"url(#clip280)\" d=\"M 0 0 M1143.2 1394.28 Q1140.64 1396.84 1141.87 1400.65 Q1143.1 1404.43 1148.14 1409.47 Q1153.17 1414.5 1156.96 1415.74 Q1160.76 1416.95 1163.31 1414.4 Q1165.88 1411.83 1164.66 1408.05 Q1163.43 1404.23 1158.4 1399.21 Q1153.36 1394.17 1149.56 1392.96 Q1145.77 1391.71 1143.2 1394.28 M1140.58 1391.66 Q1144.69 1387.55 1150.1 1388.65 Q1155.52 1389.71 1161.71 1395.9 Q1167.88 1402.07 1168.96 1407.51 Q1170.04 1412.91 1165.93 1417.02 Q1161.82 1421.13 1156.41 1420.06 Q1150.99 1418.96 1144.82 1412.79 Q1138.63 1406.61 1137.55 1401.21 Q1136.47 1395.77 1140.58 1391.66 Z\" fill=\"#000000\" fill-rule=\"evenodd\" fill-opacity=\"1\" /><path clip-path=\"url(#clip280)\" d=\"M 0 0 M1165.02 1395.93 L1173.84 1387.11 L1176.52 1389.8 L1167.7 1398.62 L1165.02 1395.93 Z\" fill=\"#000000\" fill-rule=\"evenodd\" fill-opacity=\"1\" /><path clip-path=\"url(#clip280)\" d=\"M 0 0 M1172.76 1364.72 Q1170.2 1367.27 1171.43 1371.09 Q1172.66 1374.87 1177.7 1379.91 Q1182.73 1384.94 1186.52 1386.18 Q1190.32 1387.39 1192.87 1384.84 Q1195.44 1382.27 1194.22 1378.49 Q1192.99 1374.67 1187.96 1369.65 Q1182.92 1364.61 1179.13 1363.39 Q1175.33 1362.15 1172.76 1364.72 M1170.14 1362.1 Q1174.25 1357.99 1179.67 1359.09 Q1185.08 1360.15 1191.27 1366.34 Q1197.44 1372.51 1198.52 1377.95 Q1199.6 1383.35 1195.49 1387.46 Q1191.38 1391.56 1185.97 1390.5 Q1180.55 1389.4 1174.38 1383.23 Q1168.19 1377.05 1167.11 1371.64 Q1166.03 1366.21 1170.14 1362.1 Z\" fill=\"#000000\" fill-rule=\"evenodd\" fill-opacity=\"1\" /><path clip-path=\"url(#clip280)\" d=\"M 0 0 M1181.78 1351.35 L1197.49 1335.63 L1198.9 1337.04 L1213.06 1368.94 L1209.6 1372.4 L1196.3 1342.39 L1184.56 1354.13 L1181.78 1351.35 Z\" fill=\"#000000\" fill-rule=\"evenodd\" fill-opacity=\"1\" /><path clip-path=\"url(#clip280)\" d=\"M 0 0 M1213.04 1347.91 L1221.86 1339.09 L1224.55 1341.77 L1215.72 1350.6 L1213.04 1347.91 Z\" fill=\"#000000\" fill-rule=\"evenodd\" fill-opacity=\"1\" /><path clip-path=\"url(#clip280)\" d=\"M 0 0 M1236.04 1340.4 L1247.58 1328.86 L1250.36 1331.64 L1234.84 1347.16 L1232.06 1344.38 Q1231.99 1340.55 1231.96 1334.03 Q1231.93 1327.48 1231.81 1325.7 Q1231.62 1322.33 1231.01 1320.48 Q1230.41 1318.6 1229.21 1317.4 Q1227.26 1315.45 1224.66 1315.6 Q1222.08 1315.73 1219.88 1317.92 Q1218.33 1319.48 1217.13 1321.75 Q1215.95 1324.01 1215.09 1327.07 L1211.75 1323.73 Q1212.94 1320.94 1214.27 1318.79 Q1215.59 1316.65 1217.03 1315.21 Q1220.83 1311.41 1224.99 1311.05 Q1229.15 1310.69 1232.32 1313.86 Q1233.83 1315.37 1234.61 1317.3 Q1235.4 1319.2 1235.74 1322.52 Q1235.81 1323.41 1235.89 1327.88 Q1235.96 1332.33 1236.04 1340.4 Z\" fill=\"#000000\" fill-rule=\"evenodd\" fill-opacity=\"1\" /><path clip-path=\"url(#clip280)\" d=\"M 0 0 M1238.75 1298.72 Q1236.2 1301.28 1237.43 1305.09 Q1238.66 1308.87 1243.7 1313.91 Q1248.72 1318.94 1252.52 1320.18 Q1256.32 1321.39 1258.87 1318.84 Q1261.44 1316.27 1260.21 1312.49 Q1258.99 1308.68 1253.96 1303.65 Q1248.92 1298.61 1245.12 1297.4 Q1241.32 1296.15 1238.75 1298.72 M1236.14 1296.11 Q1240.24 1292 1245.66 1293.09 Q1251.08 1294.16 1257.27 1300.34 Q1263.44 1306.52 1264.52 1311.95 Q1265.6 1317.35 1261.49 1321.46 Q1257.38 1325.57 1251.96 1324.5 Q1246.55 1323.41 1240.37 1317.24 Q1234.19 1311.05 1233.11 1305.65 Q1232.03 1300.21 1236.14 1296.11 Z\" fill=\"#000000\" fill-rule=\"evenodd\" fill-opacity=\"1\" /><path clip-path=\"url(#clip280)\" d=\"M 0 0 M1208.66 1474.6 L1220.2 1463.06 L1222.98 1465.84 L1207.46 1481.36 L1204.68 1478.58 Q1204.62 1474.75 1204.58 1468.23 Q1204.55 1461.69 1204.44 1459.9 Q1204.24 1456.53 1203.63 1454.68 Q1203.03 1452.8 1201.83 1451.6 Q1199.88 1449.65 1197.28 1449.8 Q1194.7 1449.93 1192.5 1452.13 Q1190.95 1453.68 1189.75 1455.96 Q1188.57 1458.22 1187.71 1461.28 L1184.37 1457.94 Q1185.56 1455.14 1186.89 1452.99 Q1188.21 1450.85 1189.65 1449.41 Q1193.45 1445.61 1197.61 1445.25 Q1201.77 1444.89 1204.94 1448.07 Q1206.45 1449.57 1207.23 1451.5 Q1208.02 1453.4 1208.36 1456.73 Q1208.43 1457.61 1208.51 1462.08 Q1208.58 1466.53 1208.66 1474.6 Z\" fill=\"#000000\" fill-rule=\"evenodd\" fill-opacity=\"1\" /><path clip-path=\"url(#clip280)\" d=\"M 0 0 M1211.38 1432.93 Q1208.82 1435.48 1210.05 1439.29 Q1211.28 1443.07 1216.32 1448.12 Q1221.34 1453.14 1225.14 1454.39 Q1228.94 1455.6 1231.49 1453.04 Q1234.06 1450.47 1232.83 1446.69 Q1231.61 1442.88 1226.58 1437.85 Q1221.54 1432.81 1217.74 1431.6 Q1213.95 1430.36 1211.38 1432.93 M1208.76 1430.31 Q1212.86 1426.2 1218.28 1427.3 Q1223.7 1428.36 1229.89 1434.55 Q1236.06 1440.72 1237.14 1446.15 Q1238.22 1451.55 1234.11 1455.66 Q1230 1459.77 1224.58 1458.71 Q1219.17 1457.61 1213 1451.44 Q1206.81 1445.25 1205.73 1439.85 Q1204.65 1434.42 1208.76 1430.31 Z\" fill=\"#000000\" fill-rule=\"evenodd\" fill-opacity=\"1\" /><path clip-path=\"url(#clip280)\" d=\"M 0 0 M1245.73 1437.53 L1257.27 1425.99 L1260.05 1428.77 L1244.54 1444.29 L1241.75 1441.5 Q1241.69 1437.67 1241.66 1431.16 Q1241.62 1424.61 1241.51 1422.83 Q1241.31 1419.46 1240.71 1417.61 Q1240.1 1415.72 1238.91 1414.53 Q1236.96 1412.58 1234.36 1412.73 Q1231.77 1412.86 1229.58 1415.05 Q1228.02 1416.61 1226.83 1418.88 Q1225.65 1421.14 1224.78 1424.2 L1221.44 1420.86 Q1222.64 1418.06 1223.96 1415.92 Q1225.29 1413.78 1226.73 1412.34 Q1230.53 1408.54 1234.68 1408.18 Q1238.84 1407.82 1242.02 1410.99 Q1243.52 1412.5 1244.31 1414.43 Q1245.09 1416.33 1245.44 1419.65 Q1245.5 1420.54 1245.58 1425 Q1245.65 1429.46 1245.73 1437.53 Z\" fill=\"#000000\" fill-rule=\"evenodd\" fill-opacity=\"1\" /><path clip-path=\"url(#clip280)\" d=\"M 0 0 M1248.45 1395.85 Q1245.9 1398.41 1247.12 1402.22 Q1248.35 1406 1253.39 1411.04 Q1258.42 1416.07 1262.21 1417.31 Q1266.01 1418.52 1268.57 1415.97 Q1271.14 1413.4 1269.91 1409.62 Q1268.68 1405.8 1263.66 1400.78 Q1258.61 1395.74 1254.82 1394.53 Q1251.02 1393.28 1248.45 1395.85 M1245.83 1393.23 Q1249.94 1389.13 1255.36 1390.22 Q1260.77 1391.29 1266.96 1397.47 Q1273.13 1403.64 1274.21 1409.08 Q1275.29 1414.48 1271.18 1418.59 Q1267.08 1422.7 1261.66 1421.63 Q1256.24 1420.54 1250.07 1414.37 Q1243.88 1408.18 1242.8 1402.78 Q1241.72 1397.34 1245.83 1393.23 Z\" fill=\"#000000\" fill-rule=\"evenodd\" fill-opacity=\"1\" /><path clip-path=\"url(#clip280)\" d=\"M 0 0 M1270.27 1397.51 L1279.09 1388.68 L1281.77 1391.37 L1272.95 1400.19 L1270.27 1397.51 Z\" fill=\"#000000\" fill-rule=\"evenodd\" fill-opacity=\"1\" /><path clip-path=\"url(#clip280)\" d=\"M 0 0 M1278.01 1366.29 Q1275.46 1368.85 1276.68 1372.66 Q1277.91 1376.44 1282.95 1381.48 Q1287.98 1386.51 1291.78 1387.75 Q1295.57 1388.96 1298.13 1386.41 Q1300.7 1383.84 1299.47 1380.06 Q1298.24 1376.24 1293.22 1371.22 Q1288.17 1366.18 1284.38 1364.97 Q1280.58 1363.72 1278.01 1366.29 M1275.39 1363.67 Q1279.5 1359.56 1284.92 1360.66 Q1290.34 1361.73 1296.52 1367.91 Q1302.69 1374.08 1303.77 1379.52 Q1304.85 1384.92 1300.75 1389.03 Q1296.64 1393.14 1291.22 1392.07 Q1285.8 1390.98 1279.63 1384.8 Q1273.44 1378.62 1272.36 1373.22 Q1271.28 1367.78 1275.39 1363.67 Z\" fill=\"#000000\" fill-rule=\"evenodd\" fill-opacity=\"1\" /><path clip-path=\"url(#clip280)\" d=\"M 0 0 M1307.77 1357.85 Q1305.41 1360.2 1305.31 1362.82 Q1305.23 1365.42 1307.44 1367.63 Q1309.65 1369.84 1312.25 1369.76 Q1314.87 1369.66 1317.23 1367.31 Q1319.59 1364.95 1319.68 1362.33 Q1319.77 1359.7 1317.57 1357.5 Q1315.36 1355.29 1312.74 1355.39 Q1310.14 1355.47 1307.77 1357.85 M1303.05 1359.74 Q1300.4 1361.35 1297.75 1361.09 Q1295.11 1360.81 1293.02 1358.71 Q1290.09 1355.78 1290.47 1352 Q1290.86 1348.21 1294.49 1344.57 Q1298.14 1340.92 1301.92 1340.55 Q1305.7 1340.17 1308.63 1343.1 Q1310.73 1345.19 1310.99 1347.85 Q1311.27 1350.48 1309.68 1353.12 Q1312.63 1351.28 1315.57 1351.58 Q1318.54 1351.86 1320.88 1354.2 Q1324.43 1357.75 1324.15 1361.82 Q1323.89 1365.88 1319.85 1369.93 Q1315.8 1373.97 1311.73 1374.25 Q1307.67 1374.51 1304.12 1370.96 Q1301.78 1368.62 1301.5 1365.65 Q1301.22 1362.69 1303.05 1359.74 M1296.62 1355.73 Q1298.52 1357.63 1300.76 1357.52 Q1303.02 1357.39 1305.16 1355.24 Q1307.29 1353.12 1307.42 1350.86 Q1307.57 1348.58 1305.67 1346.68 Q1303.77 1344.78 1301.5 1344.93 Q1299.24 1345.06 1297.11 1347.19 Q1294.97 1349.33 1294.84 1351.59 Q1294.72 1353.84 1296.62 1355.73 Z\" fill=\"#000000\" fill-rule=\"evenodd\" fill-opacity=\"1\" /><path clip-path=\"url(#clip280)\" d=\"M 0 0 M1318.86 1348.91 L1327.69 1340.09 L1330.37 1342.77 L1321.55 1351.59 L1318.86 1348.91 Z\" fill=\"#000000\" fill-rule=\"evenodd\" fill-opacity=\"1\" /><path clip-path=\"url(#clip280)\" d=\"M 0 0 M1326.61 1317.7 Q1324.05 1320.25 1325.28 1324.06 Q1326.51 1327.84 1331.55 1332.88 Q1336.58 1337.91 1340.37 1339.15 Q1344.17 1340.36 1346.72 1337.81 Q1349.29 1335.24 1348.07 1331.46 Q1346.84 1327.65 1341.81 1322.62 Q1336.77 1317.58 1332.97 1316.37 Q1329.18 1315.13 1326.61 1317.7 M1323.99 1315.08 Q1328.1 1310.97 1333.51 1312.06 Q1338.93 1313.13 1345.12 1319.32 Q1351.29 1325.49 1352.37 1330.92 Q1353.45 1336.32 1349.34 1340.43 Q1345.23 1344.54 1339.82 1343.47 Q1334.4 1342.38 1328.23 1336.21 Q1322.04 1330.02 1320.96 1324.62 Q1319.88 1319.18 1323.99 1315.08 Z\" fill=\"#000000\" fill-rule=\"evenodd\" fill-opacity=\"1\" /><path clip-path=\"url(#clip280)\" d=\"M 0 0 M1360.49 1327.32 L1357.48 1324.31 Q1359.31 1323.65 1360.9 1322.69 Q1362.49 1321.72 1363.71 1320.49 Q1366.99 1317.22 1366.51 1313.31 Q1366.04 1309.36 1361.8 1304.63 Q1362.26 1306.99 1361.55 1309.2 Q1360.85 1311.41 1359.08 1313.18 Q1355.41 1316.84 1351.06 1316.78 Q1346.71 1316.68 1342.86 1312.83 Q1339.1 1309.07 1339.05 1304.57 Q1339 1300.07 1342.7 1296.37 Q1346.94 1292.13 1352.42 1293.16 Q1357.9 1294.16 1364.09 1300.34 Q1369.87 1306.12 1370.57 1312.33 Q1371.28 1318.5 1366.64 1323.13 Q1365.4 1324.37 1363.88 1325.4 Q1362.36 1326.44 1360.49 1327.32 M1356.71 1310.38 Q1358.93 1308.15 1358.7 1305.34 Q1358.49 1302.51 1355.84 1299.85 Q1353.21 1297.22 1350.37 1297.01 Q1347.54 1296.76 1345.32 1298.99 Q1343.09 1301.21 1343.32 1304.06 Q1343.55 1306.88 1346.18 1309.51 Q1348.83 1312.16 1351.65 1312.39 Q1354.48 1312.6 1356.71 1310.38 Z\" fill=\"#000000\" fill-rule=\"evenodd\" fill-opacity=\"1\" /><path clip-path=\"url(#clip280)\" d=\"M 0 0 M1316.61 1473.47 L1328.15 1461.93 L1330.93 1464.71 L1315.42 1480.23 L1312.63 1477.45 Q1312.57 1473.62 1312.54 1467.1 Q1312.5 1460.56 1312.39 1458.77 Q1312.19 1455.4 1311.59 1453.55 Q1310.98 1451.67 1309.79 1450.47 Q1307.84 1448.53 1305.24 1448.67 Q1302.65 1448.8 1300.46 1451 Q1298.9 1452.55 1297.71 1454.83 Q1296.53 1457.09 1295.66 1460.15 L1292.32 1456.81 Q1293.52 1454.01 1294.84 1451.86 Q1296.17 1449.72 1297.61 1448.28 Q1301.41 1444.48 1305.56 1444.12 Q1309.72 1443.76 1312.9 1446.94 Q1314.4 1448.44 1315.19 1450.38 Q1315.97 1452.27 1316.32 1455.6 Q1316.38 1456.48 1316.46 1460.95 Q1316.53 1465.4 1316.61 1473.47 Z\" fill=\"#000000\" fill-rule=\"evenodd\" fill-opacity=\"1\" /><path clip-path=\"url(#clip280)\" d=\"M 0 0 M1319.33 1431.8 Q1316.77 1434.35 1318 1438.16 Q1319.23 1441.95 1324.27 1446.99 Q1329.3 1452.01 1333.09 1453.26 Q1336.89 1454.47 1339.44 1451.91 Q1342.01 1449.34 1340.79 1445.56 Q1339.56 1441.75 1334.53 1436.72 Q1329.49 1431.68 1325.7 1430.47 Q1321.9 1429.23 1319.33 1431.8 M1316.71 1429.18 Q1320.82 1425.07 1326.24 1426.17 Q1331.65 1427.23 1337.84 1433.42 Q1344.01 1439.59 1345.09 1445.02 Q1346.17 1450.42 1342.06 1454.53 Q1337.96 1458.64 1332.54 1457.58 Q1327.12 1456.48 1320.95 1450.31 Q1314.76 1444.12 1313.68 1438.72 Q1312.6 1433.29 1316.71 1429.18 Z\" fill=\"#000000\" fill-rule=\"evenodd\" fill-opacity=\"1\" /><path clip-path=\"url(#clip280)\" d=\"M 0 0 M1353.69 1436.4 L1365.22 1424.86 L1368.01 1427.64 L1352.49 1443.16 L1349.71 1440.37 Q1349.64 1436.54 1349.61 1430.03 Q1349.58 1423.48 1349.46 1421.7 Q1349.27 1418.33 1348.66 1416.48 Q1348.05 1414.59 1346.86 1413.4 Q1344.91 1411.45 1342.31 1411.6 Q1339.72 1411.73 1337.53 1413.92 Q1335.97 1415.48 1334.78 1417.75 Q1333.6 1420.01 1332.73 1423.07 L1329.39 1419.73 Q1330.59 1416.94 1331.92 1414.79 Q1333.24 1412.65 1334.68 1411.21 Q1338.48 1407.41 1342.64 1407.05 Q1346.79 1406.69 1349.97 1409.86 Q1351.48 1411.37 1352.26 1413.3 Q1353.05 1415.2 1353.39 1418.52 Q1353.46 1419.41 1353.54 1423.88 Q1353.6 1428.33 1353.69 1436.4 Z\" fill=\"#000000\" fill-rule=\"evenodd\" fill-opacity=\"1\" /><path clip-path=\"url(#clip280)\" d=\"M 0 0 M1356.4 1394.72 Q1353.85 1397.28 1355.08 1401.09 Q1356.3 1404.87 1361.35 1409.91 Q1366.37 1414.94 1370.17 1416.18 Q1373.97 1417.39 1376.52 1414.84 Q1379.09 1412.27 1377.86 1408.49 Q1376.63 1404.68 1371.61 1399.65 Q1366.57 1394.61 1362.77 1393.4 Q1358.97 1392.15 1356.4 1394.72 M1353.78 1392.1 Q1357.89 1388 1363.31 1389.09 Q1368.73 1390.16 1374.91 1396.34 Q1381.09 1402.51 1382.17 1407.95 Q1383.25 1413.35 1379.14 1417.46 Q1375.03 1421.57 1369.61 1420.5 Q1364.19 1419.41 1358.02 1413.24 Q1351.84 1407.05 1350.76 1401.65 Q1349.67 1396.21 1353.78 1392.1 Z\" fill=\"#000000\" fill-rule=\"evenodd\" fill-opacity=\"1\" /><path clip-path=\"url(#clip280)\" d=\"M 0 0 M1378.22 1396.38 L1387.04 1387.55 L1389.73 1390.24 L1380.91 1399.06 L1378.22 1396.38 Z\" fill=\"#000000\" fill-rule=\"evenodd\" fill-opacity=\"1\" /><path clip-path=\"url(#clip280)\" d=\"M 0 0 M1385.96 1365.16 Q1383.41 1367.72 1384.64 1371.53 Q1385.86 1375.31 1390.91 1380.35 Q1395.93 1385.38 1399.73 1386.62 Q1403.53 1387.83 1406.08 1385.28 Q1408.65 1382.71 1407.42 1378.93 Q1406.19 1375.11 1401.17 1370.09 Q1396.13 1365.05 1392.33 1363.84 Q1388.53 1362.59 1385.96 1365.16 M1383.34 1362.54 Q1387.45 1358.44 1392.87 1359.53 Q1398.29 1360.6 1404.48 1366.78 Q1410.65 1372.95 1411.73 1378.39 Q1412.81 1383.79 1408.7 1387.9 Q1404.59 1392.01 1399.17 1390.94 Q1393.75 1389.85 1387.58 1383.68 Q1381.4 1377.49 1380.32 1372.09 Q1379.24 1366.65 1383.34 1362.54 Z\" fill=\"#000000\" fill-rule=\"evenodd\" fill-opacity=\"1\" /><path clip-path=\"url(#clip280)\" d=\"M 0 0 M1415.72 1356.72 Q1413.36 1359.07 1413.26 1361.69 Q1413.18 1364.3 1415.39 1366.5 Q1417.6 1368.71 1420.21 1368.63 Q1422.82 1368.53 1425.18 1366.18 Q1427.54 1363.82 1427.64 1361.2 Q1427.72 1358.57 1425.52 1356.37 Q1423.32 1354.16 1420.7 1354.26 Q1418.09 1354.34 1415.72 1356.72 M1411.01 1358.62 Q1408.35 1360.22 1405.7 1359.96 Q1403.07 1359.68 1400.97 1357.58 Q1398.04 1354.65 1398.42 1350.87 Q1398.81 1347.08 1402.45 1343.44 Q1406.1 1339.79 1409.88 1339.42 Q1413.66 1339.04 1416.59 1341.97 Q1418.68 1344.06 1418.94 1346.72 Q1419.22 1349.35 1417.64 1351.99 Q1420.58 1350.15 1423.53 1350.45 Q1426.49 1350.73 1428.83 1353.07 Q1432.38 1356.62 1432.1 1360.69 Q1431.84 1364.75 1427.8 1368.8 Q1423.76 1372.84 1419.68 1373.12 Q1415.62 1373.38 1412.07 1369.83 Q1409.73 1367.49 1409.45 1364.52 Q1409.17 1361.56 1411.01 1358.62 M1404.57 1354.61 Q1406.47 1356.5 1408.71 1356.39 Q1410.97 1356.26 1413.12 1354.11 Q1415.25 1351.99 1415.38 1349.73 Q1415.52 1347.45 1413.63 1345.55 Q1411.73 1343.65 1409.45 1343.8 Q1407.19 1343.93 1405.06 1346.06 Q1402.92 1348.21 1402.79 1350.46 Q1402.67 1352.71 1404.57 1354.61 Z\" fill=\"#000000\" fill-rule=\"evenodd\" fill-opacity=\"1\" /><path clip-path=\"url(#clip280)\" d=\"M 0 0 M1426.82 1347.78 L1435.64 1338.96 L1438.32 1341.64 L1429.5 1350.46 L1426.82 1347.78 Z\" fill=\"#000000\" fill-rule=\"evenodd\" fill-opacity=\"1\" /><path clip-path=\"url(#clip280)\" d=\"M 0 0 M1449.82 1340.27 L1461.35 1328.73 L1464.14 1331.51 L1448.62 1347.03 L1445.84 1344.24 Q1445.77 1340.41 1445.74 1333.9 Q1445.71 1327.35 1445.59 1325.57 Q1445.4 1322.2 1444.79 1320.35 Q1444.18 1318.46 1442.99 1317.27 Q1441.04 1315.32 1438.44 1315.47 Q1435.85 1315.6 1433.66 1317.79 Q1432.1 1319.35 1430.91 1321.62 Q1429.73 1323.88 1428.86 1326.94 L1425.52 1323.6 Q1426.72 1320.81 1428.05 1318.66 Q1429.37 1316.52 1430.81 1315.08 Q1434.61 1311.28 1438.77 1310.92 Q1442.92 1310.56 1446.1 1313.73 Q1447.61 1315.24 1448.39 1317.17 Q1449.18 1319.07 1449.52 1322.39 Q1449.59 1323.28 1449.67 1327.75 Q1449.73 1332.2 1449.82 1340.27 Z\" fill=\"#000000\" fill-rule=\"evenodd\" fill-opacity=\"1\" /><path clip-path=\"url(#clip280)\" d=\"M 0 0 M1467.31 1327.32 L1464.3 1324.31 Q1466.13 1323.65 1467.72 1322.69 Q1469.31 1321.72 1470.54 1320.49 Q1473.81 1317.22 1473.34 1313.31 Q1472.86 1309.36 1468.62 1304.63 Q1469.08 1306.99 1468.38 1309.2 Q1467.67 1311.41 1465.9 1313.18 Q1462.24 1316.84 1457.88 1316.78 Q1453.53 1316.68 1449.68 1312.83 Q1445.92 1309.07 1445.87 1304.57 Q1445.82 1300.07 1449.52 1296.37 Q1453.76 1292.13 1459.24 1293.16 Q1464.73 1294.16 1470.91 1300.34 Q1476.69 1306.12 1477.4 1312.33 Q1478.1 1318.5 1473.47 1323.13 Q1472.22 1324.37 1470.7 1325.4 Q1469.18 1326.44 1467.31 1327.32 M1463.53 1310.38 Q1465.76 1308.15 1465.53 1305.34 Q1465.32 1302.51 1462.66 1299.85 Q1460.03 1297.22 1457.2 1297.01 Q1454.37 1296.76 1452.14 1298.99 Q1449.91 1301.21 1450.14 1304.06 Q1450.37 1306.88 1453.01 1309.51 Q1455.66 1312.16 1458.47 1312.39 Q1461.31 1312.6 1463.53 1310.38 Z\" fill=\"#000000\" fill-rule=\"evenodd\" fill-opacity=\"1\" /><path clip-path=\"url(#clip280)\" d=\"M 0 0 M1423.17 1473.73 L1434.71 1462.19 L1437.49 1464.98 L1421.98 1480.49 L1419.2 1477.71 Q1419.13 1473.88 1419.1 1467.37 Q1419.06 1460.82 1418.95 1459.03 Q1418.75 1455.66 1418.15 1453.81 Q1417.54 1451.93 1416.35 1450.74 Q1414.4 1448.79 1411.8 1448.93 Q1409.21 1449.07 1407.02 1451.26 Q1405.46 1452.81 1404.27 1455.09 Q1403.09 1457.35 1402.22 1460.41 L1398.88 1457.07 Q1400.08 1454.27 1401.4 1452.13 Q1402.73 1449.98 1404.17 1448.54 Q1407.97 1444.74 1412.12 1444.38 Q1416.28 1444.02 1419.46 1447.2 Q1420.96 1448.71 1421.75 1450.64 Q1422.53 1452.54 1422.88 1455.86 Q1422.94 1456.74 1423.03 1461.21 Q1423.09 1465.66 1423.17 1473.73 Z\" fill=\"#000000\" fill-rule=\"evenodd\" fill-opacity=\"1\" /><path clip-path=\"url(#clip280)\" d=\"M 0 0 M1425.89 1432.06 Q1423.34 1434.61 1424.56 1438.43 Q1425.79 1442.21 1430.83 1447.25 Q1435.86 1452.27 1439.66 1453.52 Q1443.45 1454.73 1446.01 1452.18 Q1448.58 1449.61 1447.35 1445.82 Q1446.12 1442.01 1441.1 1436.99 Q1436.05 1431.94 1432.26 1430.73 Q1428.46 1429.49 1425.89 1432.06 M1423.27 1429.44 Q1427.38 1425.33 1432.8 1426.43 Q1438.22 1427.49 1444.4 1433.68 Q1450.57 1439.85 1451.65 1445.28 Q1452.73 1450.69 1448.63 1454.79 Q1444.52 1458.9 1439.1 1457.84 Q1433.68 1456.74 1427.51 1450.57 Q1421.32 1444.38 1420.24 1438.98 Q1419.16 1433.55 1423.27 1429.44 Z\" fill=\"#000000\" fill-rule=\"evenodd\" fill-opacity=\"1\" /><path clip-path=\"url(#clip280)\" d=\"M 0 0 M1460.25 1436.66 L1471.79 1425.12 L1474.57 1427.9 L1459.05 1443.42 L1456.27 1440.64 Q1456.2 1436.81 1456.17 1430.29 Q1456.14 1423.74 1456.02 1421.96 Q1455.83 1418.59 1455.22 1416.74 Q1454.62 1414.86 1453.42 1413.66 Q1451.47 1411.71 1448.87 1411.86 Q1446.28 1411.99 1444.09 1414.19 Q1442.54 1415.74 1441.34 1418.02 Q1440.16 1420.27 1439.3 1423.33 L1435.96 1420 Q1437.15 1417.2 1438.48 1415.05 Q1439.8 1412.91 1441.24 1411.47 Q1445.04 1407.67 1449.2 1407.31 Q1453.36 1406.95 1456.53 1410.13 Q1458.04 1411.63 1458.82 1413.56 Q1459.61 1415.46 1459.95 1418.78 Q1460.02 1419.67 1460.1 1424.14 Q1460.16 1428.59 1460.25 1436.66 Z\" fill=\"#000000\" fill-rule=\"evenodd\" fill-opacity=\"1\" /><path clip-path=\"url(#clip280)\" d=\"M 0 0 M1462.96 1394.99 Q1460.41 1397.54 1461.64 1401.35 Q1462.87 1405.13 1467.91 1410.18 Q1472.93 1415.2 1476.73 1416.44 Q1480.53 1417.66 1483.08 1415.1 Q1485.65 1412.53 1484.42 1408.75 Q1483.19 1404.94 1478.17 1399.91 Q1473.13 1394.87 1469.33 1393.66 Q1465.53 1392.42 1462.96 1394.99 M1460.34 1392.37 Q1464.45 1388.26 1469.87 1389.35 Q1475.29 1390.42 1481.48 1396.61 Q1487.65 1402.78 1488.73 1408.21 Q1489.81 1413.61 1485.7 1417.72 Q1481.59 1421.83 1476.17 1420.77 Q1470.75 1419.67 1464.58 1413.5 Q1458.4 1407.31 1457.32 1401.91 Q1456.24 1396.47 1460.34 1392.37 Z\" fill=\"#000000\" fill-rule=\"evenodd\" fill-opacity=\"1\" /><path clip-path=\"url(#clip280)\" d=\"M 0 0 M1484.78 1396.64 L1493.6 1387.82 L1496.29 1390.5 L1487.47 1399.32 L1484.78 1396.64 Z\" fill=\"#000000\" fill-rule=\"evenodd\" fill-opacity=\"1\" /><path clip-path=\"url(#clip280)\" d=\"M 0 0 M1492.52 1365.42 Q1489.97 1367.98 1491.2 1371.79 Q1492.43 1375.57 1497.47 1380.61 Q1502.49 1385.64 1506.29 1386.88 Q1510.09 1388.09 1512.64 1385.54 Q1515.21 1382.97 1513.98 1379.19 Q1512.76 1375.38 1507.73 1370.35 Q1502.69 1365.31 1498.89 1364.1 Q1495.09 1362.85 1492.52 1365.42 M1489.91 1362.81 Q1494.01 1358.7 1499.43 1359.79 Q1504.85 1360.86 1511.04 1367.05 Q1517.21 1373.22 1518.29 1378.65 Q1519.37 1384.05 1515.26 1388.16 Q1511.15 1392.27 1505.73 1391.2 Q1500.32 1390.11 1494.15 1383.94 Q1487.96 1377.75 1486.88 1372.35 Q1485.8 1366.91 1489.91 1362.81 Z\" fill=\"#000000\" fill-rule=\"evenodd\" fill-opacity=\"1\" /><path clip-path=\"url(#clip280)\" d=\"M 0 0 M1526.41 1375.05 L1523.39 1372.04 Q1525.23 1371.38 1526.82 1370.42 Q1528.4 1369.45 1529.63 1368.22 Q1532.9 1364.95 1532.43 1361.04 Q1531.96 1357.09 1527.72 1352.36 Q1528.17 1354.72 1527.47 1356.93 Q1526.77 1359.14 1525 1360.91 Q1521.33 1364.57 1516.98 1364.51 Q1512.62 1364.41 1508.78 1360.56 Q1505.01 1356.8 1504.96 1352.3 Q1504.92 1347.8 1508.61 1344.1 Q1512.85 1339.86 1518.34 1340.89 Q1523.82 1341.89 1530.01 1348.07 Q1535.79 1353.85 1536.49 1360.06 Q1537.19 1366.23 1532.56 1370.86 Q1531.32 1372.1 1529.79 1373.13 Q1528.27 1374.17 1526.41 1375.05 M1522.63 1358.11 Q1524.85 1355.88 1524.62 1353.07 Q1524.41 1350.23 1521.76 1347.58 Q1519.12 1344.95 1516.29 1344.74 Q1513.46 1344.49 1511.23 1346.72 Q1509.01 1348.94 1509.24 1351.79 Q1509.47 1354.61 1512.1 1357.24 Q1514.75 1359.89 1517.57 1360.12 Q1520.4 1360.33 1522.63 1358.11 Z\" fill=\"#000000\" fill-rule=\"evenodd\" fill-opacity=\"1\" /><path clip-path=\"url(#clip280)\" d=\"M 0 0 M1533.31 1348.11 L1542.14 1339.28 L1544.82 1341.97 L1536 1350.79 L1533.31 1348.11 Z\" fill=\"#000000\" fill-rule=\"evenodd\" fill-opacity=\"1\" /><path clip-path=\"url(#clip280)\" d=\"M 0 0 M1554.04 1342.87 L1559.44 1337.47 L1540.79 1318.82 L1536.1 1325.88 L1533.08 1322.87 L1537.75 1315.85 L1541.06 1312.54 L1562.71 1334.19 L1568.11 1328.79 L1570.9 1331.58 L1556.82 1345.65 L1554.04 1342.87 Z\" fill=\"#000000\" fill-rule=\"evenodd\" fill-opacity=\"1\" /><path clip-path=\"url(#clip280)\" d=\"M 0 0 M1569.95 1309.31 Q1567.59 1311.67 1567.49 1314.29 Q1567.41 1316.89 1569.62 1319.1 Q1571.83 1321.31 1574.43 1321.23 Q1577.05 1321.13 1579.41 1318.78 Q1581.76 1316.42 1581.86 1313.8 Q1581.94 1311.16 1579.75 1308.97 Q1577.54 1306.76 1574.92 1306.86 Q1572.32 1306.94 1569.95 1309.31 M1565.23 1311.21 Q1562.58 1312.82 1559.93 1312.56 Q1557.29 1312.28 1555.2 1310.18 Q1552.27 1307.25 1552.64 1303.47 Q1553.04 1299.67 1556.67 1296.04 Q1560.32 1292.39 1564.1 1292.01 Q1567.88 1291.64 1570.81 1294.57 Q1572.91 1296.66 1573.17 1299.31 Q1573.45 1301.95 1571.86 1304.58 Q1574.81 1302.75 1577.75 1303.05 Q1580.72 1303.32 1583.06 1305.66 Q1586.61 1309.22 1586.33 1313.29 Q1586.07 1317.35 1582.03 1321.39 Q1577.98 1325.44 1573.91 1325.72 Q1569.85 1325.98 1566.3 1322.43 Q1563.96 1320.08 1563.68 1317.12 Q1563.4 1314.16 1565.23 1311.21 M1558.8 1307.2 Q1560.7 1309.1 1562.94 1308.99 Q1565.2 1308.86 1567.34 1306.71 Q1569.47 1304.58 1569.6 1302.33 Q1569.75 1300.05 1567.85 1298.15 Q1565.95 1296.25 1563.68 1296.4 Q1561.42 1296.53 1559.29 1298.66 Q1557.15 1300.8 1557.01 1303.06 Q1556.9 1305.3 1558.8 1307.2 Z\" fill=\"#000000\" fill-rule=\"evenodd\" fill-opacity=\"1\" /><path clip-path=\"url(#clip280)\" d=\"M 0 0 M1529.87 1473.86 L1541.4 1462.32 L1544.19 1465.11 L1528.67 1480.62 L1525.89 1477.84 Q1525.82 1474.01 1525.79 1467.5 Q1525.76 1460.95 1525.64 1459.16 Q1525.45 1455.79 1524.84 1453.94 Q1524.23 1452.06 1523.04 1450.87 Q1521.09 1448.92 1518.49 1449.07 Q1515.9 1449.2 1513.71 1451.39 Q1512.16 1452.94 1510.96 1455.22 Q1509.78 1457.48 1508.91 1460.54 L1505.58 1457.2 Q1506.77 1454.4 1508.1 1452.26 Q1509.42 1450.11 1510.86 1448.67 Q1514.66 1444.88 1518.82 1444.52 Q1522.97 1444.16 1526.15 1447.33 Q1527.66 1448.84 1528.44 1450.77 Q1529.23 1452.67 1529.57 1455.99 Q1529.64 1456.87 1529.72 1461.34 Q1529.78 1465.79 1529.87 1473.86 Z\" fill=\"#000000\" fill-rule=\"evenodd\" fill-opacity=\"1\" /><path clip-path=\"url(#clip280)\" d=\"M 0 0 M1532.58 1432.19 Q1530.03 1434.74 1531.26 1438.56 Q1532.48 1442.34 1537.53 1447.38 Q1542.55 1452.4 1546.35 1453.65 Q1550.15 1454.86 1552.7 1452.31 Q1555.27 1449.74 1554.04 1445.96 Q1552.81 1442.14 1547.79 1437.12 Q1542.75 1432.08 1538.95 1430.86 Q1535.15 1429.62 1532.58 1432.19 M1529.96 1429.57 Q1534.07 1425.46 1539.49 1426.56 Q1544.91 1427.62 1551.09 1433.81 Q1557.27 1439.98 1558.35 1445.42 Q1559.43 1450.82 1555.32 1454.93 Q1551.21 1459.03 1545.79 1457.97 Q1540.37 1456.87 1534.2 1450.7 Q1528.02 1444.52 1526.94 1439.11 Q1525.86 1433.68 1529.96 1429.57 Z\" fill=\"#000000\" fill-rule=\"evenodd\" fill-opacity=\"1\" /><path clip-path=\"url(#clip280)\" d=\"M 0 0 M1566.94 1436.79 L1578.48 1425.25 L1581.26 1428.03 L1565.74 1443.55 L1562.96 1440.77 Q1562.9 1436.94 1562.86 1430.42 Q1562.83 1423.88 1562.72 1422.09 Q1562.52 1418.72 1561.91 1416.87 Q1561.31 1414.99 1560.11 1413.79 Q1558.17 1411.84 1555.56 1411.99 Q1552.98 1412.12 1550.78 1414.32 Q1549.23 1415.87 1548.03 1418.15 Q1546.86 1420.41 1545.99 1423.47 L1542.65 1420.13 Q1543.84 1417.33 1545.17 1415.18 Q1546.5 1413.04 1547.94 1411.6 Q1551.73 1407.8 1555.89 1407.44 Q1560.05 1407.08 1563.22 1410.26 Q1564.73 1411.76 1565.52 1413.69 Q1566.3 1415.59 1566.64 1418.92 Q1566.71 1419.8 1566.79 1424.27 Q1566.86 1428.72 1566.94 1436.79 Z\" fill=\"#000000\" fill-rule=\"evenodd\" fill-opacity=\"1\" /><path clip-path=\"url(#clip280)\" d=\"M 0 0 M1569.66 1395.12 Q1567.1 1397.67 1568.33 1401.48 Q1569.56 1405.26 1574.6 1410.31 Q1579.62 1415.33 1583.42 1416.57 Q1587.22 1417.79 1589.77 1415.23 Q1592.34 1412.66 1591.11 1408.88 Q1589.89 1405.07 1584.86 1400.04 Q1579.82 1395 1576.02 1393.79 Q1572.23 1392.55 1569.66 1395.12 M1567.04 1392.5 Q1571.15 1388.39 1576.56 1389.49 Q1581.98 1390.55 1588.17 1396.74 Q1594.34 1402.91 1595.42 1408.34 Q1596.5 1413.74 1592.39 1417.85 Q1588.28 1421.96 1582.87 1420.9 Q1577.45 1419.8 1571.28 1413.63 Q1565.09 1407.44 1564.01 1402.04 Q1562.93 1396.61 1567.04 1392.5 Z\" fill=\"#000000\" fill-rule=\"evenodd\" fill-opacity=\"1\" /><path clip-path=\"url(#clip280)\" d=\"M 0 0 M1591.48 1396.77 L1600.3 1387.95 L1602.98 1390.63 L1594.16 1399.45 L1591.48 1396.77 Z\" fill=\"#000000\" fill-rule=\"evenodd\" fill-opacity=\"1\" /><path clip-path=\"url(#clip280)\" d=\"M 0 0 M1612.2 1391.53 L1617.6 1386.13 L1598.96 1367.49 L1594.26 1374.54 L1591.25 1371.53 L1595.91 1364.51 L1599.22 1361.2 L1620.87 1382.86 L1626.27 1377.46 L1629.06 1380.24 L1614.98 1394.31 L1612.2 1391.53 Z\" fill=\"#000000\" fill-rule=\"evenodd\" fill-opacity=\"1\" /><path clip-path=\"url(#clip280)\" d=\"M 0 0 M1617.45 1347.32 Q1614.9 1349.87 1616.13 1353.69 Q1617.35 1357.47 1622.39 1362.51 Q1627.42 1367.54 1631.22 1368.78 Q1635.01 1369.99 1637.57 1367.44 Q1640.14 1364.87 1638.91 1361.09 Q1637.68 1357.27 1632.66 1352.25 Q1627.62 1347.21 1623.82 1346 Q1620.02 1344.75 1617.45 1347.32 M1614.83 1344.7 Q1618.94 1340.59 1624.36 1341.69 Q1629.78 1342.75 1635.96 1348.94 Q1642.13 1355.11 1643.21 1360.55 Q1644.29 1365.95 1640.19 1370.06 Q1636.08 1374.17 1630.66 1373.1 Q1625.24 1372 1619.07 1365.83 Q1612.88 1359.65 1611.8 1354.25 Q1610.72 1348.81 1614.83 1344.7 Z\" fill=\"#000000\" fill-rule=\"evenodd\" fill-opacity=\"1\" /><path clip-path=\"url(#clip280)\" d=\"M 0 0 M1639.27 1348.97 L1648.09 1340.15 L1650.78 1342.84 L1641.95 1351.66 L1639.27 1348.97 Z\" fill=\"#000000\" fill-rule=\"evenodd\" fill-opacity=\"1\" /><path clip-path=\"url(#clip280)\" d=\"M 0 0 M1647.01 1317.76 Q1644.46 1320.31 1645.69 1324.13 Q1646.91 1327.91 1651.96 1332.95 Q1656.98 1337.98 1660.78 1339.22 Q1664.58 1340.43 1667.13 1337.88 Q1669.7 1335.31 1668.47 1331.53 Q1667.24 1327.71 1662.22 1322.69 Q1657.18 1317.65 1653.38 1316.43 Q1649.58 1315.19 1647.01 1317.76 M1644.39 1315.14 Q1648.5 1311.03 1653.92 1312.13 Q1659.34 1313.19 1665.52 1319.38 Q1671.7 1325.55 1672.78 1330.99 Q1673.86 1336.39 1669.75 1340.5 Q1665.64 1344.6 1660.22 1343.54 Q1654.8 1342.44 1648.63 1336.27 Q1642.45 1330.09 1641.37 1324.68 Q1640.28 1319.25 1644.39 1315.14 Z\" fill=\"#000000\" fill-rule=\"evenodd\" fill-opacity=\"1\" /><path clip-path=\"url(#clip280)\" d=\"M 0 0 M1676.77 1309.31 Q1674.41 1311.67 1674.31 1314.29 Q1674.23 1316.89 1676.44 1319.1 Q1678.65 1321.31 1681.25 1321.23 Q1683.87 1321.13 1686.23 1318.78 Q1688.59 1316.42 1688.69 1313.8 Q1688.77 1311.16 1686.57 1308.97 Q1684.36 1306.76 1681.75 1306.86 Q1679.14 1306.94 1676.77 1309.31 M1672.06 1311.21 Q1669.4 1312.82 1666.75 1312.56 Q1664.12 1312.28 1662.02 1310.18 Q1659.09 1307.25 1659.47 1303.47 Q1659.86 1299.67 1663.49 1296.04 Q1667.14 1292.39 1670.93 1292.01 Q1674.71 1291.64 1677.64 1294.57 Q1679.73 1296.66 1679.99 1299.31 Q1680.27 1301.95 1678.68 1304.58 Q1681.63 1302.75 1684.58 1303.05 Q1687.54 1303.32 1689.88 1305.66 Q1693.43 1309.22 1693.15 1313.29 Q1692.89 1317.35 1688.85 1321.39 Q1684.81 1325.44 1680.73 1325.72 Q1676.67 1325.98 1673.12 1322.43 Q1670.78 1320.08 1670.5 1317.12 Q1670.22 1314.16 1672.06 1311.21 M1665.62 1307.2 Q1667.52 1309.1 1669.76 1308.99 Q1672.02 1308.86 1674.17 1306.71 Q1676.29 1304.58 1676.43 1302.33 Q1676.57 1300.05 1674.67 1298.15 Q1672.78 1296.25 1670.5 1296.4 Q1668.24 1296.53 1666.11 1298.66 Q1663.97 1300.8 1663.84 1303.06 Q1663.72 1305.3 1665.62 1307.2 Z\" fill=\"#000000\" fill-rule=\"evenodd\" fill-opacity=\"1\" /><path clip-path=\"url(#clip280)\" d=\"M 0 0 M1637.82 1472.73 L1649.36 1461.19 L1652.14 1463.98 L1636.62 1479.49 L1633.84 1476.71 Q1633.78 1472.88 1633.74 1466.37 Q1633.71 1459.82 1633.6 1458.04 Q1633.4 1454.66 1632.79 1452.81 Q1632.19 1450.93 1630.99 1449.74 Q1629.05 1447.79 1626.44 1447.94 Q1623.86 1448.07 1621.66 1450.26 Q1620.11 1451.82 1618.91 1454.09 Q1617.73 1456.35 1616.87 1459.41 L1613.53 1456.07 Q1614.72 1453.27 1616.05 1451.13 Q1617.37 1448.98 1618.81 1447.54 Q1622.61 1443.75 1626.77 1443.39 Q1630.93 1443.03 1634.1 1446.2 Q1635.61 1447.71 1636.39 1449.64 Q1637.18 1451.54 1637.52 1454.86 Q1637.59 1455.74 1637.67 1460.21 Q1637.74 1464.66 1637.82 1472.73 Z\" fill=\"#000000\" fill-rule=\"evenodd\" fill-opacity=\"1\" /><path clip-path=\"url(#clip280)\" d=\"M 0 0 M1640.54 1431.06 Q1637.98 1433.61 1639.21 1437.43 Q1640.44 1441.21 1645.48 1446.25 Q1650.5 1451.28 1654.3 1452.52 Q1658.1 1453.73 1660.65 1451.18 Q1663.22 1448.61 1661.99 1444.83 Q1660.77 1441.01 1655.74 1435.99 Q1650.7 1430.95 1646.9 1429.73 Q1643.11 1428.49 1640.54 1431.06 M1637.92 1428.44 Q1642.02 1424.33 1647.44 1425.43 Q1652.86 1426.49 1659.05 1432.68 Q1665.22 1438.85 1666.3 1444.29 Q1667.38 1449.69 1663.27 1453.8 Q1659.16 1457.9 1653.74 1456.84 Q1648.33 1455.74 1642.16 1449.57 Q1635.97 1443.39 1634.89 1437.98 Q1633.81 1432.55 1637.92 1428.44 Z\" fill=\"#000000\" fill-rule=\"evenodd\" fill-opacity=\"1\" /><path clip-path=\"url(#clip280)\" d=\"M 0 0 M1674.89 1435.66 L1686.43 1424.12 L1689.21 1426.9 L1673.7 1442.42 L1670.91 1439.64 Q1670.85 1435.81 1670.82 1429.29 Q1670.78 1422.75 1670.67 1420.96 Q1670.47 1417.59 1669.87 1415.74 Q1669.26 1413.86 1668.07 1412.66 Q1666.12 1410.72 1663.52 1410.86 Q1660.93 1410.99 1658.74 1413.19 Q1657.18 1414.74 1655.99 1417.02 Q1654.81 1419.28 1653.94 1422.34 L1650.6 1419 Q1651.8 1416.2 1653.12 1414.05 Q1654.45 1411.91 1655.89 1410.47 Q1659.69 1406.67 1663.84 1406.31 Q1668 1405.95 1671.18 1409.13 Q1672.68 1410.63 1673.47 1412.56 Q1674.25 1414.46 1674.6 1417.79 Q1674.66 1418.67 1674.74 1423.14 Q1674.81 1427.59 1674.89 1435.66 Z\" fill=\"#000000\" fill-rule=\"evenodd\" fill-opacity=\"1\" /><path clip-path=\"url(#clip280)\" d=\"M 0 0 M1677.61 1393.99 Q1675.06 1396.54 1676.28 1400.35 Q1677.51 1404.14 1682.55 1409.18 Q1687.58 1414.2 1691.37 1415.45 Q1695.17 1416.66 1697.73 1414.1 Q1700.3 1411.53 1699.07 1407.75 Q1697.84 1403.94 1692.82 1398.91 Q1687.77 1393.87 1683.98 1392.66 Q1680.18 1391.42 1677.61 1393.99 M1674.99 1391.37 Q1679.1 1387.26 1684.52 1388.36 Q1689.93 1389.42 1696.12 1395.61 Q1702.29 1401.78 1703.37 1407.21 Q1704.45 1412.61 1700.34 1416.72 Q1696.24 1420.83 1690.82 1419.77 Q1685.4 1418.67 1679.23 1412.5 Q1673.04 1406.31 1671.96 1400.91 Q1670.88 1395.48 1674.99 1391.37 Z\" fill=\"#000000\" fill-rule=\"evenodd\" fill-opacity=\"1\" /><path clip-path=\"url(#clip280)\" d=\"M 0 0 M1699.43 1395.64 L1708.25 1386.82 L1710.93 1389.5 L1702.11 1398.32 L1699.43 1395.64 Z\" fill=\"#000000\" fill-rule=\"evenodd\" fill-opacity=\"1\" /><path clip-path=\"url(#clip280)\" d=\"M 0 0 M1720.15 1390.4 L1725.55 1385 L1706.91 1366.36 L1702.21 1373.41 L1699.2 1370.4 L1703.86 1363.38 L1707.17 1360.07 L1728.83 1381.73 L1734.23 1376.33 L1737.01 1379.11 L1722.93 1393.18 L1720.15 1390.4 Z\" fill=\"#000000\" fill-rule=\"evenodd\" fill-opacity=\"1\" /><path clip-path=\"url(#clip280)\" d=\"M 0 0 M1725.4 1346.19 Q1722.85 1348.75 1724.08 1352.56 Q1725.31 1356.34 1730.35 1361.38 Q1735.37 1366.41 1739.17 1367.65 Q1742.97 1368.86 1745.52 1366.31 Q1748.09 1363.74 1746.86 1359.96 Q1745.64 1356.14 1740.61 1351.12 Q1735.57 1346.08 1731.77 1344.87 Q1727.97 1343.62 1725.4 1346.19 M1722.79 1343.57 Q1726.89 1339.46 1732.31 1340.56 Q1737.73 1341.63 1743.92 1347.81 Q1750.09 1353.98 1751.17 1359.42 Q1752.25 1364.82 1748.14 1368.93 Q1744.03 1373.04 1738.61 1371.97 Q1733.2 1370.88 1727.02 1364.7 Q1720.84 1358.52 1719.76 1353.12 Q1718.68 1347.68 1722.79 1343.57 Z\" fill=\"#000000\" fill-rule=\"evenodd\" fill-opacity=\"1\" /><path clip-path=\"url(#clip280)\" d=\"M 0 0 M1747.22 1347.85 L1756.05 1339.02 L1758.73 1341.71 L1749.91 1350.53 L1747.22 1347.85 Z\" fill=\"#000000\" fill-rule=\"evenodd\" fill-opacity=\"1\" /><path clip-path=\"url(#clip280)\" d=\"M 0 0 M1770.22 1340.33 L1781.76 1328.79 L1784.54 1331.58 L1769.03 1347.09 L1766.24 1344.31 Q1766.18 1340.48 1766.14 1333.97 Q1766.11 1327.42 1766 1325.63 Q1765.8 1322.26 1765.2 1320.41 Q1764.59 1318.53 1763.39 1317.34 Q1761.45 1315.39 1758.84 1315.53 Q1756.26 1315.67 1754.06 1317.86 Q1752.51 1319.41 1751.31 1321.69 Q1750.14 1323.95 1749.27 1327.01 L1745.93 1323.67 Q1747.12 1320.87 1748.45 1318.73 Q1749.78 1316.58 1751.22 1315.14 Q1755.01 1311.34 1759.17 1310.98 Q1763.33 1310.62 1766.5 1313.8 Q1768.01 1315.31 1768.8 1317.24 Q1769.58 1319.14 1769.93 1322.46 Q1769.99 1323.34 1770.07 1327.81 Q1770.14 1332.26 1770.22 1340.33 Z\" fill=\"#000000\" fill-rule=\"evenodd\" fill-opacity=\"1\" /><path clip-path=\"url(#clip280)\" d=\"M 0 0 M1783.59 1309.31 Q1781.24 1311.67 1781.14 1314.29 Q1781.06 1316.89 1783.27 1319.1 Q1785.48 1321.31 1788.08 1321.23 Q1790.7 1321.13 1793.05 1318.78 Q1795.41 1316.42 1795.51 1313.8 Q1795.59 1311.16 1793.4 1308.97 Q1791.19 1306.76 1788.57 1306.86 Q1785.97 1306.94 1783.59 1309.31 M1778.88 1311.21 Q1776.23 1312.82 1773.58 1312.56 Q1770.94 1312.28 1768.85 1310.18 Q1765.92 1307.25 1766.29 1303.47 Q1766.68 1299.67 1770.32 1296.04 Q1773.97 1292.39 1777.75 1292.01 Q1781.53 1291.64 1784.46 1294.57 Q1786.56 1296.66 1786.82 1299.31 Q1787.1 1301.95 1785.51 1304.58 Q1788.45 1302.75 1791.4 1303.05 Q1794.36 1303.32 1796.7 1305.66 Q1800.26 1309.22 1799.98 1313.29 Q1799.72 1317.35 1795.67 1321.39 Q1791.63 1325.44 1787.55 1325.72 Q1783.49 1325.98 1779.94 1322.43 Q1777.6 1320.08 1777.32 1317.12 Q1777.05 1314.16 1778.88 1311.21 M1772.45 1307.2 Q1774.34 1309.1 1776.59 1308.99 Q1778.85 1308.86 1780.99 1306.71 Q1783.12 1304.58 1783.25 1302.33 Q1783.4 1300.05 1781.5 1298.15 Q1779.6 1296.25 1777.32 1296.4 Q1775.07 1296.53 1772.94 1298.66 Q1770.79 1300.8 1770.66 1303.06 Q1770.55 1305.3 1772.45 1307.2 Z\" fill=\"#000000\" fill-rule=\"evenodd\" fill-opacity=\"1\" /><path clip-path=\"url(#clip280)\" d=\"M 0 0 M1745.82 1471.56 L1757.36 1460.02 L1760.14 1462.8 L1744.63 1478.32 L1741.84 1475.53 Q1741.78 1471.7 1741.74 1465.19 Q1741.71 1458.64 1741.6 1456.86 Q1741.4 1453.49 1740.8 1451.64 Q1740.19 1449.75 1738.99 1448.56 Q1737.05 1446.61 1734.44 1446.76 Q1731.86 1446.89 1729.66 1449.08 Q1728.11 1450.64 1726.92 1452.91 Q1725.74 1455.17 1724.87 1458.23 L1721.53 1454.89 Q1722.72 1452.09 1724.05 1449.95 Q1725.38 1447.81 1726.82 1446.36 Q1730.61 1442.57 1734.77 1442.21 Q1738.93 1441.85 1742.1 1445.02 Q1743.61 1446.53 1744.4 1448.46 Q1745.18 1450.36 1745.53 1453.68 Q1745.59 1454.57 1745.67 1459.03 Q1745.74 1463.49 1745.82 1471.56 Z\" fill=\"#000000\" fill-rule=\"evenodd\" fill-opacity=\"1\" /><path clip-path=\"url(#clip280)\" d=\"M 0 0 M1748.54 1429.88 Q1745.98 1432.44 1747.21 1436.25 Q1748.44 1440.03 1753.48 1445.07 Q1758.51 1450.1 1762.3 1451.34 Q1766.1 1452.55 1768.65 1450 Q1771.22 1447.43 1770 1443.65 Q1768.77 1439.83 1763.74 1434.81 Q1758.7 1429.77 1754.9 1428.56 Q1751.11 1427.31 1748.54 1429.88 M1745.92 1427.26 Q1750.03 1423.15 1755.44 1424.25 Q1760.86 1425.32 1767.05 1431.5 Q1773.22 1437.67 1774.3 1443.11 Q1775.38 1448.51 1771.27 1452.62 Q1767.16 1456.73 1761.75 1455.66 Q1756.33 1454.57 1750.16 1448.39 Q1743.97 1442.21 1742.89 1436.81 Q1741.81 1431.37 1745.92 1427.26 Z\" fill=\"#000000\" fill-rule=\"evenodd\" fill-opacity=\"1\" /><path clip-path=\"url(#clip280)\" d=\"M 0 0 M1782.89 1434.48 L1794.43 1422.94 L1797.22 1425.72 L1781.7 1441.24 L1778.92 1438.46 Q1778.85 1434.63 1778.82 1428.11 Q1778.79 1421.57 1778.67 1419.78 Q1778.47 1416.41 1777.87 1414.56 Q1777.26 1412.68 1776.07 1411.48 Q1774.12 1409.54 1771.52 1409.68 Q1768.93 1409.81 1766.74 1412.01 Q1765.18 1413.56 1763.99 1415.84 Q1762.81 1418.1 1761.94 1421.16 L1758.6 1417.82 Q1759.8 1415.02 1761.12 1412.88 Q1762.45 1410.73 1763.89 1409.29 Q1767.69 1405.49 1771.85 1405.13 Q1776 1404.77 1779.18 1407.95 Q1780.68 1409.45 1781.47 1411.39 Q1782.26 1413.28 1782.6 1416.61 Q1782.66 1417.49 1782.75 1421.96 Q1782.81 1426.41 1782.89 1434.48 Z\" fill=\"#000000\" fill-rule=\"evenodd\" fill-opacity=\"1\" /><path clip-path=\"url(#clip280)\" d=\"M 0 0 M1785.61 1392.81 Q1783.06 1395.36 1784.29 1399.18 Q1785.51 1402.96 1790.55 1408 Q1795.58 1413.02 1799.38 1414.27 Q1803.17 1415.48 1805.73 1412.92 Q1808.3 1410.36 1807.07 1406.57 Q1805.84 1402.76 1800.82 1397.74 Q1795.78 1392.69 1791.98 1391.48 Q1788.18 1390.24 1785.61 1392.81 M1782.99 1390.19 Q1787.1 1386.08 1792.52 1387.18 Q1797.94 1388.24 1804.12 1394.43 Q1810.29 1400.6 1811.37 1406.03 Q1812.45 1411.44 1808.35 1415.54 Q1804.24 1419.65 1798.82 1418.59 Q1793.4 1417.49 1787.23 1411.32 Q1781.04 1405.13 1779.96 1399.73 Q1778.88 1394.3 1782.99 1390.19 Z\" fill=\"#000000\" fill-rule=\"evenodd\" fill-opacity=\"1\" /><path clip-path=\"url(#clip280)\" d=\"M 0 0 M1807.43 1394.46 L1816.25 1385.64 L1818.94 1388.32 L1810.11 1397.15 L1807.43 1394.46 Z\" fill=\"#000000\" fill-rule=\"evenodd\" fill-opacity=\"1\" /><path clip-path=\"url(#clip280)\" d=\"M 0 0 M1828.15 1389.22 L1833.55 1383.82 L1814.91 1365.18 L1810.21 1372.23 L1807.2 1369.22 L1811.87 1362.2 L1815.17 1358.89 L1836.83 1380.55 L1842.23 1375.15 L1845.01 1377.93 L1830.93 1392.01 L1828.15 1389.22 Z\" fill=\"#000000\" fill-rule=\"evenodd\" fill-opacity=\"1\" /><path clip-path=\"url(#clip280)\" d=\"M 0 0 M1846.39 1370.99 L1851.79 1365.59 L1833.14 1346.94 L1828.45 1354 L1825.43 1350.99 L1830.1 1343.97 L1833.41 1340.66 L1855.06 1362.31 L1860.46 1356.91 L1863.25 1359.7 L1849.17 1373.77 L1846.39 1370.99 Z\" fill=\"#000000\" fill-rule=\"evenodd\" fill-opacity=\"1\" /><path clip-path=\"url(#clip280)\" d=\"M 0 0 M1854.36 1347.53 L1863.18 1338.71 L1865.86 1341.4 L1857.04 1350.22 L1854.36 1347.53 Z\" fill=\"#000000\" fill-rule=\"evenodd\" fill-opacity=\"1\" /><path clip-path=\"url(#clip280)\" d=\"M 0 0 M1875.08 1342.3 L1880.48 1336.89 L1861.84 1318.25 L1857.14 1325.31 L1854.13 1322.29 L1858.79 1315.27 L1862.1 1311.97 L1883.75 1333.62 L1889.16 1328.22 L1891.94 1331 L1877.86 1345.08 L1875.08 1342.3 Z\" fill=\"#000000\" fill-rule=\"evenodd\" fill-opacity=\"1\" /><path clip-path=\"url(#clip280)\" d=\"M 0 0 M1870.25 1303.81 L1885.96 1288.1 L1887.37 1289.51 L1901.53 1321.41 L1898.08 1324.86 L1884.77 1294.86 L1873.03 1306.6 L1870.25 1303.81 Z\" fill=\"#000000\" fill-rule=\"evenodd\" fill-opacity=\"1\" /><path clip-path=\"url(#clip280)\" d=\"M 0 0 M1852.04 1472.16 L1863.58 1460.62 L1866.36 1463.4 L1850.84 1478.92 L1848.06 1476.14 Q1848 1472.31 1847.96 1465.79 Q1847.93 1459.25 1847.82 1457.46 Q1847.62 1454.09 1847.01 1452.24 Q1846.41 1450.36 1845.21 1449.16 Q1843.26 1447.22 1840.66 1447.36 Q1838.08 1447.49 1835.88 1449.69 Q1834.33 1451.24 1833.13 1453.52 Q1831.95 1455.78 1831.09 1458.84 L1827.75 1455.5 Q1828.94 1452.7 1830.27 1450.56 Q1831.59 1448.41 1833.03 1446.97 Q1836.83 1443.17 1840.99 1442.81 Q1845.15 1442.45 1848.32 1445.63 Q1849.83 1447.13 1850.61 1449.07 Q1851.4 1450.96 1851.74 1454.29 Q1851.81 1455.17 1851.89 1459.64 Q1851.96 1464.09 1852.04 1472.16 Z\" fill=\"#000000\" fill-rule=\"evenodd\" fill-opacity=\"1\" /><path clip-path=\"url(#clip280)\" d=\"M 0 0 M1854.76 1430.49 Q1852.2 1433.04 1853.43 1436.86 Q1854.66 1440.64 1859.7 1445.68 Q1864.72 1450.7 1868.52 1451.95 Q1872.32 1453.16 1874.87 1450.6 Q1877.44 1448.03 1876.21 1444.25 Q1874.99 1440.44 1869.96 1435.41 Q1864.92 1430.37 1861.12 1429.16 Q1857.33 1427.92 1854.76 1430.49 M1852.14 1427.87 Q1856.24 1423.76 1861.66 1424.86 Q1867.08 1425.92 1873.27 1432.11 Q1879.44 1438.28 1880.52 1443.71 Q1881.6 1449.11 1877.49 1453.22 Q1873.38 1457.33 1867.96 1456.27 Q1862.55 1455.17 1856.38 1449 Q1850.19 1442.81 1849.11 1437.41 Q1848.03 1431.98 1852.14 1427.87 Z\" fill=\"#000000\" fill-rule=\"evenodd\" fill-opacity=\"1\" /><path clip-path=\"url(#clip280)\" d=\"M 0 0 M1889.11 1435.09 L1900.65 1423.55 L1903.43 1426.33 L1887.92 1441.85 L1885.13 1439.06 Q1885.07 1435.23 1885.04 1428.72 Q1885 1422.17 1884.89 1420.39 Q1884.69 1417.02 1884.09 1415.17 Q1883.48 1413.28 1882.29 1412.09 Q1880.34 1410.14 1877.74 1410.29 Q1875.15 1410.42 1872.96 1412.61 Q1871.4 1414.17 1870.21 1416.44 Q1869.03 1418.7 1868.16 1421.76 L1864.82 1418.42 Q1866.02 1415.63 1867.34 1413.48 Q1868.67 1411.34 1870.11 1409.9 Q1873.91 1406.1 1878.06 1405.74 Q1882.22 1405.38 1885.4 1408.55 Q1886.9 1410.06 1887.69 1411.99 Q1888.47 1413.89 1888.82 1417.21 Q1888.88 1418.1 1888.96 1422.57 Q1889.03 1427.02 1889.11 1435.09 Z\" fill=\"#000000\" fill-rule=\"evenodd\" fill-opacity=\"1\" /><path clip-path=\"url(#clip280)\" d=\"M 0 0 M1891.83 1393.41 Q1889.28 1395.97 1890.5 1399.78 Q1891.73 1403.56 1896.77 1408.6 Q1901.8 1413.63 1905.59 1414.87 Q1909.39 1416.08 1911.95 1413.53 Q1914.52 1410.96 1913.29 1407.18 Q1912.06 1403.37 1907.04 1398.34 Q1901.99 1393.3 1898.2 1392.09 Q1894.4 1390.84 1891.83 1393.41 M1889.21 1390.8 Q1893.32 1386.69 1898.74 1387.78 Q1904.15 1388.85 1910.34 1395.03 Q1916.51 1401.21 1917.59 1406.64 Q1918.67 1412.04 1914.56 1416.15 Q1910.46 1420.26 1905.04 1419.19 Q1899.62 1418.1 1893.45 1411.93 Q1887.26 1405.74 1886.18 1400.34 Q1885.1 1394.9 1889.21 1390.8 Z\" fill=\"#000000\" fill-rule=\"evenodd\" fill-opacity=\"1\" /><path clip-path=\"url(#clip280)\" d=\"M 0 0 M1913.65 1395.07 L1922.47 1386.24 L1925.15 1388.93 L1916.33 1397.75 L1913.65 1395.07 Z\" fill=\"#000000\" fill-rule=\"evenodd\" fill-opacity=\"1\" /><path clip-path=\"url(#clip280)\" d=\"M 0 0 M1934.37 1389.83 L1939.77 1384.43 L1921.13 1365.78 L1916.43 1372.84 L1913.42 1369.83 L1918.08 1362.81 L1921.39 1359.5 L1943.04 1381.15 L1948.45 1375.75 L1951.23 1378.54 L1937.15 1392.61 L1934.37 1389.83 Z\" fill=\"#000000\" fill-rule=\"evenodd\" fill-opacity=\"1\" /><path clip-path=\"url(#clip280)\" d=\"M 0 0 M1954.88 1369.32 L1966.42 1357.78 L1969.2 1360.56 L1953.68 1376.08 L1950.9 1373.3 Q1950.84 1369.47 1950.8 1362.95 Q1950.77 1356.41 1950.66 1354.62 Q1950.46 1351.25 1949.85 1349.4 Q1949.25 1347.52 1948.05 1346.32 Q1946.11 1344.38 1943.5 1344.52 Q1940.92 1344.65 1938.72 1346.85 Q1937.17 1348.4 1935.97 1350.68 Q1934.8 1352.94 1933.93 1356 L1930.59 1352.66 Q1931.78 1349.86 1933.11 1347.71 Q1934.44 1345.57 1935.88 1344.13 Q1939.67 1340.33 1943.83 1339.97 Q1947.99 1339.61 1951.16 1342.79 Q1952.67 1344.29 1953.46 1346.22 Q1954.24 1348.12 1954.58 1351.45 Q1954.65 1352.33 1954.73 1356.8 Q1954.8 1361.25 1954.88 1369.32 Z\" fill=\"#000000\" fill-rule=\"evenodd\" fill-opacity=\"1\" /><path clip-path=\"url(#clip280)\" d=\"M 0 0 M1960.31 1348.4 L1969.14 1339.58 L1971.82 1342.26 L1963 1351.09 L1960.31 1348.4 Z\" fill=\"#000000\" fill-rule=\"evenodd\" fill-opacity=\"1\" /><path clip-path=\"url(#clip280)\" d=\"M 0 0 M1968.06 1317.19 Q1965.5 1319.74 1966.73 1323.55 Q1967.96 1327.34 1973 1332.38 Q1978.02 1337.4 1981.82 1338.65 Q1985.62 1339.86 1988.17 1337.3 Q1990.74 1334.73 1989.51 1330.95 Q1988.29 1327.14 1983.26 1322.11 Q1978.22 1317.07 1974.42 1315.86 Q1970.63 1314.62 1968.06 1317.19 M1965.44 1314.57 Q1969.54 1310.46 1974.96 1311.56 Q1980.38 1312.62 1986.57 1318.81 Q1992.74 1324.98 1993.82 1330.41 Q1994.9 1335.81 1990.79 1339.92 Q1986.68 1344.03 1981.26 1342.97 Q1975.85 1341.87 1969.68 1335.7 Q1963.49 1329.51 1962.41 1324.11 Q1961.33 1318.68 1965.44 1314.57 Z\" fill=\"#000000\" fill-rule=\"evenodd\" fill-opacity=\"1\" /><path clip-path=\"url(#clip280)\" d=\"M 0 0 M1977.07 1303.81 L1992.79 1288.1 L1994.2 1289.51 L2008.35 1321.41 L2004.9 1324.86 L1991.59 1294.86 L1979.86 1306.6 L1977.07 1303.81 Z\" fill=\"#000000\" fill-rule=\"evenodd\" fill-opacity=\"1\" /><path clip-path=\"url(#clip280)\" d=\"M 0 0 M1959.99 1471.03 L1971.53 1459.49 L1974.31 1462.27 L1958.8 1477.79 L1956.01 1475.01 Q1955.95 1471.18 1955.92 1464.66 Q1955.88 1458.12 1955.77 1456.33 Q1955.57 1452.96 1954.97 1451.11 Q1954.36 1449.23 1953.17 1448.03 Q1951.22 1446.09 1948.62 1446.23 Q1946.03 1446.36 1943.84 1448.56 Q1942.28 1450.11 1941.09 1452.39 Q1939.91 1454.65 1939.04 1457.71 L1935.7 1454.37 Q1936.9 1451.57 1938.22 1449.43 Q1939.55 1447.28 1940.99 1445.84 Q1944.79 1442.04 1948.94 1441.68 Q1953.1 1441.32 1956.28 1444.5 Q1957.78 1446 1958.57 1447.94 Q1959.35 1449.83 1959.7 1453.16 Q1959.76 1454.04 1959.84 1458.51 Q1959.91 1462.96 1959.99 1471.03 Z\" fill=\"#000000\" fill-rule=\"evenodd\" fill-opacity=\"1\" /><path clip-path=\"url(#clip280)\" d=\"M 0 0 M1962.71 1429.36 Q1960.15 1431.91 1961.38 1435.73 Q1962.61 1439.51 1967.65 1444.55 Q1972.68 1449.57 1976.47 1450.82 Q1980.27 1452.03 1982.82 1449.47 Q1985.39 1446.91 1984.17 1443.12 Q1982.94 1439.31 1977.91 1434.29 Q1972.87 1429.24 1969.08 1428.03 Q1965.28 1426.79 1962.71 1429.36 M1960.09 1426.74 Q1964.2 1422.63 1969.62 1423.73 Q1975.03 1424.79 1981.22 1430.98 Q1987.39 1437.15 1988.47 1442.58 Q1989.55 1447.99 1985.44 1452.09 Q1981.34 1456.2 1975.92 1455.14 Q1970.5 1454.04 1964.33 1447.87 Q1958.14 1441.68 1957.06 1436.28 Q1955.98 1430.85 1960.09 1426.74 Z\" fill=\"#000000\" fill-rule=\"evenodd\" fill-opacity=\"1\" /><path clip-path=\"url(#clip280)\" d=\"M 0 0 M1997.06 1433.96 L2008.6 1422.42 L2011.39 1425.2 L1995.87 1440.72 L1993.09 1437.94 Q1993.02 1434.11 1992.99 1427.59 Q1992.96 1421.04 1992.84 1419.26 Q1992.65 1415.89 1992.04 1414.04 Q1991.43 1412.16 1990.24 1410.96 Q1988.29 1409.01 1985.69 1409.16 Q1983.1 1409.29 1980.91 1411.48 Q1979.35 1413.04 1978.16 1415.31 Q1976.98 1417.57 1976.11 1420.63 L1972.77 1417.3 Q1973.97 1414.5 1975.3 1412.35 Q1976.62 1410.21 1978.06 1408.77 Q1981.86 1404.97 1986.02 1404.61 Q1990.17 1404.25 1993.35 1407.43 Q1994.86 1408.93 1995.64 1410.86 Q1996.43 1412.76 1996.77 1416.08 Q1996.84 1416.97 1996.92 1421.44 Q1996.98 1425.89 1997.06 1433.96 Z\" fill=\"#000000\" fill-rule=\"evenodd\" fill-opacity=\"1\" /><path clip-path=\"url(#clip280)\" d=\"M 0 0 M1999.78 1392.28 Q1997.23 1394.84 1998.46 1398.65 Q1999.68 1402.43 2004.73 1407.47 Q2009.75 1412.5 2013.55 1413.74 Q2017.35 1414.95 2019.9 1412.4 Q2022.47 1409.83 2021.24 1406.05 Q2020.01 1402.24 2014.99 1397.21 Q2009.95 1392.17 2006.15 1390.96 Q2002.35 1389.71 1999.78 1392.28 M1997.16 1389.67 Q2001.27 1385.56 2006.69 1386.65 Q2012.11 1387.72 2018.29 1393.91 Q2024.47 1400.08 2025.55 1405.51 Q2026.63 1410.91 2022.52 1415.02 Q2018.41 1419.13 2012.99 1418.06 Q2007.57 1416.97 2001.4 1410.8 Q1995.22 1404.61 1994.14 1399.21 Q1993.05 1393.77 1997.16 1389.67 Z\" fill=\"#000000\" fill-rule=\"evenodd\" fill-opacity=\"1\" /><path clip-path=\"url(#clip280)\" d=\"M 0 0 M2021.6 1393.94 L2030.42 1385.12 L2033.11 1387.8 L2024.29 1396.62 L2021.6 1393.94 Z\" fill=\"#000000\" fill-rule=\"evenodd\" fill-opacity=\"1\" /><path clip-path=\"url(#clip280)\" d=\"M 0 0 M2042.32 1388.7 L2047.72 1383.3 L2029.08 1364.66 L2024.38 1371.71 L2021.37 1368.7 L2026.04 1361.68 L2029.34 1358.37 L2051 1380.02 L2056.4 1374.62 L2059.18 1377.41 L2045.11 1391.48 L2042.32 1388.7 Z\" fill=\"#000000\" fill-rule=\"evenodd\" fill-opacity=\"1\" /><path clip-path=\"url(#clip280)\" d=\"M 0 0 M2062.83 1368.19 L2074.37 1356.65 L2077.15 1359.43 L2061.64 1374.95 L2058.85 1372.17 Q2058.79 1368.34 2058.76 1361.82 Q2058.72 1355.28 2058.61 1353.49 Q2058.41 1350.12 2057.81 1348.27 Q2057.2 1346.39 2056.01 1345.19 Q2054.06 1343.25 2051.46 1343.39 Q2048.87 1343.52 2046.68 1345.72 Q2045.12 1347.27 2043.93 1349.55 Q2042.75 1351.81 2041.88 1354.87 L2038.54 1351.53 Q2039.74 1348.73 2041.06 1346.58 Q2042.39 1344.44 2043.83 1343 Q2047.63 1339.2 2051.78 1338.84 Q2055.94 1338.48 2059.12 1341.66 Q2060.62 1343.16 2061.41 1345.1 Q2062.19 1346.99 2062.54 1350.32 Q2062.6 1351.2 2062.68 1355.67 Q2062.75 1360.12 2062.83 1368.19 Z\" fill=\"#000000\" fill-rule=\"evenodd\" fill-opacity=\"1\" /><path clip-path=\"url(#clip280)\" d=\"M 0 0 M2068.27 1347.27 L2077.09 1338.45 L2079.77 1341.13 L2070.95 1349.96 L2068.27 1347.27 Z\" fill=\"#000000\" fill-rule=\"evenodd\" fill-opacity=\"1\" /><path clip-path=\"url(#clip280)\" d=\"M 0 0 M2091.26 1339.76 L2102.8 1328.22 L2105.59 1331 L2090.07 1346.52 L2087.29 1343.74 Q2087.22 1339.91 2087.19 1333.39 Q2087.16 1326.84 2087.04 1325.06 Q2086.84 1321.69 2086.24 1319.84 Q2085.63 1317.96 2084.44 1316.76 Q2082.49 1314.81 2079.89 1314.96 Q2077.3 1315.09 2075.11 1317.29 Q2073.55 1318.84 2072.36 1321.12 Q2071.18 1323.37 2070.31 1326.44 L2066.97 1323.1 Q2068.17 1320.3 2069.49 1318.15 Q2070.82 1316.01 2072.26 1314.57 Q2076.06 1310.77 2080.22 1310.41 Q2084.37 1310.05 2087.55 1313.23 Q2089.05 1314.73 2089.84 1316.66 Q2090.63 1318.56 2090.97 1321.89 Q2091.03 1322.77 2091.12 1327.24 Q2091.18 1331.69 2091.26 1339.76 Z\" fill=\"#000000\" fill-rule=\"evenodd\" fill-opacity=\"1\" /><path clip-path=\"url(#clip280)\" d=\"M 0 0 M2083.9 1303.81 L2099.61 1288.1 L2101.02 1289.51 L2115.18 1321.41 L2111.72 1324.86 L2098.42 1294.86 L2086.68 1306.6 L2083.9 1303.81 Z\" fill=\"#000000\" fill-rule=\"evenodd\" fill-opacity=\"1\" /><path clip-path=\"url(#clip280)\" d=\"M 0 0 M2065.54 1472.31 L2077.08 1460.77 L2079.86 1463.55 L2064.34 1479.07 L2061.56 1476.29 Q2061.5 1472.46 2061.46 1465.94 Q2061.43 1459.39 2061.31 1457.61 Q2061.12 1454.24 2060.51 1452.39 Q2059.91 1450.51 2058.71 1449.31 Q2056.76 1447.36 2054.16 1447.51 Q2051.58 1447.64 2049.38 1449.83 Q2047.83 1451.39 2046.63 1453.67 Q2045.45 1455.92 2044.59 1458.98 L2041.25 1455.65 Q2042.44 1452.85 2043.77 1450.7 Q2045.09 1448.56 2046.53 1447.12 Q2050.33 1443.32 2054.49 1442.96 Q2058.65 1442.6 2061.82 1445.78 Q2063.33 1447.28 2064.11 1449.21 Q2064.9 1451.11 2065.24 1454.43 Q2065.31 1455.32 2065.39 1459.79 Q2065.46 1464.24 2065.54 1472.31 Z\" fill=\"#000000\" fill-rule=\"evenodd\" fill-opacity=\"1\" /><path clip-path=\"url(#clip280)\" d=\"M 0 0 M2068.26 1430.64 Q2065.7 1433.19 2066.93 1437 Q2068.16 1440.78 2073.2 1445.82 Q2078.22 1450.85 2082.02 1452.09 Q2085.82 1453.31 2088.37 1450.75 Q2090.94 1448.18 2089.71 1444.4 Q2088.49 1440.59 2083.46 1435.56 Q2078.42 1430.52 2074.62 1429.31 Q2070.82 1428.07 2068.26 1430.64 M2065.64 1428.02 Q2069.74 1423.91 2075.16 1425 Q2080.58 1426.07 2086.77 1432.26 Q2092.94 1438.43 2094.02 1443.86 Q2095.1 1449.26 2090.99 1453.37 Q2086.88 1457.48 2081.46 1456.41 Q2076.05 1455.32 2069.88 1449.15 Q2063.69 1442.96 2062.61 1437.56 Q2061.53 1432.12 2065.64 1428.02 Z\" fill=\"#000000\" fill-rule=\"evenodd\" fill-opacity=\"1\" /><path clip-path=\"url(#clip280)\" d=\"M 0 0 M2102.61 1435.23 L2114.15 1423.7 L2116.93 1426.48 L2101.42 1441.99 L2098.63 1439.21 Q2098.57 1435.38 2098.54 1428.87 Q2098.5 1422.32 2098.39 1420.54 Q2098.19 1417.16 2097.59 1415.31 Q2096.98 1413.43 2095.79 1412.24 Q2093.84 1410.29 2091.24 1410.44 Q2088.65 1410.57 2086.46 1412.76 Q2084.9 1414.32 2083.71 1416.59 Q2082.53 1418.85 2081.66 1421.91 L2078.32 1418.57 Q2079.52 1415.77 2080.84 1413.63 Q2082.17 1411.48 2083.61 1410.04 Q2087.41 1406.25 2091.56 1405.89 Q2095.72 1405.53 2098.9 1408.7 Q2100.4 1410.21 2101.19 1412.14 Q2101.97 1414.04 2102.32 1417.36 Q2102.38 1418.24 2102.46 1422.71 Q2102.53 1427.17 2102.61 1435.23 Z\" fill=\"#000000\" fill-rule=\"evenodd\" fill-opacity=\"1\" /><path clip-path=\"url(#clip280)\" d=\"M 0 0 M2118.31 1419.54 L2123.71 1414.14 L2105.07 1395.49 L2100.37 1402.55 L2097.36 1399.54 L2102.02 1392.51 L2105.33 1389.21 L2126.98 1410.86 L2132.39 1405.46 L2135.17 1408.24 L2121.09 1422.32 L2118.31 1419.54 Z\" fill=\"#000000\" fill-rule=\"evenodd\" fill-opacity=\"1\" /><path clip-path=\"url(#clip280)\" d=\"M 0 0 M2126.28 1396.08 L2135.1 1387.26 L2137.79 1389.94 L2128.96 1398.77 L2126.28 1396.08 Z\" fill=\"#000000\" fill-rule=\"evenodd\" fill-opacity=\"1\" /><path clip-path=\"url(#clip280)\" d=\"M 0 0 M2134.02 1364.87 Q2131.47 1367.42 2132.7 1371.24 Q2133.92 1375.02 2138.97 1380.06 Q2143.99 1385.08 2147.79 1386.33 Q2151.59 1387.54 2154.14 1384.98 Q2156.71 1382.41 2155.48 1378.63 Q2154.25 1374.82 2149.23 1369.79 Q2144.19 1364.75 2140.39 1363.54 Q2136.59 1362.3 2134.02 1364.87 M2131.4 1362.25 Q2135.51 1358.14 2140.93 1359.24 Q2146.35 1360.3 2152.53 1366.49 Q2158.71 1372.66 2159.79 1378.09 Q2160.87 1383.49 2156.76 1387.6 Q2152.65 1391.71 2147.23 1390.65 Q2141.81 1389.55 2135.64 1383.38 Q2129.46 1377.19 2128.38 1371.79 Q2127.29 1366.36 2131.4 1362.25 Z\" fill=\"#000000\" fill-rule=\"evenodd\" fill-opacity=\"1\" /><path clip-path=\"url(#clip280)\" d=\"M 0 0 M2166.1 1371.74 L2171.51 1366.34 L2152.86 1347.7 L2148.16 1354.75 L2145.15 1351.74 L2149.82 1344.72 L2153.12 1341.41 L2174.78 1363.07 L2180.18 1357.67 L2182.96 1360.45 L2168.89 1374.53 L2166.1 1371.74 Z\" fill=\"#000000\" fill-rule=\"evenodd\" fill-opacity=\"1\" /><path clip-path=\"url(#clip280)\" d=\"M 0 0 M2174.07 1348.29 L2182.9 1339.46 L2185.58 1342.15 L2176.76 1350.97 L2174.07 1348.29 Z\" fill=\"#000000\" fill-rule=\"evenodd\" fill-opacity=\"1\" /><path clip-path=\"url(#clip280)\" d=\"M 0 0 M2194.8 1343.05 L2200.2 1337.65 L2181.56 1319 L2176.86 1326.06 L2173.85 1323.05 L2178.51 1316.03 L2181.82 1312.72 L2203.47 1334.37 L2208.87 1328.97 L2211.66 1331.76 L2197.58 1345.83 L2194.8 1343.05 Z\" fill=\"#000000\" fill-rule=\"evenodd\" fill-opacity=\"1\" /><path clip-path=\"url(#clip280)\" d=\"M 0 0 M2209.18 1307.15 Q2206.96 1309.38 2207.17 1312.21 Q2207.4 1315.03 2210.05 1317.68 Q2212.69 1320.31 2215.52 1320.56 Q2218.35 1320.77 2220.58 1318.55 Q2222.8 1316.32 2222.57 1313.5 Q2222.34 1310.66 2219.71 1308.02 Q2217.06 1305.37 2214.23 1305.16 Q2211.41 1304.93 2209.18 1307.15 M2205.39 1290.23 L2208.4 1293.24 Q2206.57 1293.9 2204.98 1294.86 Q2203.41 1295.81 2202.16 1297.05 Q2198.89 1300.33 2199.36 1304.27 Q2199.85 1308.2 2204.08 1312.92 Q2203.62 1310.53 2204.32 1308.32 Q2205.01 1306.09 2206.76 1304.34 Q2210.44 1300.66 2214.82 1300.77 Q2219.19 1300.85 2223.03 1304.7 Q2226.8 1308.46 2226.85 1312.96 Q2226.89 1317.47 2223.2 1321.17 Q2218.96 1325.4 2213.47 1324.41 Q2207.97 1323.39 2201.8 1317.22 Q2196.01 1311.43 2195.32 1305.24 Q2194.62 1299.04 2199.25 1294.4 Q2200.49 1293.16 2202 1292.14 Q2203.52 1291.11 2205.39 1290.23 Z\" fill=\"#000000\" fill-rule=\"evenodd\" fill-opacity=\"1\" /><path clip-path=\"url(#clip280)\" d=\"M 0 0 M1248.28 1532.28 L1248.28 1512.99 L1254.14 1512.99 L1254.14 1562.52 L1248.28 1562.52 L1248.28 1557.17 Q1246.43 1560.35 1243.6 1561.91 Q1240.8 1563.44 1236.85 1563.44 Q1230.39 1563.44 1226.32 1558.28 Q1222.28 1553.13 1222.28 1544.72 Q1222.28 1536.32 1226.32 1531.16 Q1230.39 1526.01 1236.85 1526.01 Q1240.8 1526.01 1243.6 1527.57 Q1246.43 1529.1 1248.28 1532.28 M1228.32 1544.72 Q1228.32 1551.18 1230.97 1554.88 Q1233.64 1558.54 1238.29 1558.54 Q1242.93 1558.54 1245.61 1554.88 Q1248.28 1551.18 1248.28 1544.72 Q1248.28 1538.26 1245.61 1534.6 Q1242.93 1530.91 1238.29 1530.91 Q1233.64 1530.91 1230.97 1534.6 Q1228.32 1538.26 1228.32 1544.72 Z\" fill=\"#000000\" fill-rule=\"evenodd\" fill-opacity=\"1\" /><path clip-path=\"url(#clip280)\" d=\"M 0 0 M1276.48 1544.6 Q1269.38 1544.6 1266.65 1546.22 Q1263.91 1547.84 1263.91 1551.76 Q1263.91 1554.88 1265.95 1556.72 Q1268.01 1558.54 1271.55 1558.54 Q1276.42 1558.54 1279.34 1555.1 Q1282.31 1551.63 1282.31 1545.9 L1282.31 1544.6 L1276.48 1544.6 M1288.16 1542.18 L1288.16 1562.52 L1282.31 1562.52 L1282.31 1557.1 Q1280.3 1560.35 1277.31 1561.91 Q1274.32 1563.44 1269.99 1563.44 Q1264.51 1563.44 1261.27 1560.38 Q1258.05 1557.3 1258.05 1552.14 Q1258.05 1546.12 1262.06 1543.07 Q1266.1 1540.01 1274.09 1540.01 L1282.31 1540.01 L1282.31 1539.44 Q1282.31 1535.4 1279.63 1533.2 Q1276.99 1530.97 1272.18 1530.97 Q1269.13 1530.97 1266.23 1531.71 Q1263.34 1532.44 1260.66 1533.9 L1260.66 1528.49 Q1263.88 1527.25 1266.9 1526.64 Q1269.92 1526.01 1272.79 1526.01 Q1280.52 1526.01 1284.34 1530.02 Q1288.16 1534.03 1288.16 1542.18 Z\" fill=\"#000000\" fill-rule=\"evenodd\" fill-opacity=\"1\" /><path clip-path=\"url(#clip280)\" d=\"M 0 0 M1300.1 1516.75 L1300.1 1526.87 L1312.16 1526.87 L1312.16 1531.42 L1300.1 1531.42 L1300.1 1550.77 Q1300.1 1555.13 1301.27 1556.37 Q1302.48 1557.61 1306.14 1557.61 L1312.16 1557.61 L1312.16 1562.52 L1306.14 1562.52 Q1299.37 1562.52 1296.79 1560 Q1294.21 1557.45 1294.21 1550.77 L1294.21 1531.42 L1289.91 1531.42 L1289.91 1526.87 L1294.21 1526.87 L1294.21 1516.75 L1300.1 1516.75 Z\" fill=\"#000000\" fill-rule=\"evenodd\" fill-opacity=\"1\" /><path clip-path=\"url(#clip280)\" d=\"M 0 0 M1348.79 1543.23 L1348.79 1546.09 L1321.87 1546.09 Q1322.25 1552.14 1325.5 1555.32 Q1328.77 1558.47 1334.6 1558.47 Q1337.97 1558.47 1341.12 1557.65 Q1344.31 1556.82 1347.43 1555.16 L1347.43 1560.7 Q1344.28 1562.04 1340.97 1562.74 Q1337.65 1563.44 1334.25 1563.44 Q1325.72 1563.44 1320.72 1558.47 Q1315.76 1553.51 1315.76 1545.04 Q1315.76 1536.29 1320.47 1531.16 Q1325.21 1526.01 1333.23 1526.01 Q1340.42 1526.01 1344.59 1530.65 Q1348.79 1535.27 1348.79 1543.23 M1342.94 1541.51 Q1342.87 1536.7 1340.23 1533.84 Q1337.62 1530.97 1333.29 1530.97 Q1328.39 1530.97 1325.43 1533.74 Q1322.5 1536.51 1322.06 1541.54 L1342.94 1541.51 Z\" fill=\"#000000\" fill-rule=\"evenodd\" fill-opacity=\"1\" /><polyline clip-path=\"url(#clip282)\" style=\"stroke:#000000; stroke-width:2; stroke-opacity:0.1; fill:none\" points=\"\n",
       "  218.315,1229.58 2352.76,1229.58 \n",
       "  \"/>\n",
       "<polyline clip-path=\"url(#clip282)\" style=\"stroke:#000000; stroke-width:2; stroke-opacity:0.1; fill:none\" points=\"\n",
       "  218.315,920.262 2352.76,920.262 \n",
       "  \"/>\n",
       "<polyline clip-path=\"url(#clip282)\" style=\"stroke:#000000; stroke-width:2; stroke-opacity:0.1; fill:none\" points=\"\n",
       "  218.315,610.948 2352.76,610.948 \n",
       "  \"/>\n",
       "<polyline clip-path=\"url(#clip282)\" style=\"stroke:#000000; stroke-width:2; stroke-opacity:0.1; fill:none\" points=\"\n",
       "  218.315,301.633 2352.76,301.633 \n",
       "  \"/>\n",
       "<polyline clip-path=\"url(#clip280)\" style=\"stroke:#000000; stroke-width:4; stroke-opacity:1; fill:none\" points=\"\n",
       "  218.315,1264.01 218.315,47.2441 \n",
       "  \"/>\n",
       "<polyline clip-path=\"url(#clip280)\" style=\"stroke:#000000; stroke-width:4; stroke-opacity:1; fill:none\" points=\"\n",
       "  218.315,1229.58 243.929,1229.58 \n",
       "  \"/>\n",
       "<polyline clip-path=\"url(#clip280)\" style=\"stroke:#000000; stroke-width:4; stroke-opacity:1; fill:none\" points=\"\n",
       "  218.315,920.262 243.929,920.262 \n",
       "  \"/>\n",
       "<polyline clip-path=\"url(#clip280)\" style=\"stroke:#000000; stroke-width:4; stroke-opacity:1; fill:none\" points=\"\n",
       "  218.315,610.948 243.929,610.948 \n",
       "  \"/>\n",
       "<polyline clip-path=\"url(#clip280)\" style=\"stroke:#000000; stroke-width:4; stroke-opacity:1; fill:none\" points=\"\n",
       "  218.315,301.633 243.929,301.633 \n",
       "  \"/>\n",
       "<path clip-path=\"url(#clip280)\" d=\"M 0 0 M115.985 1249.37 L123.624 1249.37 L123.624 1223 L115.313 1224.67 L115.313 1220.41 L123.577 1218.74 L128.253 1218.74 L128.253 1249.37 L135.892 1249.37 L135.892 1253.3 L115.985 1253.3 L115.985 1249.37 Z\" fill=\"#000000\" fill-rule=\"evenodd\" fill-opacity=\"1\" /><path clip-path=\"url(#clip280)\" d=\"M 0 0 M150.961 1221.82 Q147.35 1221.82 145.522 1225.39 Q143.716 1228.93 143.716 1236.06 Q143.716 1243.17 145.522 1246.73 Q147.35 1250.27 150.961 1250.27 Q154.596 1250.27 156.401 1246.73 Q158.23 1243.17 158.23 1236.06 Q158.23 1228.93 156.401 1225.39 Q154.596 1221.82 150.961 1221.82 M150.961 1218.12 Q156.772 1218.12 159.827 1222.73 Q162.906 1227.31 162.906 1236.06 Q162.906 1244.79 159.827 1249.39 Q156.772 1253.98 150.961 1253.98 Q145.151 1253.98 142.073 1249.39 Q139.017 1244.79 139.017 1236.06 Q139.017 1227.31 142.073 1222.73 Q145.151 1218.12 150.961 1218.12 Z\" fill=\"#000000\" fill-rule=\"evenodd\" fill-opacity=\"1\" /><path clip-path=\"url(#clip280)\" d=\"M 0 0 M172.611 1200.32 Q169.677 1200.32 168.191 1203.21 Q166.724 1206.09 166.724 1211.88 Q166.724 1217.66 168.191 1220.55 Q169.677 1223.43 172.611 1223.43 Q175.563 1223.43 177.03 1220.55 Q178.516 1217.66 178.516 1211.88 Q178.516 1206.09 177.03 1203.21 Q175.563 1200.32 172.611 1200.32 M172.611 1197.31 Q177.331 1197.31 179.814 1201.05 Q182.315 1204.77 182.315 1211.88 Q182.315 1218.97 179.814 1222.72 Q177.331 1226.44 172.611 1226.44 Q167.89 1226.44 165.388 1222.72 Q162.906 1218.97 162.906 1211.88 Q162.906 1204.77 165.388 1201.05 Q167.89 1197.31 172.611 1197.31 Z\" fill=\"#000000\" fill-rule=\"evenodd\" fill-opacity=\"1\" /><path clip-path=\"url(#clip280)\" d=\"M 0 0 M117.565 940.055 L125.203 940.055 L125.203 913.689 L116.893 915.356 L116.893 911.097 L125.157 909.43 L129.833 909.43 L129.833 940.055 L137.472 940.055 L137.472 943.99 L117.565 943.99 L117.565 940.055 Z\" fill=\"#000000\" fill-rule=\"evenodd\" fill-opacity=\"1\" /><path clip-path=\"url(#clip280)\" d=\"M 0 0 M152.541 912.509 Q148.93 912.509 147.101 916.073 Q145.296 919.615 145.296 926.745 Q145.296 933.851 147.101 937.416 Q148.93 940.958 152.541 940.958 Q156.175 940.958 157.981 937.416 Q159.81 933.851 159.81 926.745 Q159.81 919.615 157.981 916.073 Q156.175 912.509 152.541 912.509 M152.541 908.805 Q158.351 908.805 161.407 913.411 Q164.486 917.995 164.486 926.745 Q164.486 935.472 161.407 940.078 Q158.351 944.661 152.541 944.661 Q146.731 944.661 143.652 940.078 Q140.597 935.472 140.597 926.745 Q140.597 917.995 143.652 913.411 Q146.731 908.805 152.541 908.805 Z\" fill=\"#000000\" fill-rule=\"evenodd\" fill-opacity=\"1\" /><path clip-path=\"url(#clip280)\" d=\"M 0 0 M169.056 913.382 L182.315 913.382 L182.315 916.58 L164.486 916.58 L164.486 913.382 Q166.648 911.144 170.372 907.383 Q174.115 903.602 175.074 902.511 Q176.899 900.461 177.613 899.051 Q178.347 897.621 178.347 896.248 Q178.347 894.01 176.767 892.6 Q175.206 891.189 172.686 891.189 Q170.899 891.189 168.905 891.81 Q166.931 892.43 164.674 893.691 L164.674 889.854 Q166.968 888.932 168.962 888.462 Q170.955 887.992 172.611 887.992 Q176.974 887.992 179.569 890.173 Q182.165 892.355 182.165 896.004 Q182.165 897.734 181.507 899.295 Q180.867 900.837 179.156 902.944 Q178.685 903.489 176.165 906.104 Q173.645 908.699 169.056 913.382 Z\" fill=\"#000000\" fill-rule=\"evenodd\" fill-opacity=\"1\" /><path clip-path=\"url(#clip280)\" d=\"M 0 0 M114.931 630.74 L122.57 630.74 L122.57 604.374 L114.26 606.041 L114.26 601.782 L122.524 600.115 L127.2 600.115 L127.2 630.74 L134.839 630.74 L134.839 634.675 L114.931 634.675 L114.931 630.74 Z\" fill=\"#000000\" fill-rule=\"evenodd\" fill-opacity=\"1\" /><path clip-path=\"url(#clip280)\" d=\"M 0 0 M149.908 603.194 Q146.297 603.194 144.468 606.759 Q142.663 610.3 142.663 617.43 Q142.663 624.536 144.468 628.101 Q146.297 631.643 149.908 631.643 Q153.542 631.643 155.348 628.101 Q157.177 624.536 157.177 617.43 Q157.177 610.3 155.348 606.759 Q153.542 603.194 149.908 603.194 M149.908 599.49 Q155.718 599.49 158.774 604.097 Q161.852 608.68 161.852 617.43 Q161.852 626.157 158.774 630.763 Q155.718 635.347 149.908 635.347 Q144.098 635.347 141.019 630.763 Q137.964 626.157 137.964 617.43 Q137.964 608.68 141.019 604.097 Q144.098 599.49 149.908 599.49 Z\" fill=\"#000000\" fill-rule=\"evenodd\" fill-opacity=\"1\" /><path clip-path=\"url(#clip280)\" d=\"M 0 0 M174.529 582.495 L164.937 597.485 L174.529 597.485 L174.529 582.495 M173.532 579.185 L178.309 579.185 L178.309 597.485 L182.315 597.485 L182.315 600.645 L178.309 600.645 L178.309 607.265 L174.529 607.265 L174.529 600.645 L161.852 600.645 L161.852 596.977 L173.532 579.185 Z\" fill=\"#000000\" fill-rule=\"evenodd\" fill-opacity=\"1\" /><path clip-path=\"url(#clip280)\" d=\"M 0 0 M116.003 321.425 L123.642 321.425 L123.642 295.06 L115.332 296.726 L115.332 292.467 L123.596 290.801 L128.272 290.801 L128.272 321.425 L135.911 321.425 L135.911 325.361 L116.003 325.361 L116.003 321.425 Z\" fill=\"#000000\" fill-rule=\"evenodd\" fill-opacity=\"1\" /><path clip-path=\"url(#clip280)\" d=\"M 0 0 M150.98 293.879 Q147.369 293.879 145.54 297.444 Q143.735 300.986 143.735 308.115 Q143.735 315.222 145.54 318.786 Q147.369 322.328 150.98 322.328 Q154.614 322.328 156.42 318.786 Q158.249 315.222 158.249 308.115 Q158.249 300.986 156.42 297.444 Q154.614 293.879 150.98 293.879 M150.98 290.176 Q156.79 290.176 159.846 294.782 Q162.925 299.365 162.925 308.115 Q162.925 316.842 159.846 321.448 Q156.79 326.032 150.98 326.032 Q145.17 326.032 142.091 321.448 Q139.036 316.842 139.036 308.115 Q139.036 299.365 142.091 294.782 Q145.17 290.176 150.98 290.176 Z\" fill=\"#000000\" fill-rule=\"evenodd\" fill-opacity=\"1\" /><path clip-path=\"url(#clip280)\" d=\"M 0 0 M172.949 282.396 Q170.391 282.396 168.887 284.145 Q167.401 285.894 167.401 288.941 Q167.401 291.969 168.887 293.737 Q170.391 295.486 172.949 295.486 Q175.507 295.486 176.993 293.737 Q178.497 291.969 178.497 288.941 Q178.497 285.894 176.993 284.145 Q175.507 282.396 172.949 282.396 M180.491 270.491 L180.491 273.951 Q179.062 273.274 177.595 272.917 Q176.146 272.56 174.717 272.56 Q170.955 272.56 168.962 275.099 Q166.987 277.638 166.705 282.772 Q167.815 281.136 169.488 280.271 Q171.162 279.387 173.175 279.387 Q177.407 279.387 179.852 281.964 Q182.315 284.521 182.315 288.941 Q182.315 293.267 179.757 295.881 Q177.2 298.496 172.949 298.496 Q168.078 298.496 165.501 294.772 Q162.925 291.029 162.925 283.938 Q162.925 277.28 166.084 273.331 Q169.244 269.362 174.567 269.362 Q175.996 269.362 177.444 269.644 Q178.911 269.927 180.491 270.491 Z\" fill=\"#000000\" fill-rule=\"evenodd\" fill-opacity=\"1\" /><path clip-path=\"url(#clip280)\" d=\"M 0 0 M29.7248 707.637 L35.1993 707.637 Q33.8307 710.12 33.1623 712.634 Q32.4621 715.117 32.4621 717.663 Q32.4621 723.36 36.0905 726.511 Q39.6872 729.662 46.212 729.662 Q52.7369 729.662 56.3653 726.511 Q59.9619 723.36 59.9619 717.663 Q59.9619 715.117 59.2935 712.634 Q58.5933 710.12 57.2247 707.637 L62.6355 707.637 Q63.7814 710.088 64.3543 712.729 Q64.9272 715.339 64.9272 718.299 Q64.9272 726.352 59.8664 731.095 Q54.8057 735.837 46.212 735.837 Q37.491 735.837 32.4939 731.063 Q27.4968 726.257 27.4968 717.918 Q27.4968 715.212 28.0697 712.634 Q28.6108 710.056 29.7248 707.637 Z\" fill=\"#000000\" fill-rule=\"evenodd\" fill-opacity=\"1\" /><path clip-path=\"url(#clip280)\" d=\"M 0 0 M46.0847 685.293 Q46.0847 692.391 47.7079 695.128 Q49.3312 697.866 53.2461 697.866 Q56.3653 697.866 58.2114 695.828 Q60.0256 693.76 60.0256 690.227 Q60.0256 685.357 56.5881 682.429 Q53.1188 679.469 47.3897 679.469 L46.0847 679.469 L46.0847 685.293 M43.6657 673.612 L64.0042 673.612 L64.0042 679.469 L58.5933 679.469 Q61.8398 681.474 63.3994 684.466 Q64.9272 687.458 64.9272 691.786 Q64.9272 697.261 61.8716 700.507 Q58.7843 703.722 53.6281 703.722 Q47.6125 703.722 44.5569 699.712 Q41.5014 695.669 41.5014 687.68 L41.5014 679.469 L40.9285 679.469 Q36.8862 679.469 34.6901 682.142 Q32.4621 684.784 32.4621 689.59 Q32.4621 692.646 33.1941 695.542 Q33.9262 698.438 35.3903 701.112 L29.9795 701.112 Q28.7381 697.897 28.1334 694.874 Q27.4968 691.85 27.4968 688.985 Q27.4968 681.251 31.5072 677.432 Q35.5176 673.612 43.6657 673.612 Z\" fill=\"#000000\" fill-rule=\"evenodd\" fill-opacity=\"1\" /><path clip-path=\"url(#clip280)\" d=\"M 0 0 M29.4065 644.744 L34.9447 644.744 Q33.6716 647.226 33.035 649.9 Q32.3984 652.574 32.3984 655.438 Q32.3984 659.799 33.7352 661.995 Q35.072 664.159 37.7456 664.159 Q39.7826 664.159 40.9603 662.6 Q42.1061 661.04 43.1565 656.329 L43.6021 654.324 Q44.9389 648.086 47.3897 645.476 Q49.8086 642.834 54.1691 642.834 Q59.1344 642.834 62.0308 646.781 Q64.9272 650.696 64.9272 657.571 Q64.9272 660.435 64.3543 663.554 Q63.8132 666.642 62.6992 670.079 L56.6518 670.079 Q58.3387 666.833 59.198 663.682 Q60.0256 660.531 60.0256 657.443 Q60.0256 653.306 58.6251 651.078 Q57.1929 648.85 54.6147 648.85 Q52.2276 648.85 50.9545 650.473 Q49.6813 652.064 48.5037 657.507 L48.0262 659.544 Q46.8804 664.987 44.5251 667.406 Q42.138 669.825 38.0002 669.825 Q32.9713 669.825 30.2341 666.26 Q27.4968 662.695 27.4968 656.138 Q27.4968 652.892 27.9743 650.027 Q28.4517 647.163 29.4065 644.744 Z\" fill=\"#000000\" fill-rule=\"evenodd\" fill-opacity=\"1\" /><path clip-path=\"url(#clip280)\" d=\"M 0 0 M44.7161 606.199 L47.5806 606.199 L47.5806 633.126 Q53.6281 632.744 56.8109 629.498 Q59.9619 626.219 59.9619 620.395 Q59.9619 617.021 59.1344 613.87 Q58.3069 610.687 56.6518 607.568 L62.1899 607.568 Q63.5267 610.719 64.227 614.029 Q64.9272 617.339 64.9272 620.745 Q64.9272 629.275 59.9619 634.272 Q54.9967 639.237 46.5303 639.237 Q37.7774 639.237 32.6531 634.527 Q27.4968 629.784 27.4968 621.764 Q27.4968 614.57 32.1438 610.401 Q36.7589 606.199 44.7161 606.199 M42.9973 612.056 Q38.1912 612.119 35.3266 614.761 Q32.4621 617.371 32.4621 621.7 Q32.4621 626.601 35.2312 629.561 Q38.0002 632.49 43.0292 632.935 L42.9973 612.056 Z\" fill=\"#000000\" fill-rule=\"evenodd\" fill-opacity=\"1\" /><path clip-path=\"url(#clip280)\" d=\"M 0 0 M29.4065 577.331 L34.9447 577.331 Q33.6716 579.813 33.035 582.487 Q32.3984 585.161 32.3984 588.025 Q32.3984 592.386 33.7352 594.582 Q35.072 596.746 37.7456 596.746 Q39.7826 596.746 40.9603 595.187 Q42.1061 593.627 43.1565 588.916 L43.6021 586.911 Q44.9389 580.673 47.3897 578.063 Q49.8086 575.421 54.1691 575.421 Q59.1344 575.421 62.0308 579.368 Q64.9272 583.283 64.9272 590.158 Q64.9272 593.022 64.3543 596.142 Q63.8132 599.229 62.6992 602.666 L56.6518 602.666 Q58.3387 599.42 59.198 596.269 Q60.0256 593.118 60.0256 590.03 Q60.0256 585.893 58.6251 583.665 Q57.1929 581.437 54.6147 581.437 Q52.2276 581.437 50.9545 583.06 Q49.6813 584.651 48.5037 590.094 L48.0262 592.131 Q46.8804 597.574 44.5251 599.993 Q42.138 602.412 38.0002 602.412 Q32.9713 602.412 30.2341 598.847 Q27.4968 595.282 27.4968 588.725 Q27.4968 585.479 27.9743 582.614 Q28.4517 579.75 29.4065 577.331 Z\" fill=\"#000000\" fill-rule=\"evenodd\" fill-opacity=\"1\" /><polyline clip-path=\"url(#clip282)\" style=\"stroke:#009af9; stroke-width:4; stroke-opacity:1; fill:none\" points=\"\n",
       "  278.724,1229.58 284.065,1229.58 289.406,1183.02 294.748,1183.02 300.089,1121.48 305.43,1121.48 310.771,1121.48 316.112,1109.23 321.453,1109.23 326.795,1089.91 \n",
       "  332.136,1089.91 337.477,1089.91 342.818,1068.52 348.159,1068.52 353.501,1068.52 358.842,1062.67 364.183,1062.67 369.524,1062.67 374.865,1062.67 380.206,1062.67 \n",
       "  385.548,1057.3 390.889,1057.3 396.23,1052.32 401.571,1052.32 406.912,1052.32 412.253,1052.32 417.595,1052.32 422.936,1052.32 428.277,1052.32 433.618,1052.32 \n",
       "  438.959,1043.35 444.3,1043.35 449.642,1043.35 454.983,1043.35 460.324,1043.35 465.665,1043.35 471.006,1039.28 476.348,1039.28 481.689,1013.38 487.03,996.795 \n",
       "  492.371,960.417 497.712,940.487 503.053,915.718 508.395,879.306 513.736,862.305 519.077,826.648 524.418,809.656 529.759,800.591 535.1,782.121 540.442,756.393 \n",
       "  545.783,734.627 551.124,712.069 556.465,692.309 561.806,687.228 567.148,661.961 572.489,639.758 577.83,616.775 583.171,589.984 588.512,564.29 593.853,546.704 \n",
       "  599.195,527 604.536,508.249 609.877,494.335 615.218,481.372 620.559,465.882 625.9,452.769 631.242,441.295 636.583,431.839 641.924,422.254 647.265,412.37 \n",
       "  652.606,401.959 657.948,392.949 663.289,384.994 668.63,377.855 673.971,371.886 679.312,366.14 684.653,360.947 689.995,356.062 695.336,350.842 700.677,346.197 \n",
       "  706.018,342.502 711.359,339.219 716.7,336.126 722.042,332.971 727.383,330.3 732.724,327.278 738.065,324.104 743.406,321.532 748.747,319.216 754.089,316.662 \n",
       "  759.43,314.519 764.771,312.211 770.112,309.622 775.453,307.22 780.795,305.037 786.136,303.19 791.477,301.58 796.818,299.951 802.159,298.241 807.5,296.4 \n",
       "  812.842,294.265 818.183,292.638 823.524,291.226 828.865,289.854 834.206,288.486 839.547,287.143 844.889,285.675 850.23,284.269 855.571,282.977 860.912,282.024 \n",
       "  866.253,281.065 871.595,279.939 876.936,278.954 882.277,277.681 887.618,276.528 892.959,275.42 898.3,274.59 903.642,273.592 908.983,272.669 914.324,271.686 \n",
       "  919.665,270.587 925.006,269.594 930.347,268.719 935.689,267.899 941.03,267.144 946.371,266.359 951.712,265.626 957.053,264.754 962.395,263.812 967.736,262.914 \n",
       "  973.077,262.201 978.418,261.553 983.759,260.763 989.1,260.041 994.442,259.263 999.783,258.361 1005.12,257.619 1010.47,256.997 1015.81,256.39 1021.15,255.764 \n",
       "  1026.49,255.051 1031.83,254.279 1037.17,253.459 1042.51,252.638 1047.85,252.027 1053.19,251.394 1058.54,250.645 1063.88,249.8 1069.22,248.92 1074.56,247.96 \n",
       "  1079.9,246.992 1085.24,246.248 1090.58,245.308 1095.92,244.24 1101.27,243.223 1106.61,242.098 1111.95,240.837 1117.29,239.723 1122.63,238.643 1127.97,237.567 \n",
       "  1133.31,236.376 1138.65,235.071 1143.99,233.674 1149.34,232.432 1154.68,231.345 1160.02,230.159 1165.36,229.168 1170.7,227.797 1176.04,226.465 1181.38,225.109 \n",
       "  1186.72,223.662 1192.07,222.411 1197.41,221.215 1202.75,220.031 1208.09,218.689 1213.43,217.371 1218.77,215.934 1224.11,214.593 1229.45,213.453 1234.79,212.369 \n",
       "  1240.14,211.274 1245.48,210.155 1250.82,208.952 1256.16,207.806 1261.5,206.599 1266.84,205.548 1272.18,204.672 1277.52,203.779 1282.87,202.747 1288.21,201.649 \n",
       "  1293.55,200.635 1298.89,199.617 1304.23,198.796 1309.57,198.138 1314.91,197.486 1320.25,196.654 1325.59,195.892 1330.94,195.071 1336.28,194.261 1341.62,193.531 \n",
       "  1346.96,192.919 1352.3,192.288 1357.64,191.659 1362.98,190.931 1368.32,190.272 1373.67,189.441 1379.01,188.851 1384.35,188.362 1389.69,187.907 1395.03,187.354 \n",
       "  1400.37,186.776 1405.71,186.246 1411.05,185.662 1416.39,185.149 1421.74,184.744 1427.08,184.314 1432.42,183.846 1437.76,183.321 1443.1,182.802 1448.44,182.267 \n",
       "  1453.78,181.784 1459.12,181.397 1464.47,181 1469.81,180.537 1475.15,180.086 1480.49,179.603 1485.83,179.054 1491.17,178.591 1496.51,178.255 1501.85,178.004 \n",
       "  1507.19,177.712 1512.54,177.355 1517.88,176.975 1523.22,176.476 1528.56,176.05 1533.9,175.696 1539.24,175.343 1544.58,174.94 1549.92,174.545 1555.26,174.089 \n",
       "  1560.61,173.597 1565.95,173.178 1571.29,172.799 1576.63,172.289 1581.97,171.901 1587.31,171.523 1592.65,171.069 1597.99,170.607 1603.34,170.183 1608.68,169.828 \n",
       "  1614.02,169.515 1619.36,169.11 1624.7,168.744 1630.04,168.322 1635.38,167.818 1640.72,167.374 1646.06,167.05 1651.41,166.694 1656.75,166.289 1662.09,165.835 \n",
       "  1667.43,165.316 1672.77,164.822 1678.11,164.342 1683.45,163.944 1688.79,163.583 1694.14,163.137 1699.48,162.629 1704.82,162.082 1710.16,161.504 1715.5,161.033 \n",
       "  1720.84,160.626 1726.18,160.071 1731.52,159.568 1736.86,159.059 1742.21,158.449 1747.55,157.8 1752.89,157.151 1758.23,156.668 1763.57,156.148 1768.91,155.561 \n",
       "  1774.25,154.959 1779.59,154.276 1784.94,153.539 1790.28,152.878 1795.62,152.114 1800.96,151.499 1806.3,150.594 1811.64,149.858 1816.98,148.959 1822.32,148.081 \n",
       "  1827.66,147.218 1833.01,146.446 1838.35,145.648 1843.69,144.731 1849.03,143.787 1854.37,142.742 1859.71,141.615 1865.05,140.584 1870.39,139.758 1875.74,138.785 \n",
       "  1881.08,137.82 1886.42,136.814 1891.76,135.72 1897.1,134.605 1902.44,133.611 1907.78,132.809 1913.12,131.869 1918.46,130.937 1923.81,129.977 1929.15,129.398 \n",
       "  1934.49,128.331 1939.83,127.544 1945.17,126.844 1950.51,126.051 1955.85,125.135 1961.19,124.162 1966.54,123.108 1971.88,122.024 1977.22,121.036 1982.56,120.216 \n",
       "  1987.9,119.344 1993.24,118.355 1998.58,117.39 2003.92,116.4 2009.26,115.391 2014.61,114.489 2019.95,113.717 2025.29,112.931 2030.63,112.09 2035.97,111.115 \n",
       "  2041.31,110.18 2046.65,109.212 2051.99,108.483 2057.34,107.776 2062.68,107.036 2068.02,106.309 2073.36,105.475 2078.7,104.78 2084.04,104.434 2089.38,103.63 \n",
       "  2094.72,103.084 2100.06,102.478 2105.41,101.793 2110.75,101.002 2116.09,100.214 2121.43,99.7062 2126.77,98.7157 2132.11,98.0363 2137.45,97.4432 2142.79,96.6971 \n",
       "  2148.14,95.8951 2153.48,95.0319 2158.82,94.1327 2164.16,93.3363 2169.5,92.6947 2174.84,92.0573 2180.18,91.3898 2185.52,90.7182 2190.86,90.0387 2196.21,89.3496 \n",
       "  2201.55,88.7803 2206.89,88.2811 2212.23,87.8826 2217.57,87.3912 2222.91,86.888 2228.25,86.3601 2233.59,85.8444 2238.94,85.386 2244.28,85.035 2249.62,84.6327 \n",
       "  2254.96,84.2446 2260.3,83.8433 2265.64,83.4023 2270.98,82.9707 2276.32,82.6037 2281.66,82.3161 2287.01,81.9724 2292.35,81.681 \n",
       "  \"/>\n",
       "<path clip-path=\"url(#clip280)\" d=\"\n",
       "M1993.43 208.763 L2281.61 208.763 L2281.61 87.8031 L1993.43 87.8031  Z\n",
       "  \" fill=\"#ffffff\" fill-rule=\"evenodd\" fill-opacity=\"1\"/>\n",
       "<polyline clip-path=\"url(#clip280)\" style=\"stroke:#000000; stroke-width:4; stroke-opacity:1; fill:none\" points=\"\n",
       "  1993.43,208.763 2281.61,208.763 2281.61,87.8031 1993.43,87.8031 1993.43,208.763 \n",
       "  \"/>\n",
       "<polyline clip-path=\"url(#clip280)\" style=\"stroke:#009af9; stroke-width:4; stroke-opacity:1; fill:none\" points=\"\n",
       "  2017.15,148.283 2159.44,148.283 \n",
       "  \"/>\n",
       "<path clip-path=\"url(#clip280)\" d=\"M 0 0 M2197 167.97 Q2195.19 172.6 2193.48 174.012 Q2191.77 175.424 2188.9 175.424 L2185.5 175.424 L2185.5 171.859 L2188 171.859 Q2189.75 171.859 2190.73 171.026 Q2191.7 170.193 2192.88 167.091 L2193.64 165.146 L2183.16 139.637 L2187.67 139.637 L2195.77 159.915 L2203.88 139.637 L2208.39 139.637 L2197 167.97 Z\" fill=\"#000000\" fill-rule=\"evenodd\" fill-opacity=\"1\" /><path clip-path=\"url(#clip280)\" d=\"M 0 0 M2214.27 161.628 L2221.91 161.628 L2221.91 135.262 L2213.6 136.929 L2213.6 132.67 L2221.86 131.003 L2226.54 131.003 L2226.54 161.628 L2234.18 161.628 L2234.18 165.563 L2214.27 165.563 L2214.27 161.628 Z\" fill=\"#000000\" fill-rule=\"evenodd\" fill-opacity=\"1\" /></svg>\n"
      ]
     },
     "execution_count": 51,
     "metadata": {},
     "output_type": "execute_result"
    }
   ],
   "source": [
    "plot(dates, US_data,\n",
    "    xticks = dates[1:20:end], xrotation = 45,\n",
    "    yscale = :log10)\n",
    "\n",
    "xlabel!(\"date\")\n",
    "ylabel!(\"cases\")"
   ]
  },
  {
   "cell_type": "code",
   "execution_count": 54,
   "metadata": {},
   "outputs": [
    {
     "data": {
      "text/plain": [
       "f (generic function with 1 method)"
      ]
     },
     "execution_count": 54,
     "metadata": {},
     "output_type": "execute_result"
    }
   ],
   "source": [
    "function f(country)\n",
    "    @show country\n",
    "end"
   ]
  },
  {
   "cell_type": "code",
   "execution_count": 55,
   "metadata": {},
   "outputs": [
    {
     "name": "stdout",
     "output_type": "stream",
     "text": [
      "country = \"US\"\n"
     ]
    },
    {
     "data": {
      "text/plain": [
       "\"US\""
      ]
     },
     "execution_count": 55,
     "metadata": {},
     "output_type": "execute_result"
    }
   ],
   "source": [
    "f(\"US\")"
   ]
  },
  {
   "cell_type": "code",
   "execution_count": null,
   "metadata": {},
   "outputs": [],
   "source": []
  }
 ],
 "metadata": {
  "@webio": {
   "lastCommId": "3c48bb6c-a081-4019-ab35-16452099c8c3",
   "lastKernelId": "069ae361-7acb-430b-a203-f46895d8a54d"
  },
  "kernelspec": {
   "display_name": "Julia 1.5.3",
   "language": "julia",
   "name": "julia-1.5"
  },
  "language_info": {
   "file_extension": ".jl",
   "mimetype": "application/julia",
   "name": "julia",
   "version": "1.5.3"
  }
 },
 "nbformat": 4,
 "nbformat_minor": 5
}
